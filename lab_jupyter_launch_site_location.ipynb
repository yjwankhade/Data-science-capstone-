{
  "cells": [
    {
      "cell_type": "markdown",
      "metadata": {
        "id": "3n3ltmfnrqpi",
        "outputId": "a2d4f52a-2fb7-4668-f5f0-fe862aab8eb0",
        "papermill": {
          "duration": 1.489571,
          "end_time": "2020-09-19T06:26:57.168979",
          "exception": false,
          "start_time": "2020-09-19T06:26:55.679408",
          "status": "completed"
        },
        "tags": []
      },
      "source": [
        "<p style=\"text-align:center\">\n",
        "    <a href=\"https://skills.network/?utm_medium=Exinfluencer&utm_source=Exinfluencer&utm_content=000026UJ&utm_term=10006555&utm_id=NA-SkillsNetwork-Channel-SkillsNetworkCoursesIBMDS0321ENSkillsNetwork26802033-2022-01-01\" target=\"_blank\">\n",
        "    <img src=\"https://cf-courses-data.s3.us.cloud-object-storage.appdomain.cloud/assets/logos/SN_web_lightmode.png\" width=\"200\" alt=\"Skills Network Logo\"  />\n",
        "    </a>\n",
        "</p>\n"
      ]
    },
    {
      "cell_type": "markdown",
      "metadata": {
        "id": "A9icQODGNVm_"
      },
      "source": [
        "# **Launch Sites Locations Analysis with Folium**\n"
      ]
    },
    {
      "cell_type": "markdown",
      "metadata": {
        "id": "9kcqgYYZNVnB"
      },
      "source": [
        "Estimated time needed: **40** minutes\n"
      ]
    },
    {
      "cell_type": "markdown",
      "metadata": {
        "id": "eMofC5wZNVnC"
      },
      "source": [
        "The launch success rate may depend on many factors such as payload mass, orbit type, and so on. It may also depend on the location and proximities of a launch site, i.e., the initial position of rocket trajectories. Finding an optimal location for building a launch site certainly involves many factors and hopefully we could discover some of the factors by analyzing the existing launch site locations.\n"
      ]
    },
    {
      "cell_type": "markdown",
      "metadata": {
        "id": "JYxD83pwNVnD"
      },
      "source": [
        "In the previous exploratory data analysis labs, you have visualized the SpaceX launch dataset using `matplotlib` and `seaborn` and discovered some preliminary correlations between the launch site and success rates. In this lab, you will be performing more interactive visual analytics using `Folium`.\n"
      ]
    },
    {
      "cell_type": "markdown",
      "metadata": {
        "id": "1eABQNDnNVnE"
      },
      "source": [
        "## Objectives\n"
      ]
    },
    {
      "cell_type": "markdown",
      "metadata": {
        "id": "R62nYyy1NVnF"
      },
      "source": [
        "This lab contains the following tasks:\n",
        "\n",
        "*   **TASK 1:** Mark all launch sites on a map\n",
        "*   **TASK 2:** Mark the success/failed launches for each site on the map\n",
        "*   **TASK 3:** Calculate the distances between a launch site to its proximities\n",
        "\n",
        "After completed the above tasks, you should be able to find some geographical patterns about launch sites.\n"
      ]
    },
    {
      "cell_type": "markdown",
      "metadata": {
        "id": "2ldep7bJNVnH"
      },
      "source": [
        "Let's first import required Python packages for this lab:\n"
      ]
    },
    {
      "cell_type": "code",
      "execution_count": 1,
      "metadata": {
        "colab": {
          "base_uri": "https://localhost:8080/"
        },
        "id": "-rTeonODNVnJ",
        "outputId": "b2895c34-0c4d-4f36-b36d-dfe8e060d9da"
      },
      "outputs": [
        {
          "metadata": {
            "tags": null
          },
          "name": "stdout",
          "output_type": "stream",
          "text": [
            "Looking in indexes: https://pypi.org/simple, https://us-python.pkg.dev/colab-wheels/public/simple/\n",
            "Requirement already satisfied: folium in /usr/local/lib/python3.7/dist-packages (0.12.1.post1)\n",
            "Requirement already satisfied: jinja2>=2.9 in /usr/local/lib/python3.7/dist-packages (from folium) (2.11.3)\n",
            "Requirement already satisfied: numpy in /usr/local/lib/python3.7/dist-packages (from folium) (1.21.6)\n",
            "Requirement already satisfied: branca>=0.3.0 in /usr/local/lib/python3.7/dist-packages (from folium) (0.5.0)\n",
            "Requirement already satisfied: requests in /usr/local/lib/python3.7/dist-packages (from folium) (2.23.0)\n",
            "Requirement already satisfied: MarkupSafe>=0.23 in /usr/local/lib/python3.7/dist-packages (from jinja2>=2.9->folium) (2.0.1)\n",
            "Requirement already satisfied: chardet<4,>=3.0.2 in /usr/local/lib/python3.7/dist-packages (from requests->folium) (3.0.4)\n",
            "Requirement already satisfied: urllib3!=1.25.0,!=1.25.1,<1.26,>=1.21.1 in /usr/local/lib/python3.7/dist-packages (from requests->folium) (1.24.3)\n",
            "Requirement already satisfied: certifi>=2017.4.17 in /usr/local/lib/python3.7/dist-packages (from requests->folium) (2022.6.15)\n",
            "Requirement already satisfied: idna<3,>=2.5 in /usr/local/lib/python3.7/dist-packages (from requests->folium) (2.10)\n",
            "Looking in indexes: https://pypi.org/simple, https://us-python.pkg.dev/colab-wheels/public/simple/\n",
            "Collecting wget\n",
            "  Downloading wget-3.2.zip (10 kB)\n",
            "Building wheels for collected packages: wget\n",
            "  Building wheel for wget (setup.py) ... \u001b[?25l\u001b[?25hdone\n",
            "  Created wheel for wget: filename=wget-3.2-py3-none-any.whl size=9675 sha256=682e7b4e689f46be45b56a172289218b15e5fa08b86ee0f24e7642ba7f833004\n",
            "  Stored in directory: /root/.cache/pip/wheels/a1/b6/7c/0e63e34eb06634181c63adacca38b79ff8f35c37e3c13e3c02\n",
            "Successfully built wget\n",
            "Installing collected packages: wget\n",
            "Successfully installed wget-3.2\n"
          ]
        }
      ],
      "source": [
        "!pip3 install folium\n",
        "!pip3 install wget"
      ]
    },
    {
      "cell_type": "code",
      "execution_count": 9,
      "metadata": {
        "id": "U5zmKou1NVnK"
      },
      "outputs": [],
      "source": [
        "import folium\n",
        "import wget\n",
        "import pandas as pd"
      ]
    },
    {
      "cell_type": "code",
      "execution_count": 3,
      "metadata": {
        "id": "75fBEXJBNVnL"
      },
      "outputs": [],
      "source": [
        "# Import folium MarkerCluster plugin\n",
        "from folium.plugins import MarkerCluster\n",
        "# Import folium MousePosition plugin\n",
        "from folium.plugins import MousePosition\n",
        "# Import folium DivIcon plugin\n",
        "from folium.features import DivIcon"
      ]
    },
    {
      "cell_type": "markdown",
      "metadata": {
        "id": "n2K1rLFUNVnM"
      },
      "source": [
        "If you need to refresh your memory about folium, you may download and refer to this previous folium lab:\n"
      ]
    },
    {
      "cell_type": "markdown",
      "metadata": {
        "id": "NJdr0fFlNVnN"
      },
      "source": [
        "[Generating Maps with Python](https://cf-courses-data.s3.us.cloud-object-storage.appdomain.cloud/IBM-DS0321EN-SkillsNetwork/labs/module\\_3/DV0101EN-3-5-1-Generating-Maps-in-Python-py-v2.0.ipynb)\n"
      ]
    },
    {
      "cell_type": "markdown",
      "metadata": {
        "id": "qGaxuVndNVnO"
      },
      "source": [
        "## Task 1: Mark all launch sites on a map\n"
      ]
    },
    {
      "cell_type": "markdown",
      "metadata": {
        "id": "B1WNfYrmNVnO"
      },
      "source": [
        "First, let's try to add each site's location on a map using site's latitude and longitude coordinates\n"
      ]
    },
    {
      "cell_type": "markdown",
      "metadata": {
        "id": "vrPZjMmhNVnP"
      },
      "source": [
        "The following dataset with the name `spacex_launch_geo.csv` is an augmented dataset with latitude and longitude added for each site.\n"
      ]
    },
    {
      "cell_type": "code",
      "execution_count": 4,
      "metadata": {
        "id": "3su_ZAivNVnQ"
      },
      "outputs": [],
      "source": [
        "# Download and read the `spacex_launch_geo.csv`\n",
        "spacex_csv_file = wget.download('https://cf-courses-data.s3.us.cloud-object-storage.appdomain.cloud/IBM-DS0321EN-SkillsNetwork/datasets/spacex_launch_geo.csv')\n",
        "spacex_df=pd.read_csv(spacex_csv_file)"
      ]
    },
    {
      "cell_type": "markdown",
      "metadata": {
        "id": "thPo-vvtNVnQ"
      },
      "source": [
        "Now, you can take a look at what are the coordinates for each site.\n"
      ]
    },
    {
      "cell_type": "code",
      "execution_count": 5,
      "metadata": {
        "colab": {
          "base_uri": "https://localhost:8080/",
          "height": 175
        },
        "id": "CQj5qW4uNVnQ",
        "outputId": "0a979487-c438-4dae-fa89-5e7958e66244"
      },
      "outputs": [
        {
          "data": {
            "text/html": [
              "\n",
              "  <div id=\"df-823c5e03-6d96-496e-8ef2-00ed730f6cab\">\n",
              "    <div class=\"colab-df-container\">\n",
              "      <div>\n",
              "<style scoped>\n",
              "    .dataframe tbody tr th:only-of-type {\n",
              "        vertical-align: middle;\n",
              "    }\n",
              "\n",
              "    .dataframe tbody tr th {\n",
              "        vertical-align: top;\n",
              "    }\n",
              "\n",
              "    .dataframe thead th {\n",
              "        text-align: right;\n",
              "    }\n",
              "</style>\n",
              "<table border=\"1\" class=\"dataframe\">\n",
              "  <thead>\n",
              "    <tr style=\"text-align: right;\">\n",
              "      <th></th>\n",
              "      <th>Launch Site</th>\n",
              "      <th>Lat</th>\n",
              "      <th>Long</th>\n",
              "    </tr>\n",
              "  </thead>\n",
              "  <tbody>\n",
              "    <tr>\n",
              "      <th>0</th>\n",
              "      <td>CCAFS LC-40</td>\n",
              "      <td>28.562302</td>\n",
              "      <td>-80.577356</td>\n",
              "    </tr>\n",
              "    <tr>\n",
              "      <th>1</th>\n",
              "      <td>CCAFS SLC-40</td>\n",
              "      <td>28.563197</td>\n",
              "      <td>-80.576820</td>\n",
              "    </tr>\n",
              "    <tr>\n",
              "      <th>2</th>\n",
              "      <td>KSC LC-39A</td>\n",
              "      <td>28.573255</td>\n",
              "      <td>-80.646895</td>\n",
              "    </tr>\n",
              "    <tr>\n",
              "      <th>3</th>\n",
              "      <td>VAFB SLC-4E</td>\n",
              "      <td>34.632834</td>\n",
              "      <td>-120.610745</td>\n",
              "    </tr>\n",
              "  </tbody>\n",
              "</table>\n",
              "</div>\n",
              "      <button class=\"colab-df-convert\" onclick=\"convertToInteractive('df-823c5e03-6d96-496e-8ef2-00ed730f6cab')\"\n",
              "              title=\"Convert this dataframe to an interactive table.\"\n",
              "              style=\"display:none;\">\n",
              "        \n",
              "  <svg xmlns=\"http://www.w3.org/2000/svg\" height=\"24px\"viewBox=\"0 0 24 24\"\n",
              "       width=\"24px\">\n",
              "    <path d=\"M0 0h24v24H0V0z\" fill=\"none\"/>\n",
              "    <path d=\"M18.56 5.44l.94 2.06.94-2.06 2.06-.94-2.06-.94-.94-2.06-.94 2.06-2.06.94zm-11 1L8.5 8.5l.94-2.06 2.06-.94-2.06-.94L8.5 2.5l-.94 2.06-2.06.94zm10 10l.94 2.06.94-2.06 2.06-.94-2.06-.94-.94-2.06-.94 2.06-2.06.94z\"/><path d=\"M17.41 7.96l-1.37-1.37c-.4-.4-.92-.59-1.43-.59-.52 0-1.04.2-1.43.59L10.3 9.45l-7.72 7.72c-.78.78-.78 2.05 0 2.83L4 21.41c.39.39.9.59 1.41.59.51 0 1.02-.2 1.41-.59l7.78-7.78 2.81-2.81c.8-.78.8-2.07 0-2.86zM5.41 20L4 18.59l7.72-7.72 1.47 1.35L5.41 20z\"/>\n",
              "  </svg>\n",
              "      </button>\n",
              "      \n",
              "  <style>\n",
              "    .colab-df-container {\n",
              "      display:flex;\n",
              "      flex-wrap:wrap;\n",
              "      gap: 12px;\n",
              "    }\n",
              "\n",
              "    .colab-df-convert {\n",
              "      background-color: #E8F0FE;\n",
              "      border: none;\n",
              "      border-radius: 50%;\n",
              "      cursor: pointer;\n",
              "      display: none;\n",
              "      fill: #1967D2;\n",
              "      height: 32px;\n",
              "      padding: 0 0 0 0;\n",
              "      width: 32px;\n",
              "    }\n",
              "\n",
              "    .colab-df-convert:hover {\n",
              "      background-color: #E2EBFA;\n",
              "      box-shadow: 0px 1px 2px rgba(60, 64, 67, 0.3), 0px 1px 3px 1px rgba(60, 64, 67, 0.15);\n",
              "      fill: #174EA6;\n",
              "    }\n",
              "\n",
              "    [theme=dark] .colab-df-convert {\n",
              "      background-color: #3B4455;\n",
              "      fill: #D2E3FC;\n",
              "    }\n",
              "\n",
              "    [theme=dark] .colab-df-convert:hover {\n",
              "      background-color: #434B5C;\n",
              "      box-shadow: 0px 1px 3px 1px rgba(0, 0, 0, 0.15);\n",
              "      filter: drop-shadow(0px 1px 2px rgba(0, 0, 0, 0.3));\n",
              "      fill: #FFFFFF;\n",
              "    }\n",
              "  </style>\n",
              "\n",
              "      <script>\n",
              "        const buttonEl =\n",
              "          document.querySelector('#df-823c5e03-6d96-496e-8ef2-00ed730f6cab button.colab-df-convert');\n",
              "        buttonEl.style.display =\n",
              "          google.colab.kernel.accessAllowed ? 'block' : 'none';\n",
              "\n",
              "        async function convertToInteractive(key) {\n",
              "          const element = document.querySelector('#df-823c5e03-6d96-496e-8ef2-00ed730f6cab');\n",
              "          const dataTable =\n",
              "            await google.colab.kernel.invokeFunction('convertToInteractive',\n",
              "                                                     [key], {});\n",
              "          if (!dataTable) return;\n",
              "\n",
              "          const docLinkHtml = 'Like what you see? Visit the ' +\n",
              "            '<a target=\"_blank\" href=https://colab.research.google.com/notebooks/data_table.ipynb>data table notebook</a>'\n",
              "            + ' to learn more about interactive tables.';\n",
              "          element.innerHTML = '';\n",
              "          dataTable['output_type'] = 'display_data';\n",
              "          await google.colab.output.renderOutput(dataTable, element);\n",
              "          const docLink = document.createElement('div');\n",
              "          docLink.innerHTML = docLinkHtml;\n",
              "          element.appendChild(docLink);\n",
              "        }\n",
              "      </script>\n",
              "    </div>\n",
              "  </div>\n",
              "  "
            ],
            "text/plain": [
              "    Launch Site        Lat        Long\n",
              "0   CCAFS LC-40  28.562302  -80.577356\n",
              "1  CCAFS SLC-40  28.563197  -80.576820\n",
              "2    KSC LC-39A  28.573255  -80.646895\n",
              "3   VAFB SLC-4E  34.632834 -120.610745"
            ]
          },
          "execution_count": 5,
          "metadata": {},
          "output_type": "execute_result"
        }
      ],
      "source": [
        "# Select relevant sub-columns: `Launch Site`, `Lat(Latitude)`, `Long(Longitude)`, `class`\n",
        "spacex_df = spacex_df[['Launch Site', 'Lat', 'Long', 'class']]\n",
        "launch_sites_df = spacex_df.groupby(['Launch Site'], as_index=False).first()\n",
        "launch_sites_df = launch_sites_df[['Launch Site', 'Lat', 'Long']]\n",
        "launch_sites_df"
      ]
    },
    {
      "cell_type": "markdown",
      "metadata": {
        "id": "uDoPaUSPNVnR"
      },
      "source": [
        "Above coordinates are just plain numbers that can not give you any intuitive insights about where are those launch sites. If you are very good at geography, you can interpret those numbers directly in your mind. If not, that's fine too. Let's visualize those locations by pinning them on a map.\n"
      ]
    },
    {
      "cell_type": "markdown",
      "metadata": {
        "id": "sRP6ai8vNVnS"
      },
      "source": [
        "We first need to create a folium `Map` object, with an initial center location to be NASA Johnson Space Center at Houston, Texas.\n"
      ]
    },
    {
      "cell_type": "code",
      "execution_count": 6,
      "metadata": {
        "id": "lDC6znUtNVnS"
      },
      "outputs": [],
      "source": [
        "# Start location is NASA Johnson Space Center\n",
        "nasa_coordinate = [29.559684888503615, -95.0830971930759]\n",
        "site_map = folium.Map(location=nasa_coordinate, zoom_start=10)"
      ]
    },
    {
      "cell_type": "markdown",
      "metadata": {
        "id": "zlskC6L2NVnS"
      },
      "source": [
        "We could use `folium.Circle` to add a highlighted circle area with a text label on a specific coordinate. For example,\n"
      ]
    },
    {
      "cell_type": "code",
      "execution_count": 7,
      "metadata": {
        "colab": {
          "base_uri": "https://localhost:8080/",
          "height": 520
        },
        "id": "_J8wKDXcNVnT",
        "outputId": "790b6894-2918-4181-b309-ef4ea0d74562"
      },
      "outputs": [
        {
          "data": {
            "text/html": [
              "<div style=\"width:100%;\"><div style=\"position:relative;width:100%;height:0;padding-bottom:60%;\"><span style=\"color:#565656\">Make this Notebook Trusted to load map: File -> Trust Notebook</span><iframe srcdoc=\"&lt;!DOCTYPE html&gt;\n",
              "&lt;head&gt;    \n",
              "    &lt;meta http-equiv=&quot;content-type&quot; content=&quot;text/html; charset=UTF-8&quot; /&gt;\n",
              "    \n",
              "        &lt;script&gt;\n",
              "            L_NO_TOUCH = false;\n",
              "            L_DISABLE_3D = false;\n",
              "        &lt;/script&gt;\n",
              "    \n",
              "    &lt;style&gt;html, body {width: 100%;height: 100%;margin: 0;padding: 0;}&lt;/style&gt;\n",
              "    &lt;style&gt;#map {position:absolute;top:0;bottom:0;right:0;left:0;}&lt;/style&gt;\n",
              "    &lt;script src=&quot;https://cdn.jsdelivr.net/npm/leaflet@1.6.0/dist/leaflet.js&quot;&gt;&lt;/script&gt;\n",
              "    &lt;script src=&quot;https://code.jquery.com/jquery-1.12.4.min.js&quot;&gt;&lt;/script&gt;\n",
              "    &lt;script src=&quot;https://maxcdn.bootstrapcdn.com/bootstrap/3.2.0/js/bootstrap.min.js&quot;&gt;&lt;/script&gt;\n",
              "    &lt;script src=&quot;https://cdnjs.cloudflare.com/ajax/libs/Leaflet.awesome-markers/2.0.2/leaflet.awesome-markers.js&quot;&gt;&lt;/script&gt;\n",
              "    &lt;link rel=&quot;stylesheet&quot; href=&quot;https://cdn.jsdelivr.net/npm/leaflet@1.6.0/dist/leaflet.css&quot;/&gt;\n",
              "    &lt;link rel=&quot;stylesheet&quot; href=&quot;https://maxcdn.bootstrapcdn.com/bootstrap/3.2.0/css/bootstrap.min.css&quot;/&gt;\n",
              "    &lt;link rel=&quot;stylesheet&quot; href=&quot;https://maxcdn.bootstrapcdn.com/bootstrap/3.2.0/css/bootstrap-theme.min.css&quot;/&gt;\n",
              "    &lt;link rel=&quot;stylesheet&quot; href=&quot;https://maxcdn.bootstrapcdn.com/font-awesome/4.6.3/css/font-awesome.min.css&quot;/&gt;\n",
              "    &lt;link rel=&quot;stylesheet&quot; href=&quot;https://cdnjs.cloudflare.com/ajax/libs/Leaflet.awesome-markers/2.0.2/leaflet.awesome-markers.css&quot;/&gt;\n",
              "    &lt;link rel=&quot;stylesheet&quot; href=&quot;https://cdn.jsdelivr.net/gh/python-visualization/folium/folium/templates/leaflet.awesome.rotate.min.css&quot;/&gt;\n",
              "    \n",
              "            &lt;meta name=&quot;viewport&quot; content=&quot;width=device-width,\n",
              "                initial-scale=1.0, maximum-scale=1.0, user-scalable=no&quot; /&gt;\n",
              "            &lt;style&gt;\n",
              "                #map_34e0e3bcfcf74af231e44a9e9ecf532c {\n",
              "                    position: relative;\n",
              "                    width: 100.0%;\n",
              "                    height: 100.0%;\n",
              "                    left: 0.0%;\n",
              "                    top: 0.0%;\n",
              "                }\n",
              "            &lt;/style&gt;\n",
              "        \n",
              "&lt;/head&gt;\n",
              "&lt;body&gt;    \n",
              "    \n",
              "            &lt;div class=&quot;folium-map&quot; id=&quot;map_34e0e3bcfcf74af231e44a9e9ecf532c&quot; &gt;&lt;/div&gt;\n",
              "        \n",
              "&lt;/body&gt;\n",
              "&lt;script&gt;    \n",
              "    \n",
              "            var map_34e0e3bcfcf74af231e44a9e9ecf532c = L.map(\n",
              "                &quot;map_34e0e3bcfcf74af231e44a9e9ecf532c&quot;,\n",
              "                {\n",
              "                    center: [29.559684888503615, -95.0830971930759],\n",
              "                    crs: L.CRS.EPSG3857,\n",
              "                    zoom: 10,\n",
              "                    zoomControl: true,\n",
              "                    preferCanvas: false,\n",
              "                }\n",
              "            );\n",
              "\n",
              "            \n",
              "\n",
              "        \n",
              "    \n",
              "            var tile_layer_7c31f7ac56df9aa3959629f261b87a8c = L.tileLayer(\n",
              "                &quot;https://{s}.tile.openstreetmap.org/{z}/{x}/{y}.png&quot;,\n",
              "                {&quot;attribution&quot;: &quot;Data by \\u0026copy; \\u003ca href=\\&quot;http://openstreetmap.org\\&quot;\\u003eOpenStreetMap\\u003c/a\\u003e, under \\u003ca href=\\&quot;http://www.openstreetmap.org/copyright\\&quot;\\u003eODbL\\u003c/a\\u003e.&quot;, &quot;detectRetina&quot;: false, &quot;maxNativeZoom&quot;: 18, &quot;maxZoom&quot;: 18, &quot;minZoom&quot;: 0, &quot;noWrap&quot;: false, &quot;opacity&quot;: 1, &quot;subdomains&quot;: &quot;abc&quot;, &quot;tms&quot;: false}\n",
              "            ).addTo(map_34e0e3bcfcf74af231e44a9e9ecf532c);\n",
              "        \n",
              "    \n",
              "            var circle_091d1549ed91446cb9e5eb8272ef6aaa = L.circle(\n",
              "                [29.559684888503615, -95.0830971930759],\n",
              "                {&quot;bubblingMouseEvents&quot;: true, &quot;color&quot;: &quot;#d35400&quot;, &quot;dashArray&quot;: null, &quot;dashOffset&quot;: null, &quot;fill&quot;: true, &quot;fillColor&quot;: &quot;#d35400&quot;, &quot;fillOpacity&quot;: 0.2, &quot;fillRule&quot;: &quot;evenodd&quot;, &quot;lineCap&quot;: &quot;round&quot;, &quot;lineJoin&quot;: &quot;round&quot;, &quot;opacity&quot;: 1.0, &quot;radius&quot;: 1000, &quot;stroke&quot;: true, &quot;weight&quot;: 3}\n",
              "            ).addTo(map_34e0e3bcfcf74af231e44a9e9ecf532c);\n",
              "        \n",
              "    \n",
              "        var popup_4678d16f3e3525fd393cd6949b4adbd3 = L.popup({&quot;maxWidth&quot;: &quot;100%&quot;});\n",
              "\n",
              "        \n",
              "            var html_1e9a2c98bb775d9084f433f822f64669 = $(`&lt;div id=&quot;html_1e9a2c98bb775d9084f433f822f64669&quot; style=&quot;width: 100.0%; height: 100.0%;&quot;&gt;NASA Johnson Space Center&lt;/div&gt;`)[0];\n",
              "            popup_4678d16f3e3525fd393cd6949b4adbd3.setContent(html_1e9a2c98bb775d9084f433f822f64669);\n",
              "        \n",
              "\n",
              "        circle_091d1549ed91446cb9e5eb8272ef6aaa.bindPopup(popup_4678d16f3e3525fd393cd6949b4adbd3)\n",
              "        ;\n",
              "\n",
              "        \n",
              "    \n",
              "    \n",
              "            var marker_6df51aa567acbcd45fa32a09793ccf87 = L.marker(\n",
              "                [29.559684888503615, -95.0830971930759],\n",
              "                {}\n",
              "            ).addTo(map_34e0e3bcfcf74af231e44a9e9ecf532c);\n",
              "        \n",
              "    \n",
              "            var div_icon_498bdc286d988cf56be7a45c0a161a4b = L.divIcon({&quot;className&quot;: &quot;empty&quot;, &quot;html&quot;: &quot;\\u003cdiv style=\\&quot;font-size: 12; color:#d35400;\\&quot;\\u003e\\u003cb\\u003eNASA JSC\\u003c/b\\u003e\\u003c/div\\u003e&quot;, &quot;iconAnchor&quot;: [0, 0], &quot;iconSize&quot;: [20, 20]});\n",
              "            marker_6df51aa567acbcd45fa32a09793ccf87.setIcon(div_icon_498bdc286d988cf56be7a45c0a161a4b);\n",
              "        \n",
              "&lt;/script&gt;\" style=\"position:absolute;width:100%;height:100%;left:0;top:0;border:none !important;\" allowfullscreen webkitallowfullscreen mozallowfullscreen></iframe></div></div>"
            ],
            "text/plain": [
              "<folium.folium.Map at 0x7f584d8853d0>"
            ]
          },
          "execution_count": 7,
          "metadata": {},
          "output_type": "execute_result"
        }
      ],
      "source": [
        "# Create a blue circle at NASA Johnson Space Center's coordinate with a popup label showing its name\n",
        "circle = folium.Circle(nasa_coordinate, radius=1000, color='#d35400', fill=True).add_child(folium.Popup('NASA Johnson Space Center'))\n",
        "# Create a blue circle at NASA Johnson Space Center's coordinate with a icon showing its name\n",
        "marker = folium.map.Marker(\n",
        "    nasa_coordinate,\n",
        "    # Create an icon as a text label\n",
        "    icon=DivIcon(\n",
        "        icon_size=(20,20),\n",
        "        icon_anchor=(0,0),\n",
        "        html='<div style=\"font-size: 12; color:#d35400;\"><b>%s</b></div>' % 'NASA JSC',\n",
        "        )\n",
        "    )\n",
        "site_map.add_child(circle)\n",
        "site_map.add_child(marker)"
      ]
    },
    {
      "cell_type": "markdown",
      "metadata": {
        "id": "q8wVK8OzNVnT"
      },
      "source": [
        "and you should find a small yellow circle near the city of Houston and you can zoom-in to see a larger circle.\n"
      ]
    },
    {
      "cell_type": "markdown",
      "metadata": {
        "id": "mrUmN6OHNVnT"
      },
      "source": [
        "Now, let's add a circle for each launch site in data frame `launch_sites`\n"
      ]
    },
    {
      "cell_type": "markdown",
      "metadata": {
        "id": "_mr1c1xvNVnU"
      },
      "source": [
        "*TODO:*  Create and add `folium.Circle` and `folium.Marker` for each launch site on the site map\n"
      ]
    },
    {
      "cell_type": "markdown",
      "metadata": {
        "id": "1WImOUAbNVnU"
      },
      "source": [
        "An example of folium.Circle:\n"
      ]
    },
    {
      "cell_type": "markdown",
      "metadata": {
        "id": "AwR910UGNVnU"
      },
      "source": [
        "`folium.Circle(coordinate, radius=1000, color='#000000', fill=True).add_child(folium.Popup(...))`\n"
      ]
    },
    {
      "cell_type": "markdown",
      "metadata": {
        "id": "VoKgXvo7NVnU"
      },
      "source": [
        "An example of folium.Marker:\n"
      ]
    },
    {
      "cell_type": "markdown",
      "metadata": {
        "id": "ho0STo0BNVnU"
      },
      "source": [
        "`folium.map.Marker(coordinate, icon=DivIcon(icon_size=(20,20),icon_anchor=(0,0), html='<div style=\"font-size: 12; color:#d35400;\"><b>%s</b></div>' % 'label', ))`\n"
      ]
    },
    {
      "cell_type": "code",
      "execution_count": 11,
      "metadata": {
        "colab": {
          "base_uri": "https://localhost:8080/",
          "height": 520
        },
        "id": "3ol7Kr8ANVnU",
        "outputId": "5b3c6c3a-4710-4a8f-d974-21649dbebbd4"
      },
      "outputs": [
        {
          "output_type": "execute_result",
          "data": {
            "text/plain": [
              "<folium.folium.Map at 0x7f584d3b32d0>"
            ],
            "text/html": [
              "<div style=\"width:100%;\"><div style=\"position:relative;width:100%;height:0;padding-bottom:60%;\"><span style=\"color:#565656\">Make this Notebook Trusted to load map: File -> Trust Notebook</span><iframe srcdoc=\"&lt;!DOCTYPE html&gt;\n",
              "&lt;head&gt;    \n",
              "    &lt;meta http-equiv=&quot;content-type&quot; content=&quot;text/html; charset=UTF-8&quot; /&gt;\n",
              "    \n",
              "        &lt;script&gt;\n",
              "            L_NO_TOUCH = false;\n",
              "            L_DISABLE_3D = false;\n",
              "        &lt;/script&gt;\n",
              "    \n",
              "    &lt;style&gt;html, body {width: 100%;height: 100%;margin: 0;padding: 0;}&lt;/style&gt;\n",
              "    &lt;style&gt;#map {position:absolute;top:0;bottom:0;right:0;left:0;}&lt;/style&gt;\n",
              "    &lt;script src=&quot;https://cdn.jsdelivr.net/npm/leaflet@1.6.0/dist/leaflet.js&quot;&gt;&lt;/script&gt;\n",
              "    &lt;script src=&quot;https://code.jquery.com/jquery-1.12.4.min.js&quot;&gt;&lt;/script&gt;\n",
              "    &lt;script src=&quot;https://maxcdn.bootstrapcdn.com/bootstrap/3.2.0/js/bootstrap.min.js&quot;&gt;&lt;/script&gt;\n",
              "    &lt;script src=&quot;https://cdnjs.cloudflare.com/ajax/libs/Leaflet.awesome-markers/2.0.2/leaflet.awesome-markers.js&quot;&gt;&lt;/script&gt;\n",
              "    &lt;link rel=&quot;stylesheet&quot; href=&quot;https://cdn.jsdelivr.net/npm/leaflet@1.6.0/dist/leaflet.css&quot;/&gt;\n",
              "    &lt;link rel=&quot;stylesheet&quot; href=&quot;https://maxcdn.bootstrapcdn.com/bootstrap/3.2.0/css/bootstrap.min.css&quot;/&gt;\n",
              "    &lt;link rel=&quot;stylesheet&quot; href=&quot;https://maxcdn.bootstrapcdn.com/bootstrap/3.2.0/css/bootstrap-theme.min.css&quot;/&gt;\n",
              "    &lt;link rel=&quot;stylesheet&quot; href=&quot;https://maxcdn.bootstrapcdn.com/font-awesome/4.6.3/css/font-awesome.min.css&quot;/&gt;\n",
              "    &lt;link rel=&quot;stylesheet&quot; href=&quot;https://cdnjs.cloudflare.com/ajax/libs/Leaflet.awesome-markers/2.0.2/leaflet.awesome-markers.css&quot;/&gt;\n",
              "    &lt;link rel=&quot;stylesheet&quot; href=&quot;https://cdn.jsdelivr.net/gh/python-visualization/folium/folium/templates/leaflet.awesome.rotate.min.css&quot;/&gt;\n",
              "    \n",
              "            &lt;meta name=&quot;viewport&quot; content=&quot;width=device-width,\n",
              "                initial-scale=1.0, maximum-scale=1.0, user-scalable=no&quot; /&gt;\n",
              "            &lt;style&gt;\n",
              "                #map_ca164b0d8e935a9fc138fdb57e176f32 {\n",
              "                    position: relative;\n",
              "                    width: 100.0%;\n",
              "                    height: 100.0%;\n",
              "                    left: 0.0%;\n",
              "                    top: 0.0%;\n",
              "                }\n",
              "            &lt;/style&gt;\n",
              "        \n",
              "&lt;/head&gt;\n",
              "&lt;body&gt;    \n",
              "    \n",
              "            &lt;div class=&quot;folium-map&quot; id=&quot;map_ca164b0d8e935a9fc138fdb57e176f32&quot; &gt;&lt;/div&gt;\n",
              "        \n",
              "&lt;/body&gt;\n",
              "&lt;script&gt;    \n",
              "    \n",
              "            var map_ca164b0d8e935a9fc138fdb57e176f32 = L.map(\n",
              "                &quot;map_ca164b0d8e935a9fc138fdb57e176f32&quot;,\n",
              "                {\n",
              "                    center: [29.559684888503615, -95.0830971930759],\n",
              "                    crs: L.CRS.EPSG3857,\n",
              "                    zoom: 5,\n",
              "                    zoomControl: true,\n",
              "                    preferCanvas: false,\n",
              "                }\n",
              "            );\n",
              "\n",
              "            \n",
              "\n",
              "        \n",
              "    \n",
              "            var tile_layer_2174c296bd9b2500b56fac7f1870dfc0 = L.tileLayer(\n",
              "                &quot;https://{s}.tile.openstreetmap.org/{z}/{x}/{y}.png&quot;,\n",
              "                {&quot;attribution&quot;: &quot;Data by \\u0026copy; \\u003ca href=\\&quot;http://openstreetmap.org\\&quot;\\u003eOpenStreetMap\\u003c/a\\u003e, under \\u003ca href=\\&quot;http://www.openstreetmap.org/copyright\\&quot;\\u003eODbL\\u003c/a\\u003e.&quot;, &quot;detectRetina&quot;: false, &quot;maxNativeZoom&quot;: 18, &quot;maxZoom&quot;: 18, &quot;minZoom&quot;: 0, &quot;noWrap&quot;: false, &quot;opacity&quot;: 1, &quot;subdomains&quot;: &quot;abc&quot;, &quot;tms&quot;: false}\n",
              "            ).addTo(map_ca164b0d8e935a9fc138fdb57e176f32);\n",
              "        \n",
              "    \n",
              "            var circle_56c3da30f8c13824942b38a71aecb9c5 = L.circle(\n",
              "                [28.56230197, -80.57735648],\n",
              "                {&quot;bubblingMouseEvents&quot;: true, &quot;color&quot;: &quot;#000000&quot;, &quot;dashArray&quot;: null, &quot;dashOffset&quot;: null, &quot;fill&quot;: true, &quot;fillColor&quot;: &quot;#000000&quot;, &quot;fillOpacity&quot;: 0.2, &quot;fillRule&quot;: &quot;evenodd&quot;, &quot;lineCap&quot;: &quot;round&quot;, &quot;lineJoin&quot;: &quot;round&quot;, &quot;opacity&quot;: 1.0, &quot;radius&quot;: 1000, &quot;stroke&quot;: true, &quot;weight&quot;: 3}\n",
              "            ).addTo(map_ca164b0d8e935a9fc138fdb57e176f32);\n",
              "        \n",
              "    \n",
              "        var popup_c73ff2337e84423378686d6caaeab8e2 = L.popup({&quot;maxWidth&quot;: &quot;100%&quot;});\n",
              "\n",
              "        \n",
              "            var html_f7f4cfae125de3733c17a1169c2620ed = $(`&lt;div id=&quot;html_f7f4cfae125de3733c17a1169c2620ed&quot; style=&quot;width: 100.0%; height: 100.0%;&quot;&gt;CCAFS LC-40&lt;/div&gt;`)[0];\n",
              "            popup_c73ff2337e84423378686d6caaeab8e2.setContent(html_f7f4cfae125de3733c17a1169c2620ed);\n",
              "        \n",
              "\n",
              "        circle_56c3da30f8c13824942b38a71aecb9c5.bindPopup(popup_c73ff2337e84423378686d6caaeab8e2)\n",
              "        ;\n",
              "\n",
              "        \n",
              "    \n",
              "    \n",
              "            var marker_019a8117644e4277ca5b9a0c44efa468 = L.marker(\n",
              "                [28.56230197, -80.57735648],\n",
              "                {}\n",
              "            ).addTo(map_ca164b0d8e935a9fc138fdb57e176f32);\n",
              "        \n",
              "    \n",
              "            var div_icon_abfca272471e1c8d10cf851d77b36dc8 = L.divIcon({&quot;className&quot;: &quot;empty&quot;, &quot;html&quot;: &quot;\\u003cdiv style=\\&quot;font-size: 12; color:#d35400;\\&quot;\\u003e\\u003cb\\u003eCCAFS LC-40\\u003c/b\\u003e\\u003c/div\\u003e&quot;, &quot;iconAnchor&quot;: [0, 0], &quot;iconSize&quot;: [20, 20]});\n",
              "            marker_019a8117644e4277ca5b9a0c44efa468.setIcon(div_icon_abfca272471e1c8d10cf851d77b36dc8);\n",
              "        \n",
              "    \n",
              "            var circle_8d3745a5b1b432f69722ba94ba9d421a = L.circle(\n",
              "                [28.56319718, -80.57682003],\n",
              "                {&quot;bubblingMouseEvents&quot;: true, &quot;color&quot;: &quot;#000000&quot;, &quot;dashArray&quot;: null, &quot;dashOffset&quot;: null, &quot;fill&quot;: true, &quot;fillColor&quot;: &quot;#000000&quot;, &quot;fillOpacity&quot;: 0.2, &quot;fillRule&quot;: &quot;evenodd&quot;, &quot;lineCap&quot;: &quot;round&quot;, &quot;lineJoin&quot;: &quot;round&quot;, &quot;opacity&quot;: 1.0, &quot;radius&quot;: 1000, &quot;stroke&quot;: true, &quot;weight&quot;: 3}\n",
              "            ).addTo(map_ca164b0d8e935a9fc138fdb57e176f32);\n",
              "        \n",
              "    \n",
              "        var popup_3778b781fbff008cc2f4fd2e5c02a18a = L.popup({&quot;maxWidth&quot;: &quot;100%&quot;});\n",
              "\n",
              "        \n",
              "            var html_a084b7101c8d3834774b01f75aa602eb = $(`&lt;div id=&quot;html_a084b7101c8d3834774b01f75aa602eb&quot; style=&quot;width: 100.0%; height: 100.0%;&quot;&gt;CCAFS SLC-40&lt;/div&gt;`)[0];\n",
              "            popup_3778b781fbff008cc2f4fd2e5c02a18a.setContent(html_a084b7101c8d3834774b01f75aa602eb);\n",
              "        \n",
              "\n",
              "        circle_8d3745a5b1b432f69722ba94ba9d421a.bindPopup(popup_3778b781fbff008cc2f4fd2e5c02a18a)\n",
              "        ;\n",
              "\n",
              "        \n",
              "    \n",
              "    \n",
              "            var marker_c4c56ab35d9f853ca64f443452cb3a9c = L.marker(\n",
              "                [28.56319718, -80.57682003],\n",
              "                {}\n",
              "            ).addTo(map_ca164b0d8e935a9fc138fdb57e176f32);\n",
              "        \n",
              "    \n",
              "            var div_icon_4cbdb842f940ea77356de619f75b96ff = L.divIcon({&quot;className&quot;: &quot;empty&quot;, &quot;html&quot;: &quot;\\u003cdiv style=\\&quot;font-size: 12; color:#d35400;\\&quot;\\u003e\\u003cb\\u003eCCAFS SLC-40\\u003c/b\\u003e\\u003c/div\\u003e&quot;, &quot;iconAnchor&quot;: [0, 0], &quot;iconSize&quot;: [20, 20]});\n",
              "            marker_c4c56ab35d9f853ca64f443452cb3a9c.setIcon(div_icon_4cbdb842f940ea77356de619f75b96ff);\n",
              "        \n",
              "    \n",
              "            var circle_f57cd5addda7be41cd998fb687217092 = L.circle(\n",
              "                [28.57325457, -80.64689529],\n",
              "                {&quot;bubblingMouseEvents&quot;: true, &quot;color&quot;: &quot;#000000&quot;, &quot;dashArray&quot;: null, &quot;dashOffset&quot;: null, &quot;fill&quot;: true, &quot;fillColor&quot;: &quot;#000000&quot;, &quot;fillOpacity&quot;: 0.2, &quot;fillRule&quot;: &quot;evenodd&quot;, &quot;lineCap&quot;: &quot;round&quot;, &quot;lineJoin&quot;: &quot;round&quot;, &quot;opacity&quot;: 1.0, &quot;radius&quot;: 1000, &quot;stroke&quot;: true, &quot;weight&quot;: 3}\n",
              "            ).addTo(map_ca164b0d8e935a9fc138fdb57e176f32);\n",
              "        \n",
              "    \n",
              "        var popup_5d40009b2c6759438e0c0954b5646f20 = L.popup({&quot;maxWidth&quot;: &quot;100%&quot;});\n",
              "\n",
              "        \n",
              "            var html_62703fab3e0621f84be3e948635c7e26 = $(`&lt;div id=&quot;html_62703fab3e0621f84be3e948635c7e26&quot; style=&quot;width: 100.0%; height: 100.0%;&quot;&gt;KSC LC-39A&lt;/div&gt;`)[0];\n",
              "            popup_5d40009b2c6759438e0c0954b5646f20.setContent(html_62703fab3e0621f84be3e948635c7e26);\n",
              "        \n",
              "\n",
              "        circle_f57cd5addda7be41cd998fb687217092.bindPopup(popup_5d40009b2c6759438e0c0954b5646f20)\n",
              "        ;\n",
              "\n",
              "        \n",
              "    \n",
              "    \n",
              "            var marker_c48c617871c549e6fbd0b24c2bced599 = L.marker(\n",
              "                [28.57325457, -80.64689529],\n",
              "                {}\n",
              "            ).addTo(map_ca164b0d8e935a9fc138fdb57e176f32);\n",
              "        \n",
              "    \n",
              "            var div_icon_29632f404d5745238d553490c23e1641 = L.divIcon({&quot;className&quot;: &quot;empty&quot;, &quot;html&quot;: &quot;\\u003cdiv style=\\&quot;font-size: 12; color:#d35400;\\&quot;\\u003e\\u003cb\\u003eKSC LC-39A\\u003c/b\\u003e\\u003c/div\\u003e&quot;, &quot;iconAnchor&quot;: [0, 0], &quot;iconSize&quot;: [20, 20]});\n",
              "            marker_c48c617871c549e6fbd0b24c2bced599.setIcon(div_icon_29632f404d5745238d553490c23e1641);\n",
              "        \n",
              "    \n",
              "            var circle_4ecb6fbe7141366c2192e34081fca8b1 = L.circle(\n",
              "                [34.63283416, -120.6107455],\n",
              "                {&quot;bubblingMouseEvents&quot;: true, &quot;color&quot;: &quot;#000000&quot;, &quot;dashArray&quot;: null, &quot;dashOffset&quot;: null, &quot;fill&quot;: true, &quot;fillColor&quot;: &quot;#000000&quot;, &quot;fillOpacity&quot;: 0.2, &quot;fillRule&quot;: &quot;evenodd&quot;, &quot;lineCap&quot;: &quot;round&quot;, &quot;lineJoin&quot;: &quot;round&quot;, &quot;opacity&quot;: 1.0, &quot;radius&quot;: 1000, &quot;stroke&quot;: true, &quot;weight&quot;: 3}\n",
              "            ).addTo(map_ca164b0d8e935a9fc138fdb57e176f32);\n",
              "        \n",
              "    \n",
              "        var popup_ef2ddd5c2828f006768eec86626de6bd = L.popup({&quot;maxWidth&quot;: &quot;100%&quot;});\n",
              "\n",
              "        \n",
              "            var html_021b3c03524831b2d7e036d3bcfde15d = $(`&lt;div id=&quot;html_021b3c03524831b2d7e036d3bcfde15d&quot; style=&quot;width: 100.0%; height: 100.0%;&quot;&gt;VAFB SLC-4E&lt;/div&gt;`)[0];\n",
              "            popup_ef2ddd5c2828f006768eec86626de6bd.setContent(html_021b3c03524831b2d7e036d3bcfde15d);\n",
              "        \n",
              "\n",
              "        circle_4ecb6fbe7141366c2192e34081fca8b1.bindPopup(popup_ef2ddd5c2828f006768eec86626de6bd)\n",
              "        ;\n",
              "\n",
              "        \n",
              "    \n",
              "    \n",
              "            var marker_ea0cbeada3e88c75cf23a0db26a52478 = L.marker(\n",
              "                [34.63283416, -120.6107455],\n",
              "                {}\n",
              "            ).addTo(map_ca164b0d8e935a9fc138fdb57e176f32);\n",
              "        \n",
              "    \n",
              "            var div_icon_153d6a910cab836076fbe63c47f77584 = L.divIcon({&quot;className&quot;: &quot;empty&quot;, &quot;html&quot;: &quot;\\u003cdiv style=\\&quot;font-size: 12; color:#d35400;\\&quot;\\u003e\\u003cb\\u003eVAFB SLC-4E\\u003c/b\\u003e\\u003c/div\\u003e&quot;, &quot;iconAnchor&quot;: [0, 0], &quot;iconSize&quot;: [20, 20]});\n",
              "            marker_ea0cbeada3e88c75cf23a0db26a52478.setIcon(div_icon_153d6a910cab836076fbe63c47f77584);\n",
              "        \n",
              "&lt;/script&gt;\" style=\"position:absolute;width:100%;height:100%;left:0;top:0;border:none !important;\" allowfullscreen webkitallowfullscreen mozallowfullscreen></iframe></div></div>"
            ]
          },
          "metadata": {},
          "execution_count": 11
        }
      ],
      "source": [
        "# Initial the map\n",
        "site_map = folium.Map(location=nasa_coordinate, zoom_start=5)\n",
        "# For each launch site, add a Circle object based on its coordinate (Lat, Long) values. In addition, add Launch site name as a popup label\n",
        "for index, row in launch_sites_df.iterrows():\n",
        "    coordinate = [row['Lat'], row['Long']]\n",
        "    folium.Circle(coordinate, radius=1000, color='#000000', fill=True).add_child(folium.Popup(row['Launch Site'])).add_to(site_map)\n",
        "    folium.map.Marker(coordinate, icon=DivIcon(icon_size=(20,20),icon_anchor=(0,0), html='<div style=\"font-size: 12; color:#d35400;\"><b>%s</b></div>' % row['Launch Site'], )).add_to(site_map)\n",
        "site_map"
      ]
    },
    {
      "cell_type": "markdown",
      "metadata": {
        "id": "D-5ahP9lNVnV"
      },
      "source": [
        "The generated map with marked launch sites should look similar to the following:\n"
      ]
    },
    {
      "cell_type": "markdown",
      "metadata": {
        "id": "c1X71trXNVnV"
      },
      "source": [
        "<center>\n",
        "    <img src=\"https://cf-courses-data.s3.us.cloud-object-storage.appdomain.cloud/IBM-DS0321EN-SkillsNetwork/labs/module_3/images/launch_site_markers.png\" />\n",
        "</center>\n"
      ]
    },
    {
      "cell_type": "markdown",
      "metadata": {
        "id": "4Khxm3MvNVnV"
      },
      "source": [
        "Now, you can explore the map by zoom-in/out the marked areas\n",
        ", and try to answer the following questions:\n",
        "\n",
        "*   Are all launch sites in proximity to the Equator line?\n",
        "*   Are all launch sites in very close proximity to the coast?\n",
        "\n",
        "Also please try to explain your findings.\n"
      ]
    },
    {
      "cell_type": "markdown",
      "metadata": {
        "id": "pxWyytfKNVnV"
      },
      "source": [
        "# Task 2: Mark the success/failed launches for each site on the map\n"
      ]
    },
    {
      "cell_type": "markdown",
      "metadata": {
        "id": "cNSg5iK6NVnW"
      },
      "source": [
        "Next, let's try to enhance the map by adding the launch outcomes for each site, and see which sites have high success rates.\n",
        "Recall that data frame spacex_df has detailed launch records, and the `class` column indicates if this launch was successful or not\n"
      ]
    },
    {
      "cell_type": "code",
      "execution_count": 10,
      "metadata": {
        "colab": {
          "base_uri": "https://localhost:8080/",
          "height": 363
        },
        "id": "1coHpbrzNVnW",
        "outputId": "08e548e6-d02f-4cf5-dded-238dc0b5500d"
      },
      "outputs": [
        {
          "output_type": "execute_result",
          "data": {
            "text/plain": [
              "     Launch Site        Lat       Long  class\n",
              "46    KSC LC-39A  28.573255 -80.646895      1\n",
              "47    KSC LC-39A  28.573255 -80.646895      1\n",
              "48    KSC LC-39A  28.573255 -80.646895      1\n",
              "49  CCAFS SLC-40  28.563197 -80.576820      1\n",
              "50  CCAFS SLC-40  28.563197 -80.576820      1\n",
              "51  CCAFS SLC-40  28.563197 -80.576820      0\n",
              "52  CCAFS SLC-40  28.563197 -80.576820      0\n",
              "53  CCAFS SLC-40  28.563197 -80.576820      0\n",
              "54  CCAFS SLC-40  28.563197 -80.576820      1\n",
              "55  CCAFS SLC-40  28.563197 -80.576820      0"
            ],
            "text/html": [
              "\n",
              "  <div id=\"df-1b900f59-177b-4226-bdb4-229de0c12e20\">\n",
              "    <div class=\"colab-df-container\">\n",
              "      <div>\n",
              "<style scoped>\n",
              "    .dataframe tbody tr th:only-of-type {\n",
              "        vertical-align: middle;\n",
              "    }\n",
              "\n",
              "    .dataframe tbody tr th {\n",
              "        vertical-align: top;\n",
              "    }\n",
              "\n",
              "    .dataframe thead th {\n",
              "        text-align: right;\n",
              "    }\n",
              "</style>\n",
              "<table border=\"1\" class=\"dataframe\">\n",
              "  <thead>\n",
              "    <tr style=\"text-align: right;\">\n",
              "      <th></th>\n",
              "      <th>Launch Site</th>\n",
              "      <th>Lat</th>\n",
              "      <th>Long</th>\n",
              "      <th>class</th>\n",
              "    </tr>\n",
              "  </thead>\n",
              "  <tbody>\n",
              "    <tr>\n",
              "      <th>46</th>\n",
              "      <td>KSC LC-39A</td>\n",
              "      <td>28.573255</td>\n",
              "      <td>-80.646895</td>\n",
              "      <td>1</td>\n",
              "    </tr>\n",
              "    <tr>\n",
              "      <th>47</th>\n",
              "      <td>KSC LC-39A</td>\n",
              "      <td>28.573255</td>\n",
              "      <td>-80.646895</td>\n",
              "      <td>1</td>\n",
              "    </tr>\n",
              "    <tr>\n",
              "      <th>48</th>\n",
              "      <td>KSC LC-39A</td>\n",
              "      <td>28.573255</td>\n",
              "      <td>-80.646895</td>\n",
              "      <td>1</td>\n",
              "    </tr>\n",
              "    <tr>\n",
              "      <th>49</th>\n",
              "      <td>CCAFS SLC-40</td>\n",
              "      <td>28.563197</td>\n",
              "      <td>-80.576820</td>\n",
              "      <td>1</td>\n",
              "    </tr>\n",
              "    <tr>\n",
              "      <th>50</th>\n",
              "      <td>CCAFS SLC-40</td>\n",
              "      <td>28.563197</td>\n",
              "      <td>-80.576820</td>\n",
              "      <td>1</td>\n",
              "    </tr>\n",
              "    <tr>\n",
              "      <th>51</th>\n",
              "      <td>CCAFS SLC-40</td>\n",
              "      <td>28.563197</td>\n",
              "      <td>-80.576820</td>\n",
              "      <td>0</td>\n",
              "    </tr>\n",
              "    <tr>\n",
              "      <th>52</th>\n",
              "      <td>CCAFS SLC-40</td>\n",
              "      <td>28.563197</td>\n",
              "      <td>-80.576820</td>\n",
              "      <td>0</td>\n",
              "    </tr>\n",
              "    <tr>\n",
              "      <th>53</th>\n",
              "      <td>CCAFS SLC-40</td>\n",
              "      <td>28.563197</td>\n",
              "      <td>-80.576820</td>\n",
              "      <td>0</td>\n",
              "    </tr>\n",
              "    <tr>\n",
              "      <th>54</th>\n",
              "      <td>CCAFS SLC-40</td>\n",
              "      <td>28.563197</td>\n",
              "      <td>-80.576820</td>\n",
              "      <td>1</td>\n",
              "    </tr>\n",
              "    <tr>\n",
              "      <th>55</th>\n",
              "      <td>CCAFS SLC-40</td>\n",
              "      <td>28.563197</td>\n",
              "      <td>-80.576820</td>\n",
              "      <td>0</td>\n",
              "    </tr>\n",
              "  </tbody>\n",
              "</table>\n",
              "</div>\n",
              "      <button class=\"colab-df-convert\" onclick=\"convertToInteractive('df-1b900f59-177b-4226-bdb4-229de0c12e20')\"\n",
              "              title=\"Convert this dataframe to an interactive table.\"\n",
              "              style=\"display:none;\">\n",
              "        \n",
              "  <svg xmlns=\"http://www.w3.org/2000/svg\" height=\"24px\"viewBox=\"0 0 24 24\"\n",
              "       width=\"24px\">\n",
              "    <path d=\"M0 0h24v24H0V0z\" fill=\"none\"/>\n",
              "    <path d=\"M18.56 5.44l.94 2.06.94-2.06 2.06-.94-2.06-.94-.94-2.06-.94 2.06-2.06.94zm-11 1L8.5 8.5l.94-2.06 2.06-.94-2.06-.94L8.5 2.5l-.94 2.06-2.06.94zm10 10l.94 2.06.94-2.06 2.06-.94-2.06-.94-.94-2.06-.94 2.06-2.06.94z\"/><path d=\"M17.41 7.96l-1.37-1.37c-.4-.4-.92-.59-1.43-.59-.52 0-1.04.2-1.43.59L10.3 9.45l-7.72 7.72c-.78.78-.78 2.05 0 2.83L4 21.41c.39.39.9.59 1.41.59.51 0 1.02-.2 1.41-.59l7.78-7.78 2.81-2.81c.8-.78.8-2.07 0-2.86zM5.41 20L4 18.59l7.72-7.72 1.47 1.35L5.41 20z\"/>\n",
              "  </svg>\n",
              "      </button>\n",
              "      \n",
              "  <style>\n",
              "    .colab-df-container {\n",
              "      display:flex;\n",
              "      flex-wrap:wrap;\n",
              "      gap: 12px;\n",
              "    }\n",
              "\n",
              "    .colab-df-convert {\n",
              "      background-color: #E8F0FE;\n",
              "      border: none;\n",
              "      border-radius: 50%;\n",
              "      cursor: pointer;\n",
              "      display: none;\n",
              "      fill: #1967D2;\n",
              "      height: 32px;\n",
              "      padding: 0 0 0 0;\n",
              "      width: 32px;\n",
              "    }\n",
              "\n",
              "    .colab-df-convert:hover {\n",
              "      background-color: #E2EBFA;\n",
              "      box-shadow: 0px 1px 2px rgba(60, 64, 67, 0.3), 0px 1px 3px 1px rgba(60, 64, 67, 0.15);\n",
              "      fill: #174EA6;\n",
              "    }\n",
              "\n",
              "    [theme=dark] .colab-df-convert {\n",
              "      background-color: #3B4455;\n",
              "      fill: #D2E3FC;\n",
              "    }\n",
              "\n",
              "    [theme=dark] .colab-df-convert:hover {\n",
              "      background-color: #434B5C;\n",
              "      box-shadow: 0px 1px 3px 1px rgba(0, 0, 0, 0.15);\n",
              "      filter: drop-shadow(0px 1px 2px rgba(0, 0, 0, 0.3));\n",
              "      fill: #FFFFFF;\n",
              "    }\n",
              "  </style>\n",
              "\n",
              "      <script>\n",
              "        const buttonEl =\n",
              "          document.querySelector('#df-1b900f59-177b-4226-bdb4-229de0c12e20 button.colab-df-convert');\n",
              "        buttonEl.style.display =\n",
              "          google.colab.kernel.accessAllowed ? 'block' : 'none';\n",
              "\n",
              "        async function convertToInteractive(key) {\n",
              "          const element = document.querySelector('#df-1b900f59-177b-4226-bdb4-229de0c12e20');\n",
              "          const dataTable =\n",
              "            await google.colab.kernel.invokeFunction('convertToInteractive',\n",
              "                                                     [key], {});\n",
              "          if (!dataTable) return;\n",
              "\n",
              "          const docLinkHtml = 'Like what you see? Visit the ' +\n",
              "            '<a target=\"_blank\" href=https://colab.research.google.com/notebooks/data_table.ipynb>data table notebook</a>'\n",
              "            + ' to learn more about interactive tables.';\n",
              "          element.innerHTML = '';\n",
              "          dataTable['output_type'] = 'display_data';\n",
              "          await google.colab.output.renderOutput(dataTable, element);\n",
              "          const docLink = document.createElement('div');\n",
              "          docLink.innerHTML = docLinkHtml;\n",
              "          element.appendChild(docLink);\n",
              "        }\n",
              "      </script>\n",
              "    </div>\n",
              "  </div>\n",
              "  "
            ]
          },
          "metadata": {},
          "execution_count": 10
        }
      ],
      "source": [
        "spacex_df.tail(10)"
      ]
    },
    {
      "cell_type": "markdown",
      "metadata": {
        "id": "pVVVrbOANVnW"
      },
      "source": [
        "Next, let's create markers for all launch records.\n",
        "If a launch was successful `(class=1)`, then we use a green marker and if a launch was failed, we use a red marker `(class=0)`\n"
      ]
    },
    {
      "cell_type": "markdown",
      "metadata": {
        "id": "h8ivHIMFNVnW"
      },
      "source": [
        "Note that a launch only happens in one of the four launch sites, which means many launch records will have the exact same coordinate. Marker clusters can be a good way to simplify a map containing many markers having the same coordinate.\n"
      ]
    },
    {
      "cell_type": "markdown",
      "metadata": {
        "id": "kv_9CRbcNVnW"
      },
      "source": [
        "Let's first create a `MarkerCluster` object\n"
      ]
    },
    {
      "cell_type": "code",
      "execution_count": 12,
      "metadata": {
        "id": "wP9PVUZ7Jfjt",
        "papermill": {
          "duration": 0.904519,
          "end_time": "2020-09-19T06:27:38.357041",
          "exception": false,
          "start_time": "2020-09-19T06:27:37.452522",
          "status": "completed"
        },
        "tags": []
      },
      "outputs": [],
      "source": [
        "marker_cluster = MarkerCluster()\n"
      ]
    },
    {
      "cell_type": "markdown",
      "metadata": {
        "id": "QiAwVbNrNVnX"
      },
      "source": [
        "*TODO:* Create a new column in `launch_sites` dataframe called `marker_color` to store the marker colors based on the `class` value\n"
      ]
    },
    {
      "cell_type": "code",
      "execution_count": 13,
      "metadata": {
        "colab": {
          "base_uri": "https://localhost:8080/",
          "height": 363
        },
        "id": "sx33xf7eNVnX",
        "outputId": "f4e81178-df30-48de-e353-ba9576cf4bbc"
      },
      "outputs": [
        {
          "output_type": "execute_result",
          "data": {
            "text/plain": [
              "     Launch Site        Lat       Long  class marker_color\n",
              "46    KSC LC-39A  28.573255 -80.646895      1        green\n",
              "47    KSC LC-39A  28.573255 -80.646895      1        green\n",
              "48    KSC LC-39A  28.573255 -80.646895      1        green\n",
              "49  CCAFS SLC-40  28.563197 -80.576820      1        green\n",
              "50  CCAFS SLC-40  28.563197 -80.576820      1        green\n",
              "51  CCAFS SLC-40  28.563197 -80.576820      0          red\n",
              "52  CCAFS SLC-40  28.563197 -80.576820      0          red\n",
              "53  CCAFS SLC-40  28.563197 -80.576820      0          red\n",
              "54  CCAFS SLC-40  28.563197 -80.576820      1        green\n",
              "55  CCAFS SLC-40  28.563197 -80.576820      0          red"
            ],
            "text/html": [
              "\n",
              "  <div id=\"df-dc6933d6-b78a-468c-aea7-dd6d7160ab71\">\n",
              "    <div class=\"colab-df-container\">\n",
              "      <div>\n",
              "<style scoped>\n",
              "    .dataframe tbody tr th:only-of-type {\n",
              "        vertical-align: middle;\n",
              "    }\n",
              "\n",
              "    .dataframe tbody tr th {\n",
              "        vertical-align: top;\n",
              "    }\n",
              "\n",
              "    .dataframe thead th {\n",
              "        text-align: right;\n",
              "    }\n",
              "</style>\n",
              "<table border=\"1\" class=\"dataframe\">\n",
              "  <thead>\n",
              "    <tr style=\"text-align: right;\">\n",
              "      <th></th>\n",
              "      <th>Launch Site</th>\n",
              "      <th>Lat</th>\n",
              "      <th>Long</th>\n",
              "      <th>class</th>\n",
              "      <th>marker_color</th>\n",
              "    </tr>\n",
              "  </thead>\n",
              "  <tbody>\n",
              "    <tr>\n",
              "      <th>46</th>\n",
              "      <td>KSC LC-39A</td>\n",
              "      <td>28.573255</td>\n",
              "      <td>-80.646895</td>\n",
              "      <td>1</td>\n",
              "      <td>green</td>\n",
              "    </tr>\n",
              "    <tr>\n",
              "      <th>47</th>\n",
              "      <td>KSC LC-39A</td>\n",
              "      <td>28.573255</td>\n",
              "      <td>-80.646895</td>\n",
              "      <td>1</td>\n",
              "      <td>green</td>\n",
              "    </tr>\n",
              "    <tr>\n",
              "      <th>48</th>\n",
              "      <td>KSC LC-39A</td>\n",
              "      <td>28.573255</td>\n",
              "      <td>-80.646895</td>\n",
              "      <td>1</td>\n",
              "      <td>green</td>\n",
              "    </tr>\n",
              "    <tr>\n",
              "      <th>49</th>\n",
              "      <td>CCAFS SLC-40</td>\n",
              "      <td>28.563197</td>\n",
              "      <td>-80.576820</td>\n",
              "      <td>1</td>\n",
              "      <td>green</td>\n",
              "    </tr>\n",
              "    <tr>\n",
              "      <th>50</th>\n",
              "      <td>CCAFS SLC-40</td>\n",
              "      <td>28.563197</td>\n",
              "      <td>-80.576820</td>\n",
              "      <td>1</td>\n",
              "      <td>green</td>\n",
              "    </tr>\n",
              "    <tr>\n",
              "      <th>51</th>\n",
              "      <td>CCAFS SLC-40</td>\n",
              "      <td>28.563197</td>\n",
              "      <td>-80.576820</td>\n",
              "      <td>0</td>\n",
              "      <td>red</td>\n",
              "    </tr>\n",
              "    <tr>\n",
              "      <th>52</th>\n",
              "      <td>CCAFS SLC-40</td>\n",
              "      <td>28.563197</td>\n",
              "      <td>-80.576820</td>\n",
              "      <td>0</td>\n",
              "      <td>red</td>\n",
              "    </tr>\n",
              "    <tr>\n",
              "      <th>53</th>\n",
              "      <td>CCAFS SLC-40</td>\n",
              "      <td>28.563197</td>\n",
              "      <td>-80.576820</td>\n",
              "      <td>0</td>\n",
              "      <td>red</td>\n",
              "    </tr>\n",
              "    <tr>\n",
              "      <th>54</th>\n",
              "      <td>CCAFS SLC-40</td>\n",
              "      <td>28.563197</td>\n",
              "      <td>-80.576820</td>\n",
              "      <td>1</td>\n",
              "      <td>green</td>\n",
              "    </tr>\n",
              "    <tr>\n",
              "      <th>55</th>\n",
              "      <td>CCAFS SLC-40</td>\n",
              "      <td>28.563197</td>\n",
              "      <td>-80.576820</td>\n",
              "      <td>0</td>\n",
              "      <td>red</td>\n",
              "    </tr>\n",
              "  </tbody>\n",
              "</table>\n",
              "</div>\n",
              "      <button class=\"colab-df-convert\" onclick=\"convertToInteractive('df-dc6933d6-b78a-468c-aea7-dd6d7160ab71')\"\n",
              "              title=\"Convert this dataframe to an interactive table.\"\n",
              "              style=\"display:none;\">\n",
              "        \n",
              "  <svg xmlns=\"http://www.w3.org/2000/svg\" height=\"24px\"viewBox=\"0 0 24 24\"\n",
              "       width=\"24px\">\n",
              "    <path d=\"M0 0h24v24H0V0z\" fill=\"none\"/>\n",
              "    <path d=\"M18.56 5.44l.94 2.06.94-2.06 2.06-.94-2.06-.94-.94-2.06-.94 2.06-2.06.94zm-11 1L8.5 8.5l.94-2.06 2.06-.94-2.06-.94L8.5 2.5l-.94 2.06-2.06.94zm10 10l.94 2.06.94-2.06 2.06-.94-2.06-.94-.94-2.06-.94 2.06-2.06.94z\"/><path d=\"M17.41 7.96l-1.37-1.37c-.4-.4-.92-.59-1.43-.59-.52 0-1.04.2-1.43.59L10.3 9.45l-7.72 7.72c-.78.78-.78 2.05 0 2.83L4 21.41c.39.39.9.59 1.41.59.51 0 1.02-.2 1.41-.59l7.78-7.78 2.81-2.81c.8-.78.8-2.07 0-2.86zM5.41 20L4 18.59l7.72-7.72 1.47 1.35L5.41 20z\"/>\n",
              "  </svg>\n",
              "      </button>\n",
              "      \n",
              "  <style>\n",
              "    .colab-df-container {\n",
              "      display:flex;\n",
              "      flex-wrap:wrap;\n",
              "      gap: 12px;\n",
              "    }\n",
              "\n",
              "    .colab-df-convert {\n",
              "      background-color: #E8F0FE;\n",
              "      border: none;\n",
              "      border-radius: 50%;\n",
              "      cursor: pointer;\n",
              "      display: none;\n",
              "      fill: #1967D2;\n",
              "      height: 32px;\n",
              "      padding: 0 0 0 0;\n",
              "      width: 32px;\n",
              "    }\n",
              "\n",
              "    .colab-df-convert:hover {\n",
              "      background-color: #E2EBFA;\n",
              "      box-shadow: 0px 1px 2px rgba(60, 64, 67, 0.3), 0px 1px 3px 1px rgba(60, 64, 67, 0.15);\n",
              "      fill: #174EA6;\n",
              "    }\n",
              "\n",
              "    [theme=dark] .colab-df-convert {\n",
              "      background-color: #3B4455;\n",
              "      fill: #D2E3FC;\n",
              "    }\n",
              "\n",
              "    [theme=dark] .colab-df-convert:hover {\n",
              "      background-color: #434B5C;\n",
              "      box-shadow: 0px 1px 3px 1px rgba(0, 0, 0, 0.15);\n",
              "      filter: drop-shadow(0px 1px 2px rgba(0, 0, 0, 0.3));\n",
              "      fill: #FFFFFF;\n",
              "    }\n",
              "  </style>\n",
              "\n",
              "      <script>\n",
              "        const buttonEl =\n",
              "          document.querySelector('#df-dc6933d6-b78a-468c-aea7-dd6d7160ab71 button.colab-df-convert');\n",
              "        buttonEl.style.display =\n",
              "          google.colab.kernel.accessAllowed ? 'block' : 'none';\n",
              "\n",
              "        async function convertToInteractive(key) {\n",
              "          const element = document.querySelector('#df-dc6933d6-b78a-468c-aea7-dd6d7160ab71');\n",
              "          const dataTable =\n",
              "            await google.colab.kernel.invokeFunction('convertToInteractive',\n",
              "                                                     [key], {});\n",
              "          if (!dataTable) return;\n",
              "\n",
              "          const docLinkHtml = 'Like what you see? Visit the ' +\n",
              "            '<a target=\"_blank\" href=https://colab.research.google.com/notebooks/data_table.ipynb>data table notebook</a>'\n",
              "            + ' to learn more about interactive tables.';\n",
              "          element.innerHTML = '';\n",
              "          dataTable['output_type'] = 'display_data';\n",
              "          await google.colab.output.renderOutput(dataTable, element);\n",
              "          const docLink = document.createElement('div');\n",
              "          docLink.innerHTML = docLinkHtml;\n",
              "          element.appendChild(docLink);\n",
              "        }\n",
              "      </script>\n",
              "    </div>\n",
              "  </div>\n",
              "  "
            ]
          },
          "metadata": {},
          "execution_count": 13
        }
      ],
      "source": [
        "\n",
        "# Apply a function to check the value of `class` column\n",
        "def assign_marker_color(launch_outcome):\n",
        "  if launch_outcome == 1:\n",
        "    return 'green'\n",
        "  else:\n",
        "    return 'red'\n",
        "\n",
        "spacex_df['marker_color'] = spacex_df['class'].apply(assign_marker_color)\n",
        "spacex_df.tail(10)      \n",
        "# If class=1, marker_color value will be green\n",
        "# If class=0, marker_color value will be red\n"
      ]
    },
    {
      "cell_type": "code",
      "execution_count": null,
      "metadata": {
        "id": "oMwkA3UZNVnX"
      },
      "outputs": [],
      "source": [
        "# Function to assign color to launch outcome\n",
        "def assign_marker_color(launch_outcome):\n",
        "    if launch_outcome == 1:\n",
        "        return 'green'\n",
        "    else:\n",
        "        return 'red'\n",
        "    \n",
        "spacex_df['marker_color'] = spacex_df['class'].apply(assign_marker_color)\n",
        "spacex_df.tail(10)"
      ]
    },
    {
      "cell_type": "markdown",
      "metadata": {
        "id": "FOT5N03hNVnY"
      },
      "source": [
        "*TODO:* For each launch result in `spacex_df` data frame, add a `folium.Marker` to `marker_cluster`\n"
      ]
    },
    {
      "cell_type": "code",
      "execution_count": 14,
      "metadata": {
        "colab": {
          "base_uri": "https://localhost:8080/",
          "height": 520
        },
        "id": "2XqBzb9rNVnY",
        "outputId": "8f271a59-ea4e-470d-a980-d7b2d1307409"
      },
      "outputs": [
        {
          "output_type": "execute_result",
          "data": {
            "text/plain": [
              "<folium.folium.Map at 0x7f584d3b32d0>"
            ],
            "text/html": [
              "<div style=\"width:100%;\"><div style=\"position:relative;width:100%;height:0;padding-bottom:60%;\"><span style=\"color:#565656\">Make this Notebook Trusted to load map: File -> Trust Notebook</span><iframe srcdoc=\"&lt;!DOCTYPE html&gt;\n",
              "&lt;head&gt;    \n",
              "    &lt;meta http-equiv=&quot;content-type&quot; content=&quot;text/html; charset=UTF-8&quot; /&gt;\n",
              "    \n",
              "        &lt;script&gt;\n",
              "            L_NO_TOUCH = false;\n",
              "            L_DISABLE_3D = false;\n",
              "        &lt;/script&gt;\n",
              "    \n",
              "    &lt;style&gt;html, body {width: 100%;height: 100%;margin: 0;padding: 0;}&lt;/style&gt;\n",
              "    &lt;style&gt;#map {position:absolute;top:0;bottom:0;right:0;left:0;}&lt;/style&gt;\n",
              "    &lt;script src=&quot;https://cdn.jsdelivr.net/npm/leaflet@1.6.0/dist/leaflet.js&quot;&gt;&lt;/script&gt;\n",
              "    &lt;script src=&quot;https://code.jquery.com/jquery-1.12.4.min.js&quot;&gt;&lt;/script&gt;\n",
              "    &lt;script src=&quot;https://maxcdn.bootstrapcdn.com/bootstrap/3.2.0/js/bootstrap.min.js&quot;&gt;&lt;/script&gt;\n",
              "    &lt;script src=&quot;https://cdnjs.cloudflare.com/ajax/libs/Leaflet.awesome-markers/2.0.2/leaflet.awesome-markers.js&quot;&gt;&lt;/script&gt;\n",
              "    &lt;link rel=&quot;stylesheet&quot; href=&quot;https://cdn.jsdelivr.net/npm/leaflet@1.6.0/dist/leaflet.css&quot;/&gt;\n",
              "    &lt;link rel=&quot;stylesheet&quot; href=&quot;https://maxcdn.bootstrapcdn.com/bootstrap/3.2.0/css/bootstrap.min.css&quot;/&gt;\n",
              "    &lt;link rel=&quot;stylesheet&quot; href=&quot;https://maxcdn.bootstrapcdn.com/bootstrap/3.2.0/css/bootstrap-theme.min.css&quot;/&gt;\n",
              "    &lt;link rel=&quot;stylesheet&quot; href=&quot;https://maxcdn.bootstrapcdn.com/font-awesome/4.6.3/css/font-awesome.min.css&quot;/&gt;\n",
              "    &lt;link rel=&quot;stylesheet&quot; href=&quot;https://cdnjs.cloudflare.com/ajax/libs/Leaflet.awesome-markers/2.0.2/leaflet.awesome-markers.css&quot;/&gt;\n",
              "    &lt;link rel=&quot;stylesheet&quot; href=&quot;https://cdn.jsdelivr.net/gh/python-visualization/folium/folium/templates/leaflet.awesome.rotate.min.css&quot;/&gt;\n",
              "    \n",
              "            &lt;meta name=&quot;viewport&quot; content=&quot;width=device-width,\n",
              "                initial-scale=1.0, maximum-scale=1.0, user-scalable=no&quot; /&gt;\n",
              "            &lt;style&gt;\n",
              "                #map_ca164b0d8e935a9fc138fdb57e176f32 {\n",
              "                    position: relative;\n",
              "                    width: 100.0%;\n",
              "                    height: 100.0%;\n",
              "                    left: 0.0%;\n",
              "                    top: 0.0%;\n",
              "                }\n",
              "            &lt;/style&gt;\n",
              "        \n",
              "    &lt;script src=&quot;https://cdnjs.cloudflare.com/ajax/libs/leaflet.markercluster/1.1.0/leaflet.markercluster.js&quot;&gt;&lt;/script&gt;\n",
              "    &lt;link rel=&quot;stylesheet&quot; href=&quot;https://cdnjs.cloudflare.com/ajax/libs/leaflet.markercluster/1.1.0/MarkerCluster.css&quot;/&gt;\n",
              "    &lt;link rel=&quot;stylesheet&quot; href=&quot;https://cdnjs.cloudflare.com/ajax/libs/leaflet.markercluster/1.1.0/MarkerCluster.Default.css&quot;/&gt;\n",
              "&lt;/head&gt;\n",
              "&lt;body&gt;    \n",
              "    \n",
              "            &lt;div class=&quot;folium-map&quot; id=&quot;map_ca164b0d8e935a9fc138fdb57e176f32&quot; &gt;&lt;/div&gt;\n",
              "        \n",
              "&lt;/body&gt;\n",
              "&lt;script&gt;    \n",
              "    \n",
              "            var map_ca164b0d8e935a9fc138fdb57e176f32 = L.map(\n",
              "                &quot;map_ca164b0d8e935a9fc138fdb57e176f32&quot;,\n",
              "                {\n",
              "                    center: [29.559684888503615, -95.0830971930759],\n",
              "                    crs: L.CRS.EPSG3857,\n",
              "                    zoom: 5,\n",
              "                    zoomControl: true,\n",
              "                    preferCanvas: false,\n",
              "                }\n",
              "            );\n",
              "\n",
              "            \n",
              "\n",
              "        \n",
              "    \n",
              "            var tile_layer_2174c296bd9b2500b56fac7f1870dfc0 = L.tileLayer(\n",
              "                &quot;https://{s}.tile.openstreetmap.org/{z}/{x}/{y}.png&quot;,\n",
              "                {&quot;attribution&quot;: &quot;Data by \\u0026copy; \\u003ca href=\\&quot;http://openstreetmap.org\\&quot;\\u003eOpenStreetMap\\u003c/a\\u003e, under \\u003ca href=\\&quot;http://www.openstreetmap.org/copyright\\&quot;\\u003eODbL\\u003c/a\\u003e.&quot;, &quot;detectRetina&quot;: false, &quot;maxNativeZoom&quot;: 18, &quot;maxZoom&quot;: 18, &quot;minZoom&quot;: 0, &quot;noWrap&quot;: false, &quot;opacity&quot;: 1, &quot;subdomains&quot;: &quot;abc&quot;, &quot;tms&quot;: false}\n",
              "            ).addTo(map_ca164b0d8e935a9fc138fdb57e176f32);\n",
              "        \n",
              "    \n",
              "            var circle_56c3da30f8c13824942b38a71aecb9c5 = L.circle(\n",
              "                [28.56230197, -80.57735648],\n",
              "                {&quot;bubblingMouseEvents&quot;: true, &quot;color&quot;: &quot;#000000&quot;, &quot;dashArray&quot;: null, &quot;dashOffset&quot;: null, &quot;fill&quot;: true, &quot;fillColor&quot;: &quot;#000000&quot;, &quot;fillOpacity&quot;: 0.2, &quot;fillRule&quot;: &quot;evenodd&quot;, &quot;lineCap&quot;: &quot;round&quot;, &quot;lineJoin&quot;: &quot;round&quot;, &quot;opacity&quot;: 1.0, &quot;radius&quot;: 1000, &quot;stroke&quot;: true, &quot;weight&quot;: 3}\n",
              "            ).addTo(map_ca164b0d8e935a9fc138fdb57e176f32);\n",
              "        \n",
              "    \n",
              "        var popup_c73ff2337e84423378686d6caaeab8e2 = L.popup({&quot;maxWidth&quot;: &quot;100%&quot;});\n",
              "\n",
              "        \n",
              "            var html_f7f4cfae125de3733c17a1169c2620ed = $(`&lt;div id=&quot;html_f7f4cfae125de3733c17a1169c2620ed&quot; style=&quot;width: 100.0%; height: 100.0%;&quot;&gt;CCAFS LC-40&lt;/div&gt;`)[0];\n",
              "            popup_c73ff2337e84423378686d6caaeab8e2.setContent(html_f7f4cfae125de3733c17a1169c2620ed);\n",
              "        \n",
              "\n",
              "        circle_56c3da30f8c13824942b38a71aecb9c5.bindPopup(popup_c73ff2337e84423378686d6caaeab8e2)\n",
              "        ;\n",
              "\n",
              "        \n",
              "    \n",
              "    \n",
              "            var marker_019a8117644e4277ca5b9a0c44efa468 = L.marker(\n",
              "                [28.56230197, -80.57735648],\n",
              "                {}\n",
              "            ).addTo(map_ca164b0d8e935a9fc138fdb57e176f32);\n",
              "        \n",
              "    \n",
              "            var div_icon_abfca272471e1c8d10cf851d77b36dc8 = L.divIcon({&quot;className&quot;: &quot;empty&quot;, &quot;html&quot;: &quot;\\u003cdiv style=\\&quot;font-size: 12; color:#d35400;\\&quot;\\u003e\\u003cb\\u003eCCAFS LC-40\\u003c/b\\u003e\\u003c/div\\u003e&quot;, &quot;iconAnchor&quot;: [0, 0], &quot;iconSize&quot;: [20, 20]});\n",
              "            marker_019a8117644e4277ca5b9a0c44efa468.setIcon(div_icon_abfca272471e1c8d10cf851d77b36dc8);\n",
              "        \n",
              "    \n",
              "            var circle_8d3745a5b1b432f69722ba94ba9d421a = L.circle(\n",
              "                [28.56319718, -80.57682003],\n",
              "                {&quot;bubblingMouseEvents&quot;: true, &quot;color&quot;: &quot;#000000&quot;, &quot;dashArray&quot;: null, &quot;dashOffset&quot;: null, &quot;fill&quot;: true, &quot;fillColor&quot;: &quot;#000000&quot;, &quot;fillOpacity&quot;: 0.2, &quot;fillRule&quot;: &quot;evenodd&quot;, &quot;lineCap&quot;: &quot;round&quot;, &quot;lineJoin&quot;: &quot;round&quot;, &quot;opacity&quot;: 1.0, &quot;radius&quot;: 1000, &quot;stroke&quot;: true, &quot;weight&quot;: 3}\n",
              "            ).addTo(map_ca164b0d8e935a9fc138fdb57e176f32);\n",
              "        \n",
              "    \n",
              "        var popup_3778b781fbff008cc2f4fd2e5c02a18a = L.popup({&quot;maxWidth&quot;: &quot;100%&quot;});\n",
              "\n",
              "        \n",
              "            var html_a084b7101c8d3834774b01f75aa602eb = $(`&lt;div id=&quot;html_a084b7101c8d3834774b01f75aa602eb&quot; style=&quot;width: 100.0%; height: 100.0%;&quot;&gt;CCAFS SLC-40&lt;/div&gt;`)[0];\n",
              "            popup_3778b781fbff008cc2f4fd2e5c02a18a.setContent(html_a084b7101c8d3834774b01f75aa602eb);\n",
              "        \n",
              "\n",
              "        circle_8d3745a5b1b432f69722ba94ba9d421a.bindPopup(popup_3778b781fbff008cc2f4fd2e5c02a18a)\n",
              "        ;\n",
              "\n",
              "        \n",
              "    \n",
              "    \n",
              "            var marker_c4c56ab35d9f853ca64f443452cb3a9c = L.marker(\n",
              "                [28.56319718, -80.57682003],\n",
              "                {}\n",
              "            ).addTo(map_ca164b0d8e935a9fc138fdb57e176f32);\n",
              "        \n",
              "    \n",
              "            var div_icon_4cbdb842f940ea77356de619f75b96ff = L.divIcon({&quot;className&quot;: &quot;empty&quot;, &quot;html&quot;: &quot;\\u003cdiv style=\\&quot;font-size: 12; color:#d35400;\\&quot;\\u003e\\u003cb\\u003eCCAFS SLC-40\\u003c/b\\u003e\\u003c/div\\u003e&quot;, &quot;iconAnchor&quot;: [0, 0], &quot;iconSize&quot;: [20, 20]});\n",
              "            marker_c4c56ab35d9f853ca64f443452cb3a9c.setIcon(div_icon_4cbdb842f940ea77356de619f75b96ff);\n",
              "        \n",
              "    \n",
              "            var circle_f57cd5addda7be41cd998fb687217092 = L.circle(\n",
              "                [28.57325457, -80.64689529],\n",
              "                {&quot;bubblingMouseEvents&quot;: true, &quot;color&quot;: &quot;#000000&quot;, &quot;dashArray&quot;: null, &quot;dashOffset&quot;: null, &quot;fill&quot;: true, &quot;fillColor&quot;: &quot;#000000&quot;, &quot;fillOpacity&quot;: 0.2, &quot;fillRule&quot;: &quot;evenodd&quot;, &quot;lineCap&quot;: &quot;round&quot;, &quot;lineJoin&quot;: &quot;round&quot;, &quot;opacity&quot;: 1.0, &quot;radius&quot;: 1000, &quot;stroke&quot;: true, &quot;weight&quot;: 3}\n",
              "            ).addTo(map_ca164b0d8e935a9fc138fdb57e176f32);\n",
              "        \n",
              "    \n",
              "        var popup_5d40009b2c6759438e0c0954b5646f20 = L.popup({&quot;maxWidth&quot;: &quot;100%&quot;});\n",
              "\n",
              "        \n",
              "            var html_62703fab3e0621f84be3e948635c7e26 = $(`&lt;div id=&quot;html_62703fab3e0621f84be3e948635c7e26&quot; style=&quot;width: 100.0%; height: 100.0%;&quot;&gt;KSC LC-39A&lt;/div&gt;`)[0];\n",
              "            popup_5d40009b2c6759438e0c0954b5646f20.setContent(html_62703fab3e0621f84be3e948635c7e26);\n",
              "        \n",
              "\n",
              "        circle_f57cd5addda7be41cd998fb687217092.bindPopup(popup_5d40009b2c6759438e0c0954b5646f20)\n",
              "        ;\n",
              "\n",
              "        \n",
              "    \n",
              "    \n",
              "            var marker_c48c617871c549e6fbd0b24c2bced599 = L.marker(\n",
              "                [28.57325457, -80.64689529],\n",
              "                {}\n",
              "            ).addTo(map_ca164b0d8e935a9fc138fdb57e176f32);\n",
              "        \n",
              "    \n",
              "            var div_icon_29632f404d5745238d553490c23e1641 = L.divIcon({&quot;className&quot;: &quot;empty&quot;, &quot;html&quot;: &quot;\\u003cdiv style=\\&quot;font-size: 12; color:#d35400;\\&quot;\\u003e\\u003cb\\u003eKSC LC-39A\\u003c/b\\u003e\\u003c/div\\u003e&quot;, &quot;iconAnchor&quot;: [0, 0], &quot;iconSize&quot;: [20, 20]});\n",
              "            marker_c48c617871c549e6fbd0b24c2bced599.setIcon(div_icon_29632f404d5745238d553490c23e1641);\n",
              "        \n",
              "    \n",
              "            var circle_4ecb6fbe7141366c2192e34081fca8b1 = L.circle(\n",
              "                [34.63283416, -120.6107455],\n",
              "                {&quot;bubblingMouseEvents&quot;: true, &quot;color&quot;: &quot;#000000&quot;, &quot;dashArray&quot;: null, &quot;dashOffset&quot;: null, &quot;fill&quot;: true, &quot;fillColor&quot;: &quot;#000000&quot;, &quot;fillOpacity&quot;: 0.2, &quot;fillRule&quot;: &quot;evenodd&quot;, &quot;lineCap&quot;: &quot;round&quot;, &quot;lineJoin&quot;: &quot;round&quot;, &quot;opacity&quot;: 1.0, &quot;radius&quot;: 1000, &quot;stroke&quot;: true, &quot;weight&quot;: 3}\n",
              "            ).addTo(map_ca164b0d8e935a9fc138fdb57e176f32);\n",
              "        \n",
              "    \n",
              "        var popup_ef2ddd5c2828f006768eec86626de6bd = L.popup({&quot;maxWidth&quot;: &quot;100%&quot;});\n",
              "\n",
              "        \n",
              "            var html_021b3c03524831b2d7e036d3bcfde15d = $(`&lt;div id=&quot;html_021b3c03524831b2d7e036d3bcfde15d&quot; style=&quot;width: 100.0%; height: 100.0%;&quot;&gt;VAFB SLC-4E&lt;/div&gt;`)[0];\n",
              "            popup_ef2ddd5c2828f006768eec86626de6bd.setContent(html_021b3c03524831b2d7e036d3bcfde15d);\n",
              "        \n",
              "\n",
              "        circle_4ecb6fbe7141366c2192e34081fca8b1.bindPopup(popup_ef2ddd5c2828f006768eec86626de6bd)\n",
              "        ;\n",
              "\n",
              "        \n",
              "    \n",
              "    \n",
              "            var marker_ea0cbeada3e88c75cf23a0db26a52478 = L.marker(\n",
              "                [34.63283416, -120.6107455],\n",
              "                {}\n",
              "            ).addTo(map_ca164b0d8e935a9fc138fdb57e176f32);\n",
              "        \n",
              "    \n",
              "            var div_icon_153d6a910cab836076fbe63c47f77584 = L.divIcon({&quot;className&quot;: &quot;empty&quot;, &quot;html&quot;: &quot;\\u003cdiv style=\\&quot;font-size: 12; color:#d35400;\\&quot;\\u003e\\u003cb\\u003eVAFB SLC-4E\\u003c/b\\u003e\\u003c/div\\u003e&quot;, &quot;iconAnchor&quot;: [0, 0], &quot;iconSize&quot;: [20, 20]});\n",
              "            marker_ea0cbeada3e88c75cf23a0db26a52478.setIcon(div_icon_153d6a910cab836076fbe63c47f77584);\n",
              "        \n",
              "    \n",
              "            var marker_cluster_cc99868247f54b806b40fa325871c672 = L.markerClusterGroup(\n",
              "                {}\n",
              "            );\n",
              "            map_ca164b0d8e935a9fc138fdb57e176f32.addLayer(marker_cluster_cc99868247f54b806b40fa325871c672);\n",
              "        \n",
              "    \n",
              "            var marker_6df51aa567acbcd45fa32a09793ccf87 = L.marker(\n",
              "                [29.559684888503615, -95.0830971930759],\n",
              "                {}\n",
              "            ).addTo(marker_cluster_cc99868247f54b806b40fa325871c672);\n",
              "        \n",
              "    \n",
              "            var div_icon_498bdc286d988cf56be7a45c0a161a4b = L.divIcon({&quot;className&quot;: &quot;empty&quot;, &quot;html&quot;: &quot;\\u003cdiv style=\\&quot;font-size: 12; color:#d35400;\\&quot;\\u003e\\u003cb\\u003eNASA JSC\\u003c/b\\u003e\\u003c/div\\u003e&quot;, &quot;iconAnchor&quot;: [0, 0], &quot;iconSize&quot;: [20, 20]});\n",
              "            marker_6df51aa567acbcd45fa32a09793ccf87.setIcon(div_icon_498bdc286d988cf56be7a45c0a161a4b);\n",
              "        \n",
              "&lt;/script&gt;\" style=\"position:absolute;width:100%;height:100%;left:0;top:0;border:none !important;\" allowfullscreen webkitallowfullscreen mozallowfullscreen></iframe></div></div>"
            ]
          },
          "metadata": {},
          "execution_count": 14
        }
      ],
      "source": [
        "# Add marker_cluster to current site_map\n",
        "site_map.add_child(marker_cluster)\n",
        "\n",
        "# for each row in spacex_df data frame\n",
        "# create a Marker object with its coordinate\n",
        "# and customize the Marker's icon property to indicate if this launch was successed or failed, \n",
        "# e.g., icon=folium.Icon(color='white', icon_color=row['marker_color']\n",
        "for index, record in spacex_df.iterrows():\n",
        "    # TODO: Create and add a Marker cluster to the site map\n",
        "    # marker = folium.Marker(...)\n",
        "    marker_cluster.add_child(marker)\n",
        "\n",
        "site_map"
      ]
    },
    {
      "cell_type": "markdown",
      "metadata": {
        "id": "WyFMqlfJNVnY"
      },
      "source": [
        "Your updated map may look like the following screenshots:\n"
      ]
    },
    {
      "cell_type": "markdown",
      "metadata": {
        "id": "UENvgrhpNVnY"
      },
      "source": [
        "<center>\n",
        "    <img src=\"https://cf-courses-data.s3.us.cloud-object-storage.appdomain.cloud/IBM-DS0321EN-SkillsNetwork/labs/module_3/images/launch_site_marker_cluster.png\" />\n",
        "</center>\n"
      ]
    },
    {
      "cell_type": "markdown",
      "metadata": {
        "id": "VAVoYQZDNVnY"
      },
      "source": [
        "<center>\n",
        "    <img src=\"https://cf-courses-data.s3.us.cloud-object-storage.appdomain.cloud/IBM-DS0321EN-SkillsNetwork/labs/module_3/images/launch_site_marker_cluster_zoomed.png\" />\n",
        "</center>\n"
      ]
    },
    {
      "cell_type": "markdown",
      "metadata": {
        "id": "K_NM2SN3NVnZ"
      },
      "source": [
        "From the color-labeled markers in marker clusters, you should be able to easily identify which launch sites have relatively high success rates.\n"
      ]
    },
    {
      "cell_type": "markdown",
      "metadata": {
        "id": "yclbqLj5NVnZ"
      },
      "source": [
        "# TASK 3: Calculate the distances between a launch site to its proximities\n"
      ]
    },
    {
      "cell_type": "markdown",
      "metadata": {
        "id": "6ru3wCuuNVnZ"
      },
      "source": [
        "Next, we need to explore and analyze the proximities of launch sites.\n"
      ]
    },
    {
      "cell_type": "markdown",
      "metadata": {
        "id": "iTs5dsn3NVnZ"
      },
      "source": [
        "Let's first add a `MousePosition` on the map to get coordinate for a mouse over a point on the map. As such, while you are exploring the map, you can easily find the coordinates of any points of interests (such as railway)\n"
      ]
    },
    {
      "cell_type": "code",
      "execution_count": 15,
      "metadata": {
        "colab": {
          "base_uri": "https://localhost:8080/",
          "height": 520
        },
        "id": "QG71NswFNVnZ",
        "outputId": "33fddd0a-ce53-4bb2-a044-36509a811cc9"
      },
      "outputs": [
        {
          "output_type": "execute_result",
          "data": {
            "text/plain": [
              "<folium.folium.Map at 0x7f584d3b32d0>"
            ],
            "text/html": [
              "<div style=\"width:100%;\"><div style=\"position:relative;width:100%;height:0;padding-bottom:60%;\"><span style=\"color:#565656\">Make this Notebook Trusted to load map: File -> Trust Notebook</span><iframe srcdoc=\"&lt;!DOCTYPE html&gt;\n",
              "&lt;head&gt;    \n",
              "    &lt;meta http-equiv=&quot;content-type&quot; content=&quot;text/html; charset=UTF-8&quot; /&gt;\n",
              "    \n",
              "        &lt;script&gt;\n",
              "            L_NO_TOUCH = false;\n",
              "            L_DISABLE_3D = false;\n",
              "        &lt;/script&gt;\n",
              "    \n",
              "    &lt;style&gt;html, body {width: 100%;height: 100%;margin: 0;padding: 0;}&lt;/style&gt;\n",
              "    &lt;style&gt;#map {position:absolute;top:0;bottom:0;right:0;left:0;}&lt;/style&gt;\n",
              "    &lt;script src=&quot;https://cdn.jsdelivr.net/npm/leaflet@1.6.0/dist/leaflet.js&quot;&gt;&lt;/script&gt;\n",
              "    &lt;script src=&quot;https://code.jquery.com/jquery-1.12.4.min.js&quot;&gt;&lt;/script&gt;\n",
              "    &lt;script src=&quot;https://maxcdn.bootstrapcdn.com/bootstrap/3.2.0/js/bootstrap.min.js&quot;&gt;&lt;/script&gt;\n",
              "    &lt;script src=&quot;https://cdnjs.cloudflare.com/ajax/libs/Leaflet.awesome-markers/2.0.2/leaflet.awesome-markers.js&quot;&gt;&lt;/script&gt;\n",
              "    &lt;link rel=&quot;stylesheet&quot; href=&quot;https://cdn.jsdelivr.net/npm/leaflet@1.6.0/dist/leaflet.css&quot;/&gt;\n",
              "    &lt;link rel=&quot;stylesheet&quot; href=&quot;https://maxcdn.bootstrapcdn.com/bootstrap/3.2.0/css/bootstrap.min.css&quot;/&gt;\n",
              "    &lt;link rel=&quot;stylesheet&quot; href=&quot;https://maxcdn.bootstrapcdn.com/bootstrap/3.2.0/css/bootstrap-theme.min.css&quot;/&gt;\n",
              "    &lt;link rel=&quot;stylesheet&quot; href=&quot;https://maxcdn.bootstrapcdn.com/font-awesome/4.6.3/css/font-awesome.min.css&quot;/&gt;\n",
              "    &lt;link rel=&quot;stylesheet&quot; href=&quot;https://cdnjs.cloudflare.com/ajax/libs/Leaflet.awesome-markers/2.0.2/leaflet.awesome-markers.css&quot;/&gt;\n",
              "    &lt;link rel=&quot;stylesheet&quot; href=&quot;https://cdn.jsdelivr.net/gh/python-visualization/folium/folium/templates/leaflet.awesome.rotate.min.css&quot;/&gt;\n",
              "    \n",
              "            &lt;meta name=&quot;viewport&quot; content=&quot;width=device-width,\n",
              "                initial-scale=1.0, maximum-scale=1.0, user-scalable=no&quot; /&gt;\n",
              "            &lt;style&gt;\n",
              "                #map_ca164b0d8e935a9fc138fdb57e176f32 {\n",
              "                    position: relative;\n",
              "                    width: 100.0%;\n",
              "                    height: 100.0%;\n",
              "                    left: 0.0%;\n",
              "                    top: 0.0%;\n",
              "                }\n",
              "            &lt;/style&gt;\n",
              "        \n",
              "    &lt;script src=&quot;https://cdnjs.cloudflare.com/ajax/libs/leaflet.markercluster/1.1.0/leaflet.markercluster.js&quot;&gt;&lt;/script&gt;\n",
              "    &lt;link rel=&quot;stylesheet&quot; href=&quot;https://cdnjs.cloudflare.com/ajax/libs/leaflet.markercluster/1.1.0/MarkerCluster.css&quot;/&gt;\n",
              "    &lt;link rel=&quot;stylesheet&quot; href=&quot;https://cdnjs.cloudflare.com/ajax/libs/leaflet.markercluster/1.1.0/MarkerCluster.Default.css&quot;/&gt;\n",
              "    &lt;script src=&quot;https://cdn.jsdelivr.net/gh/ardhi/Leaflet.MousePosition/src/L.Control.MousePosition.min.js&quot;&gt;&lt;/script&gt;\n",
              "    &lt;link rel=&quot;stylesheet&quot; href=&quot;https://cdn.jsdelivr.net/gh/ardhi/Leaflet.MousePosition/src/L.Control.MousePosition.min.css&quot;/&gt;\n",
              "&lt;/head&gt;\n",
              "&lt;body&gt;    \n",
              "    \n",
              "            &lt;div class=&quot;folium-map&quot; id=&quot;map_ca164b0d8e935a9fc138fdb57e176f32&quot; &gt;&lt;/div&gt;\n",
              "        \n",
              "&lt;/body&gt;\n",
              "&lt;script&gt;    \n",
              "    \n",
              "            var map_ca164b0d8e935a9fc138fdb57e176f32 = L.map(\n",
              "                &quot;map_ca164b0d8e935a9fc138fdb57e176f32&quot;,\n",
              "                {\n",
              "                    center: [29.559684888503615, -95.0830971930759],\n",
              "                    crs: L.CRS.EPSG3857,\n",
              "                    zoom: 5,\n",
              "                    zoomControl: true,\n",
              "                    preferCanvas: false,\n",
              "                }\n",
              "            );\n",
              "\n",
              "            \n",
              "\n",
              "        \n",
              "    \n",
              "            var tile_layer_2174c296bd9b2500b56fac7f1870dfc0 = L.tileLayer(\n",
              "                &quot;https://{s}.tile.openstreetmap.org/{z}/{x}/{y}.png&quot;,\n",
              "                {&quot;attribution&quot;: &quot;Data by \\u0026copy; \\u003ca href=\\&quot;http://openstreetmap.org\\&quot;\\u003eOpenStreetMap\\u003c/a\\u003e, under \\u003ca href=\\&quot;http://www.openstreetmap.org/copyright\\&quot;\\u003eODbL\\u003c/a\\u003e.&quot;, &quot;detectRetina&quot;: false, &quot;maxNativeZoom&quot;: 18, &quot;maxZoom&quot;: 18, &quot;minZoom&quot;: 0, &quot;noWrap&quot;: false, &quot;opacity&quot;: 1, &quot;subdomains&quot;: &quot;abc&quot;, &quot;tms&quot;: false}\n",
              "            ).addTo(map_ca164b0d8e935a9fc138fdb57e176f32);\n",
              "        \n",
              "    \n",
              "            var circle_56c3da30f8c13824942b38a71aecb9c5 = L.circle(\n",
              "                [28.56230197, -80.57735648],\n",
              "                {&quot;bubblingMouseEvents&quot;: true, &quot;color&quot;: &quot;#000000&quot;, &quot;dashArray&quot;: null, &quot;dashOffset&quot;: null, &quot;fill&quot;: true, &quot;fillColor&quot;: &quot;#000000&quot;, &quot;fillOpacity&quot;: 0.2, &quot;fillRule&quot;: &quot;evenodd&quot;, &quot;lineCap&quot;: &quot;round&quot;, &quot;lineJoin&quot;: &quot;round&quot;, &quot;opacity&quot;: 1.0, &quot;radius&quot;: 1000, &quot;stroke&quot;: true, &quot;weight&quot;: 3}\n",
              "            ).addTo(map_ca164b0d8e935a9fc138fdb57e176f32);\n",
              "        \n",
              "    \n",
              "        var popup_c73ff2337e84423378686d6caaeab8e2 = L.popup({&quot;maxWidth&quot;: &quot;100%&quot;});\n",
              "\n",
              "        \n",
              "            var html_f7f4cfae125de3733c17a1169c2620ed = $(`&lt;div id=&quot;html_f7f4cfae125de3733c17a1169c2620ed&quot; style=&quot;width: 100.0%; height: 100.0%;&quot;&gt;CCAFS LC-40&lt;/div&gt;`)[0];\n",
              "            popup_c73ff2337e84423378686d6caaeab8e2.setContent(html_f7f4cfae125de3733c17a1169c2620ed);\n",
              "        \n",
              "\n",
              "        circle_56c3da30f8c13824942b38a71aecb9c5.bindPopup(popup_c73ff2337e84423378686d6caaeab8e2)\n",
              "        ;\n",
              "\n",
              "        \n",
              "    \n",
              "    \n",
              "            var marker_019a8117644e4277ca5b9a0c44efa468 = L.marker(\n",
              "                [28.56230197, -80.57735648],\n",
              "                {}\n",
              "            ).addTo(map_ca164b0d8e935a9fc138fdb57e176f32);\n",
              "        \n",
              "    \n",
              "            var div_icon_abfca272471e1c8d10cf851d77b36dc8 = L.divIcon({&quot;className&quot;: &quot;empty&quot;, &quot;html&quot;: &quot;\\u003cdiv style=\\&quot;font-size: 12; color:#d35400;\\&quot;\\u003e\\u003cb\\u003eCCAFS LC-40\\u003c/b\\u003e\\u003c/div\\u003e&quot;, &quot;iconAnchor&quot;: [0, 0], &quot;iconSize&quot;: [20, 20]});\n",
              "            marker_019a8117644e4277ca5b9a0c44efa468.setIcon(div_icon_abfca272471e1c8d10cf851d77b36dc8);\n",
              "        \n",
              "    \n",
              "            var circle_8d3745a5b1b432f69722ba94ba9d421a = L.circle(\n",
              "                [28.56319718, -80.57682003],\n",
              "                {&quot;bubblingMouseEvents&quot;: true, &quot;color&quot;: &quot;#000000&quot;, &quot;dashArray&quot;: null, &quot;dashOffset&quot;: null, &quot;fill&quot;: true, &quot;fillColor&quot;: &quot;#000000&quot;, &quot;fillOpacity&quot;: 0.2, &quot;fillRule&quot;: &quot;evenodd&quot;, &quot;lineCap&quot;: &quot;round&quot;, &quot;lineJoin&quot;: &quot;round&quot;, &quot;opacity&quot;: 1.0, &quot;radius&quot;: 1000, &quot;stroke&quot;: true, &quot;weight&quot;: 3}\n",
              "            ).addTo(map_ca164b0d8e935a9fc138fdb57e176f32);\n",
              "        \n",
              "    \n",
              "        var popup_3778b781fbff008cc2f4fd2e5c02a18a = L.popup({&quot;maxWidth&quot;: &quot;100%&quot;});\n",
              "\n",
              "        \n",
              "            var html_a084b7101c8d3834774b01f75aa602eb = $(`&lt;div id=&quot;html_a084b7101c8d3834774b01f75aa602eb&quot; style=&quot;width: 100.0%; height: 100.0%;&quot;&gt;CCAFS SLC-40&lt;/div&gt;`)[0];\n",
              "            popup_3778b781fbff008cc2f4fd2e5c02a18a.setContent(html_a084b7101c8d3834774b01f75aa602eb);\n",
              "        \n",
              "\n",
              "        circle_8d3745a5b1b432f69722ba94ba9d421a.bindPopup(popup_3778b781fbff008cc2f4fd2e5c02a18a)\n",
              "        ;\n",
              "\n",
              "        \n",
              "    \n",
              "    \n",
              "            var marker_c4c56ab35d9f853ca64f443452cb3a9c = L.marker(\n",
              "                [28.56319718, -80.57682003],\n",
              "                {}\n",
              "            ).addTo(map_ca164b0d8e935a9fc138fdb57e176f32);\n",
              "        \n",
              "    \n",
              "            var div_icon_4cbdb842f940ea77356de619f75b96ff = L.divIcon({&quot;className&quot;: &quot;empty&quot;, &quot;html&quot;: &quot;\\u003cdiv style=\\&quot;font-size: 12; color:#d35400;\\&quot;\\u003e\\u003cb\\u003eCCAFS SLC-40\\u003c/b\\u003e\\u003c/div\\u003e&quot;, &quot;iconAnchor&quot;: [0, 0], &quot;iconSize&quot;: [20, 20]});\n",
              "            marker_c4c56ab35d9f853ca64f443452cb3a9c.setIcon(div_icon_4cbdb842f940ea77356de619f75b96ff);\n",
              "        \n",
              "    \n",
              "            var circle_f57cd5addda7be41cd998fb687217092 = L.circle(\n",
              "                [28.57325457, -80.64689529],\n",
              "                {&quot;bubblingMouseEvents&quot;: true, &quot;color&quot;: &quot;#000000&quot;, &quot;dashArray&quot;: null, &quot;dashOffset&quot;: null, &quot;fill&quot;: true, &quot;fillColor&quot;: &quot;#000000&quot;, &quot;fillOpacity&quot;: 0.2, &quot;fillRule&quot;: &quot;evenodd&quot;, &quot;lineCap&quot;: &quot;round&quot;, &quot;lineJoin&quot;: &quot;round&quot;, &quot;opacity&quot;: 1.0, &quot;radius&quot;: 1000, &quot;stroke&quot;: true, &quot;weight&quot;: 3}\n",
              "            ).addTo(map_ca164b0d8e935a9fc138fdb57e176f32);\n",
              "        \n",
              "    \n",
              "        var popup_5d40009b2c6759438e0c0954b5646f20 = L.popup({&quot;maxWidth&quot;: &quot;100%&quot;});\n",
              "\n",
              "        \n",
              "            var html_62703fab3e0621f84be3e948635c7e26 = $(`&lt;div id=&quot;html_62703fab3e0621f84be3e948635c7e26&quot; style=&quot;width: 100.0%; height: 100.0%;&quot;&gt;KSC LC-39A&lt;/div&gt;`)[0];\n",
              "            popup_5d40009b2c6759438e0c0954b5646f20.setContent(html_62703fab3e0621f84be3e948635c7e26);\n",
              "        \n",
              "\n",
              "        circle_f57cd5addda7be41cd998fb687217092.bindPopup(popup_5d40009b2c6759438e0c0954b5646f20)\n",
              "        ;\n",
              "\n",
              "        \n",
              "    \n",
              "    \n",
              "            var marker_c48c617871c549e6fbd0b24c2bced599 = L.marker(\n",
              "                [28.57325457, -80.64689529],\n",
              "                {}\n",
              "            ).addTo(map_ca164b0d8e935a9fc138fdb57e176f32);\n",
              "        \n",
              "    \n",
              "            var div_icon_29632f404d5745238d553490c23e1641 = L.divIcon({&quot;className&quot;: &quot;empty&quot;, &quot;html&quot;: &quot;\\u003cdiv style=\\&quot;font-size: 12; color:#d35400;\\&quot;\\u003e\\u003cb\\u003eKSC LC-39A\\u003c/b\\u003e\\u003c/div\\u003e&quot;, &quot;iconAnchor&quot;: [0, 0], &quot;iconSize&quot;: [20, 20]});\n",
              "            marker_c48c617871c549e6fbd0b24c2bced599.setIcon(div_icon_29632f404d5745238d553490c23e1641);\n",
              "        \n",
              "    \n",
              "            var circle_4ecb6fbe7141366c2192e34081fca8b1 = L.circle(\n",
              "                [34.63283416, -120.6107455],\n",
              "                {&quot;bubblingMouseEvents&quot;: true, &quot;color&quot;: &quot;#000000&quot;, &quot;dashArray&quot;: null, &quot;dashOffset&quot;: null, &quot;fill&quot;: true, &quot;fillColor&quot;: &quot;#000000&quot;, &quot;fillOpacity&quot;: 0.2, &quot;fillRule&quot;: &quot;evenodd&quot;, &quot;lineCap&quot;: &quot;round&quot;, &quot;lineJoin&quot;: &quot;round&quot;, &quot;opacity&quot;: 1.0, &quot;radius&quot;: 1000, &quot;stroke&quot;: true, &quot;weight&quot;: 3}\n",
              "            ).addTo(map_ca164b0d8e935a9fc138fdb57e176f32);\n",
              "        \n",
              "    \n",
              "        var popup_ef2ddd5c2828f006768eec86626de6bd = L.popup({&quot;maxWidth&quot;: &quot;100%&quot;});\n",
              "\n",
              "        \n",
              "            var html_021b3c03524831b2d7e036d3bcfde15d = $(`&lt;div id=&quot;html_021b3c03524831b2d7e036d3bcfde15d&quot; style=&quot;width: 100.0%; height: 100.0%;&quot;&gt;VAFB SLC-4E&lt;/div&gt;`)[0];\n",
              "            popup_ef2ddd5c2828f006768eec86626de6bd.setContent(html_021b3c03524831b2d7e036d3bcfde15d);\n",
              "        \n",
              "\n",
              "        circle_4ecb6fbe7141366c2192e34081fca8b1.bindPopup(popup_ef2ddd5c2828f006768eec86626de6bd)\n",
              "        ;\n",
              "\n",
              "        \n",
              "    \n",
              "    \n",
              "            var marker_ea0cbeada3e88c75cf23a0db26a52478 = L.marker(\n",
              "                [34.63283416, -120.6107455],\n",
              "                {}\n",
              "            ).addTo(map_ca164b0d8e935a9fc138fdb57e176f32);\n",
              "        \n",
              "    \n",
              "            var div_icon_153d6a910cab836076fbe63c47f77584 = L.divIcon({&quot;className&quot;: &quot;empty&quot;, &quot;html&quot;: &quot;\\u003cdiv style=\\&quot;font-size: 12; color:#d35400;\\&quot;\\u003e\\u003cb\\u003eVAFB SLC-4E\\u003c/b\\u003e\\u003c/div\\u003e&quot;, &quot;iconAnchor&quot;: [0, 0], &quot;iconSize&quot;: [20, 20]});\n",
              "            marker_ea0cbeada3e88c75cf23a0db26a52478.setIcon(div_icon_153d6a910cab836076fbe63c47f77584);\n",
              "        \n",
              "    \n",
              "            var marker_cluster_cc99868247f54b806b40fa325871c672 = L.markerClusterGroup(\n",
              "                {}\n",
              "            );\n",
              "            map_ca164b0d8e935a9fc138fdb57e176f32.addLayer(marker_cluster_cc99868247f54b806b40fa325871c672);\n",
              "        \n",
              "    \n",
              "            var marker_6df51aa567acbcd45fa32a09793ccf87 = L.marker(\n",
              "                [29.559684888503615, -95.0830971930759],\n",
              "                {}\n",
              "            ).addTo(marker_cluster_cc99868247f54b806b40fa325871c672);\n",
              "        \n",
              "    \n",
              "            var div_icon_498bdc286d988cf56be7a45c0a161a4b = L.divIcon({&quot;className&quot;: &quot;empty&quot;, &quot;html&quot;: &quot;\\u003cdiv style=\\&quot;font-size: 12; color:#d35400;\\&quot;\\u003e\\u003cb\\u003eNASA JSC\\u003c/b\\u003e\\u003c/div\\u003e&quot;, &quot;iconAnchor&quot;: [0, 0], &quot;iconSize&quot;: [20, 20]});\n",
              "            marker_6df51aa567acbcd45fa32a09793ccf87.setIcon(div_icon_498bdc286d988cf56be7a45c0a161a4b);\n",
              "        \n",
              "    \n",
              "            var mouse_position_2aea5dc19d1696e4a9ea7747c9207dc4 = new L.Control.MousePosition(\n",
              "                {&quot;emptyString&quot;: &quot;NaN&quot;, &quot;lngFirst&quot;: false, &quot;numDigits&quot;: 20, &quot;position&quot;: &quot;topright&quot;, &quot;prefix&quot;: &quot;Lat:&quot;, &quot;separator&quot;: &quot; Long: &quot;}\n",
              "            );\n",
              "            mouse_position_2aea5dc19d1696e4a9ea7747c9207dc4.options[&quot;latFormatter&quot;] =\n",
              "                function(num) {return L.Util.formatNum(num, 5);};;\n",
              "            mouse_position_2aea5dc19d1696e4a9ea7747c9207dc4.options[&quot;lngFormatter&quot;] =\n",
              "                function(num) {return L.Util.formatNum(num, 5);};;\n",
              "            map_ca164b0d8e935a9fc138fdb57e176f32.addControl(mouse_position_2aea5dc19d1696e4a9ea7747c9207dc4);\n",
              "        \n",
              "&lt;/script&gt;\" style=\"position:absolute;width:100%;height:100%;left:0;top:0;border:none !important;\" allowfullscreen webkitallowfullscreen mozallowfullscreen></iframe></div></div>"
            ]
          },
          "metadata": {},
          "execution_count": 15
        }
      ],
      "source": [
        "# Add Mouse Position to get the coordinate (Lat, Long) for a mouse over on the map\n",
        "formatter = \"function(num) {return L.Util.formatNum(num, 5);};\"\n",
        "mouse_position = MousePosition(\n",
        "    position='topright',\n",
        "    separator=' Long: ',\n",
        "    empty_string='NaN',\n",
        "    lng_first=False,\n",
        "    num_digits=20,\n",
        "    prefix='Lat:',\n",
        "    lat_formatter=formatter,\n",
        "    lng_formatter=formatter,\n",
        ")\n",
        "\n",
        "site_map.add_child(mouse_position)\n",
        "site_map"
      ]
    },
    {
      "cell_type": "markdown",
      "metadata": {
        "id": "SdjHFz6DNVna"
      },
      "source": [
        "Now zoom in to a launch site and explore its proximity to see if you can easily find any railway, highway, coastline, etc. Move your mouse to these points and mark down their coordinates (shown on the top-left) in order to the distance to the launch site.\n"
      ]
    },
    {
      "cell_type": "markdown",
      "metadata": {
        "id": "MVQPXQ1LNVna"
      },
      "source": [
        "You can calculate the distance between two points on the map based on their `Lat` and `Long` values using the following method:\n"
      ]
    },
    {
      "cell_type": "code",
      "execution_count": 16,
      "metadata": {
        "id": "JtxWaiLeNVna"
      },
      "outputs": [],
      "source": [
        "from math import sin, cos, sqrt, atan2, radians\n",
        "\n",
        "def calculate_distance(lat1, lon1, lat2, lon2):\n",
        "    # approximate radius of earth in km\n",
        "    R = 6373.0\n",
        "\n",
        "    lat1 = radians(lat1)\n",
        "    lon1 = radians(lon1)\n",
        "    lat2 = radians(lat2)\n",
        "    lon2 = radians(lon2)\n",
        "\n",
        "    dlon = lon2 - lon1\n",
        "    dlat = lat2 - lat1\n",
        "\n",
        "    a = sin(dlat / 2)**2 + cos(lat1) * cos(lat2) * sin(dlon / 2)**2\n",
        "    c = 2 * atan2(sqrt(a), sqrt(1 - a))\n",
        "\n",
        "    distance = R * c\n",
        "    return distance"
      ]
    },
    {
      "cell_type": "markdown",
      "metadata": {
        "id": "4Evq--ruNVnb"
      },
      "source": [
        "*TODO:* Mark down a point on the closest coastline using MousePosition and calculate the distance between the coastline point and the launch site.\n"
      ]
    },
    {
      "cell_type": "code",
      "execution_count": 17,
      "metadata": {
        "colab": {
          "base_uri": "https://localhost:8080/"
        },
        "id": "b5QE-BmTNVnb",
        "outputId": "2364fafa-b3ed-4550-b274-8f2a82d0acf8"
      },
      "outputs": [
        {
          "output_type": "stream",
          "name": "stdout",
          "text": [
            "0.8627671182499878  km\n"
          ]
        }
      ],
      "source": [
        "# find coordinate of the closet coastline\n",
        "# e.g.,: Lat: 28.56367  Lon: -80.57163\n",
        "# distance_coastline = calculate_distance(launch_site_lat, launch_site_lon, coastline_lat, coastline_lon)\n",
        "launch_site_lat = 28.563197\n",
        "launch_site_lon = -80.576820\n",
        "coastline_lat = 28.56334\n",
        "coastline_lon = -80.56799\n",
        "distance_coastline = calculate_distance(launch_site_lat, launch_site_lon, coastline_lat, coastline_lon)\n",
        "print(distance_coastline,' km')"
      ]
    },
    {
      "cell_type": "markdown",
      "metadata": {
        "id": "6Ak69DyXNVnb"
      },
      "source": [
        "*TODO:* After obtained its coordinate, create a `folium.Marker` to show the distance\n"
      ]
    },
    {
      "cell_type": "code",
      "execution_count": 18,
      "metadata": {
        "colab": {
          "base_uri": "https://localhost:8080/",
          "height": 520
        },
        "id": "7gr1y_5KNVnc",
        "outputId": "c7c02b99-2876-4c53-91be-6e009786e870"
      },
      "outputs": [
        {
          "output_type": "execute_result",
          "data": {
            "text/plain": [
              "<folium.folium.Map at 0x7f584d3b32d0>"
            ],
            "text/html": [
              "<div style=\"width:100%;\"><div style=\"position:relative;width:100%;height:0;padding-bottom:60%;\"><span style=\"color:#565656\">Make this Notebook Trusted to load map: File -> Trust Notebook</span><iframe srcdoc=\"&lt;!DOCTYPE html&gt;\n",
              "&lt;head&gt;    \n",
              "    &lt;meta http-equiv=&quot;content-type&quot; content=&quot;text/html; charset=UTF-8&quot; /&gt;\n",
              "    \n",
              "        &lt;script&gt;\n",
              "            L_NO_TOUCH = false;\n",
              "            L_DISABLE_3D = false;\n",
              "        &lt;/script&gt;\n",
              "    \n",
              "    &lt;style&gt;html, body {width: 100%;height: 100%;margin: 0;padding: 0;}&lt;/style&gt;\n",
              "    &lt;style&gt;#map {position:absolute;top:0;bottom:0;right:0;left:0;}&lt;/style&gt;\n",
              "    &lt;script src=&quot;https://cdn.jsdelivr.net/npm/leaflet@1.6.0/dist/leaflet.js&quot;&gt;&lt;/script&gt;\n",
              "    &lt;script src=&quot;https://code.jquery.com/jquery-1.12.4.min.js&quot;&gt;&lt;/script&gt;\n",
              "    &lt;script src=&quot;https://maxcdn.bootstrapcdn.com/bootstrap/3.2.0/js/bootstrap.min.js&quot;&gt;&lt;/script&gt;\n",
              "    &lt;script src=&quot;https://cdnjs.cloudflare.com/ajax/libs/Leaflet.awesome-markers/2.0.2/leaflet.awesome-markers.js&quot;&gt;&lt;/script&gt;\n",
              "    &lt;link rel=&quot;stylesheet&quot; href=&quot;https://cdn.jsdelivr.net/npm/leaflet@1.6.0/dist/leaflet.css&quot;/&gt;\n",
              "    &lt;link rel=&quot;stylesheet&quot; href=&quot;https://maxcdn.bootstrapcdn.com/bootstrap/3.2.0/css/bootstrap.min.css&quot;/&gt;\n",
              "    &lt;link rel=&quot;stylesheet&quot; href=&quot;https://maxcdn.bootstrapcdn.com/bootstrap/3.2.0/css/bootstrap-theme.min.css&quot;/&gt;\n",
              "    &lt;link rel=&quot;stylesheet&quot; href=&quot;https://maxcdn.bootstrapcdn.com/font-awesome/4.6.3/css/font-awesome.min.css&quot;/&gt;\n",
              "    &lt;link rel=&quot;stylesheet&quot; href=&quot;https://cdnjs.cloudflare.com/ajax/libs/Leaflet.awesome-markers/2.0.2/leaflet.awesome-markers.css&quot;/&gt;\n",
              "    &lt;link rel=&quot;stylesheet&quot; href=&quot;https://cdn.jsdelivr.net/gh/python-visualization/folium/folium/templates/leaflet.awesome.rotate.min.css&quot;/&gt;\n",
              "    \n",
              "            &lt;meta name=&quot;viewport&quot; content=&quot;width=device-width,\n",
              "                initial-scale=1.0, maximum-scale=1.0, user-scalable=no&quot; /&gt;\n",
              "            &lt;style&gt;\n",
              "                #map_ca164b0d8e935a9fc138fdb57e176f32 {\n",
              "                    position: relative;\n",
              "                    width: 100.0%;\n",
              "                    height: 100.0%;\n",
              "                    left: 0.0%;\n",
              "                    top: 0.0%;\n",
              "                }\n",
              "            &lt;/style&gt;\n",
              "        \n",
              "    &lt;script src=&quot;https://cdnjs.cloudflare.com/ajax/libs/leaflet.markercluster/1.1.0/leaflet.markercluster.js&quot;&gt;&lt;/script&gt;\n",
              "    &lt;link rel=&quot;stylesheet&quot; href=&quot;https://cdnjs.cloudflare.com/ajax/libs/leaflet.markercluster/1.1.0/MarkerCluster.css&quot;/&gt;\n",
              "    &lt;link rel=&quot;stylesheet&quot; href=&quot;https://cdnjs.cloudflare.com/ajax/libs/leaflet.markercluster/1.1.0/MarkerCluster.Default.css&quot;/&gt;\n",
              "    &lt;script src=&quot;https://cdn.jsdelivr.net/gh/ardhi/Leaflet.MousePosition/src/L.Control.MousePosition.min.js&quot;&gt;&lt;/script&gt;\n",
              "    &lt;link rel=&quot;stylesheet&quot; href=&quot;https://cdn.jsdelivr.net/gh/ardhi/Leaflet.MousePosition/src/L.Control.MousePosition.min.css&quot;/&gt;\n",
              "&lt;/head&gt;\n",
              "&lt;body&gt;    \n",
              "    \n",
              "            &lt;div class=&quot;folium-map&quot; id=&quot;map_ca164b0d8e935a9fc138fdb57e176f32&quot; &gt;&lt;/div&gt;\n",
              "        \n",
              "&lt;/body&gt;\n",
              "&lt;script&gt;    \n",
              "    \n",
              "            var map_ca164b0d8e935a9fc138fdb57e176f32 = L.map(\n",
              "                &quot;map_ca164b0d8e935a9fc138fdb57e176f32&quot;,\n",
              "                {\n",
              "                    center: [29.559684888503615, -95.0830971930759],\n",
              "                    crs: L.CRS.EPSG3857,\n",
              "                    zoom: 5,\n",
              "                    zoomControl: true,\n",
              "                    preferCanvas: false,\n",
              "                }\n",
              "            );\n",
              "\n",
              "            \n",
              "\n",
              "        \n",
              "    \n",
              "            var tile_layer_2174c296bd9b2500b56fac7f1870dfc0 = L.tileLayer(\n",
              "                &quot;https://{s}.tile.openstreetmap.org/{z}/{x}/{y}.png&quot;,\n",
              "                {&quot;attribution&quot;: &quot;Data by \\u0026copy; \\u003ca href=\\&quot;http://openstreetmap.org\\&quot;\\u003eOpenStreetMap\\u003c/a\\u003e, under \\u003ca href=\\&quot;http://www.openstreetmap.org/copyright\\&quot;\\u003eODbL\\u003c/a\\u003e.&quot;, &quot;detectRetina&quot;: false, &quot;maxNativeZoom&quot;: 18, &quot;maxZoom&quot;: 18, &quot;minZoom&quot;: 0, &quot;noWrap&quot;: false, &quot;opacity&quot;: 1, &quot;subdomains&quot;: &quot;abc&quot;, &quot;tms&quot;: false}\n",
              "            ).addTo(map_ca164b0d8e935a9fc138fdb57e176f32);\n",
              "        \n",
              "    \n",
              "            var circle_56c3da30f8c13824942b38a71aecb9c5 = L.circle(\n",
              "                [28.56230197, -80.57735648],\n",
              "                {&quot;bubblingMouseEvents&quot;: true, &quot;color&quot;: &quot;#000000&quot;, &quot;dashArray&quot;: null, &quot;dashOffset&quot;: null, &quot;fill&quot;: true, &quot;fillColor&quot;: &quot;#000000&quot;, &quot;fillOpacity&quot;: 0.2, &quot;fillRule&quot;: &quot;evenodd&quot;, &quot;lineCap&quot;: &quot;round&quot;, &quot;lineJoin&quot;: &quot;round&quot;, &quot;opacity&quot;: 1.0, &quot;radius&quot;: 1000, &quot;stroke&quot;: true, &quot;weight&quot;: 3}\n",
              "            ).addTo(map_ca164b0d8e935a9fc138fdb57e176f32);\n",
              "        \n",
              "    \n",
              "        var popup_c73ff2337e84423378686d6caaeab8e2 = L.popup({&quot;maxWidth&quot;: &quot;100%&quot;});\n",
              "\n",
              "        \n",
              "            var html_f7f4cfae125de3733c17a1169c2620ed = $(`&lt;div id=&quot;html_f7f4cfae125de3733c17a1169c2620ed&quot; style=&quot;width: 100.0%; height: 100.0%;&quot;&gt;CCAFS LC-40&lt;/div&gt;`)[0];\n",
              "            popup_c73ff2337e84423378686d6caaeab8e2.setContent(html_f7f4cfae125de3733c17a1169c2620ed);\n",
              "        \n",
              "\n",
              "        circle_56c3da30f8c13824942b38a71aecb9c5.bindPopup(popup_c73ff2337e84423378686d6caaeab8e2)\n",
              "        ;\n",
              "\n",
              "        \n",
              "    \n",
              "    \n",
              "            var marker_019a8117644e4277ca5b9a0c44efa468 = L.marker(\n",
              "                [28.56230197, -80.57735648],\n",
              "                {}\n",
              "            ).addTo(map_ca164b0d8e935a9fc138fdb57e176f32);\n",
              "        \n",
              "    \n",
              "            var div_icon_abfca272471e1c8d10cf851d77b36dc8 = L.divIcon({&quot;className&quot;: &quot;empty&quot;, &quot;html&quot;: &quot;\\u003cdiv style=\\&quot;font-size: 12; color:#d35400;\\&quot;\\u003e\\u003cb\\u003eCCAFS LC-40\\u003c/b\\u003e\\u003c/div\\u003e&quot;, &quot;iconAnchor&quot;: [0, 0], &quot;iconSize&quot;: [20, 20]});\n",
              "            marker_019a8117644e4277ca5b9a0c44efa468.setIcon(div_icon_abfca272471e1c8d10cf851d77b36dc8);\n",
              "        \n",
              "    \n",
              "            var circle_8d3745a5b1b432f69722ba94ba9d421a = L.circle(\n",
              "                [28.56319718, -80.57682003],\n",
              "                {&quot;bubblingMouseEvents&quot;: true, &quot;color&quot;: &quot;#000000&quot;, &quot;dashArray&quot;: null, &quot;dashOffset&quot;: null, &quot;fill&quot;: true, &quot;fillColor&quot;: &quot;#000000&quot;, &quot;fillOpacity&quot;: 0.2, &quot;fillRule&quot;: &quot;evenodd&quot;, &quot;lineCap&quot;: &quot;round&quot;, &quot;lineJoin&quot;: &quot;round&quot;, &quot;opacity&quot;: 1.0, &quot;radius&quot;: 1000, &quot;stroke&quot;: true, &quot;weight&quot;: 3}\n",
              "            ).addTo(map_ca164b0d8e935a9fc138fdb57e176f32);\n",
              "        \n",
              "    \n",
              "        var popup_3778b781fbff008cc2f4fd2e5c02a18a = L.popup({&quot;maxWidth&quot;: &quot;100%&quot;});\n",
              "\n",
              "        \n",
              "            var html_a084b7101c8d3834774b01f75aa602eb = $(`&lt;div id=&quot;html_a084b7101c8d3834774b01f75aa602eb&quot; style=&quot;width: 100.0%; height: 100.0%;&quot;&gt;CCAFS SLC-40&lt;/div&gt;`)[0];\n",
              "            popup_3778b781fbff008cc2f4fd2e5c02a18a.setContent(html_a084b7101c8d3834774b01f75aa602eb);\n",
              "        \n",
              "\n",
              "        circle_8d3745a5b1b432f69722ba94ba9d421a.bindPopup(popup_3778b781fbff008cc2f4fd2e5c02a18a)\n",
              "        ;\n",
              "\n",
              "        \n",
              "    \n",
              "    \n",
              "            var marker_c4c56ab35d9f853ca64f443452cb3a9c = L.marker(\n",
              "                [28.56319718, -80.57682003],\n",
              "                {}\n",
              "            ).addTo(map_ca164b0d8e935a9fc138fdb57e176f32);\n",
              "        \n",
              "    \n",
              "            var div_icon_4cbdb842f940ea77356de619f75b96ff = L.divIcon({&quot;className&quot;: &quot;empty&quot;, &quot;html&quot;: &quot;\\u003cdiv style=\\&quot;font-size: 12; color:#d35400;\\&quot;\\u003e\\u003cb\\u003eCCAFS SLC-40\\u003c/b\\u003e\\u003c/div\\u003e&quot;, &quot;iconAnchor&quot;: [0, 0], &quot;iconSize&quot;: [20, 20]});\n",
              "            marker_c4c56ab35d9f853ca64f443452cb3a9c.setIcon(div_icon_4cbdb842f940ea77356de619f75b96ff);\n",
              "        \n",
              "    \n",
              "            var circle_f57cd5addda7be41cd998fb687217092 = L.circle(\n",
              "                [28.57325457, -80.64689529],\n",
              "                {&quot;bubblingMouseEvents&quot;: true, &quot;color&quot;: &quot;#000000&quot;, &quot;dashArray&quot;: null, &quot;dashOffset&quot;: null, &quot;fill&quot;: true, &quot;fillColor&quot;: &quot;#000000&quot;, &quot;fillOpacity&quot;: 0.2, &quot;fillRule&quot;: &quot;evenodd&quot;, &quot;lineCap&quot;: &quot;round&quot;, &quot;lineJoin&quot;: &quot;round&quot;, &quot;opacity&quot;: 1.0, &quot;radius&quot;: 1000, &quot;stroke&quot;: true, &quot;weight&quot;: 3}\n",
              "            ).addTo(map_ca164b0d8e935a9fc138fdb57e176f32);\n",
              "        \n",
              "    \n",
              "        var popup_5d40009b2c6759438e0c0954b5646f20 = L.popup({&quot;maxWidth&quot;: &quot;100%&quot;});\n",
              "\n",
              "        \n",
              "            var html_62703fab3e0621f84be3e948635c7e26 = $(`&lt;div id=&quot;html_62703fab3e0621f84be3e948635c7e26&quot; style=&quot;width: 100.0%; height: 100.0%;&quot;&gt;KSC LC-39A&lt;/div&gt;`)[0];\n",
              "            popup_5d40009b2c6759438e0c0954b5646f20.setContent(html_62703fab3e0621f84be3e948635c7e26);\n",
              "        \n",
              "\n",
              "        circle_f57cd5addda7be41cd998fb687217092.bindPopup(popup_5d40009b2c6759438e0c0954b5646f20)\n",
              "        ;\n",
              "\n",
              "        \n",
              "    \n",
              "    \n",
              "            var marker_c48c617871c549e6fbd0b24c2bced599 = L.marker(\n",
              "                [28.57325457, -80.64689529],\n",
              "                {}\n",
              "            ).addTo(map_ca164b0d8e935a9fc138fdb57e176f32);\n",
              "        \n",
              "    \n",
              "            var div_icon_29632f404d5745238d553490c23e1641 = L.divIcon({&quot;className&quot;: &quot;empty&quot;, &quot;html&quot;: &quot;\\u003cdiv style=\\&quot;font-size: 12; color:#d35400;\\&quot;\\u003e\\u003cb\\u003eKSC LC-39A\\u003c/b\\u003e\\u003c/div\\u003e&quot;, &quot;iconAnchor&quot;: [0, 0], &quot;iconSize&quot;: [20, 20]});\n",
              "            marker_c48c617871c549e6fbd0b24c2bced599.setIcon(div_icon_29632f404d5745238d553490c23e1641);\n",
              "        \n",
              "    \n",
              "            var circle_4ecb6fbe7141366c2192e34081fca8b1 = L.circle(\n",
              "                [34.63283416, -120.6107455],\n",
              "                {&quot;bubblingMouseEvents&quot;: true, &quot;color&quot;: &quot;#000000&quot;, &quot;dashArray&quot;: null, &quot;dashOffset&quot;: null, &quot;fill&quot;: true, &quot;fillColor&quot;: &quot;#000000&quot;, &quot;fillOpacity&quot;: 0.2, &quot;fillRule&quot;: &quot;evenodd&quot;, &quot;lineCap&quot;: &quot;round&quot;, &quot;lineJoin&quot;: &quot;round&quot;, &quot;opacity&quot;: 1.0, &quot;radius&quot;: 1000, &quot;stroke&quot;: true, &quot;weight&quot;: 3}\n",
              "            ).addTo(map_ca164b0d8e935a9fc138fdb57e176f32);\n",
              "        \n",
              "    \n",
              "        var popup_ef2ddd5c2828f006768eec86626de6bd = L.popup({&quot;maxWidth&quot;: &quot;100%&quot;});\n",
              "\n",
              "        \n",
              "            var html_021b3c03524831b2d7e036d3bcfde15d = $(`&lt;div id=&quot;html_021b3c03524831b2d7e036d3bcfde15d&quot; style=&quot;width: 100.0%; height: 100.0%;&quot;&gt;VAFB SLC-4E&lt;/div&gt;`)[0];\n",
              "            popup_ef2ddd5c2828f006768eec86626de6bd.setContent(html_021b3c03524831b2d7e036d3bcfde15d);\n",
              "        \n",
              "\n",
              "        circle_4ecb6fbe7141366c2192e34081fca8b1.bindPopup(popup_ef2ddd5c2828f006768eec86626de6bd)\n",
              "        ;\n",
              "\n",
              "        \n",
              "    \n",
              "    \n",
              "            var marker_ea0cbeada3e88c75cf23a0db26a52478 = L.marker(\n",
              "                [34.63283416, -120.6107455],\n",
              "                {}\n",
              "            ).addTo(map_ca164b0d8e935a9fc138fdb57e176f32);\n",
              "        \n",
              "    \n",
              "            var div_icon_153d6a910cab836076fbe63c47f77584 = L.divIcon({&quot;className&quot;: &quot;empty&quot;, &quot;html&quot;: &quot;\\u003cdiv style=\\&quot;font-size: 12; color:#d35400;\\&quot;\\u003e\\u003cb\\u003eVAFB SLC-4E\\u003c/b\\u003e\\u003c/div\\u003e&quot;, &quot;iconAnchor&quot;: [0, 0], &quot;iconSize&quot;: [20, 20]});\n",
              "            marker_ea0cbeada3e88c75cf23a0db26a52478.setIcon(div_icon_153d6a910cab836076fbe63c47f77584);\n",
              "        \n",
              "    \n",
              "            var marker_cluster_cc99868247f54b806b40fa325871c672 = L.markerClusterGroup(\n",
              "                {}\n",
              "            );\n",
              "            map_ca164b0d8e935a9fc138fdb57e176f32.addLayer(marker_cluster_cc99868247f54b806b40fa325871c672);\n",
              "        \n",
              "    \n",
              "            var marker_6df51aa567acbcd45fa32a09793ccf87 = L.marker(\n",
              "                [29.559684888503615, -95.0830971930759],\n",
              "                {}\n",
              "            ).addTo(marker_cluster_cc99868247f54b806b40fa325871c672);\n",
              "        \n",
              "    \n",
              "            var div_icon_498bdc286d988cf56be7a45c0a161a4b = L.divIcon({&quot;className&quot;: &quot;empty&quot;, &quot;html&quot;: &quot;\\u003cdiv style=\\&quot;font-size: 12; color:#d35400;\\&quot;\\u003e\\u003cb\\u003eNASA JSC\\u003c/b\\u003e\\u003c/div\\u003e&quot;, &quot;iconAnchor&quot;: [0, 0], &quot;iconSize&quot;: [20, 20]});\n",
              "            marker_6df51aa567acbcd45fa32a09793ccf87.setIcon(div_icon_498bdc286d988cf56be7a45c0a161a4b);\n",
              "        \n",
              "    \n",
              "            var mouse_position_2aea5dc19d1696e4a9ea7747c9207dc4 = new L.Control.MousePosition(\n",
              "                {&quot;emptyString&quot;: &quot;NaN&quot;, &quot;lngFirst&quot;: false, &quot;numDigits&quot;: 20, &quot;position&quot;: &quot;topright&quot;, &quot;prefix&quot;: &quot;Lat:&quot;, &quot;separator&quot;: &quot; Long: &quot;}\n",
              "            );\n",
              "            mouse_position_2aea5dc19d1696e4a9ea7747c9207dc4.options[&quot;latFormatter&quot;] =\n",
              "                function(num) {return L.Util.formatNum(num, 5);};;\n",
              "            mouse_position_2aea5dc19d1696e4a9ea7747c9207dc4.options[&quot;lngFormatter&quot;] =\n",
              "                function(num) {return L.Util.formatNum(num, 5);};;\n",
              "            map_ca164b0d8e935a9fc138fdb57e176f32.addControl(mouse_position_2aea5dc19d1696e4a9ea7747c9207dc4);\n",
              "        \n",
              "    \n",
              "            var marker_24088d43c06305aefc622244538a3b1b = L.marker(\n",
              "                [28.56334, -80.56799],\n",
              "                {}\n",
              "            ).addTo(map_ca164b0d8e935a9fc138fdb57e176f32);\n",
              "        \n",
              "    \n",
              "            var div_icon_505f447290b35e12e02e3e62b4696817 = L.divIcon({&quot;className&quot;: &quot;empty&quot;, &quot;html&quot;: &quot;\\u003cdiv style=\\&quot;font-size: 12; color:#d35400;\\&quot;\\u003e\\u003cb\\u003e      0.86 KM\\u003c/b\\u003e\\u003c/div\\u003e&quot;, &quot;iconAnchor&quot;: [0, 0], &quot;iconSize&quot;: [20, 20]});\n",
              "            marker_24088d43c06305aefc622244538a3b1b.setIcon(div_icon_505f447290b35e12e02e3e62b4696817);\n",
              "        \n",
              "&lt;/script&gt;\" style=\"position:absolute;width:100%;height:100%;left:0;top:0;border:none !important;\" allowfullscreen webkitallowfullscreen mozallowfullscreen></iframe></div></div>"
            ]
          },
          "metadata": {},
          "execution_count": 18
        }
      ],
      "source": [
        "# Create and add a folium.Marker on your selected closest coastline point on the map\n",
        "# Display the distance between coastline point and launch site using the icon property \n",
        "# for example\n",
        "# distance_marker = folium.Marker(\n",
        "#    coordinate,\n",
        "#    icon=DivIcon(\n",
        "#        icon_size=(20,20),\n",
        "#        icon_anchor=(0,0),\n",
        "#        html='<div style=\"font-size: 12; color:#d35400;\"><b>%s</b></div>' % \"{:10.2f} KM\".format(distance),\n",
        "#        )\n",
        "#    )\n",
        "distance_marker = folium.Marker(\n",
        "   [coastline_lat, coastline_lon],\n",
        "   icon=DivIcon(\n",
        "       icon_size=(20,20),\n",
        "       icon_anchor=(0,0),\n",
        "       html='<div style=\"font-size: 12; color:#d35400;\"><b>%s</b></div>' % \"{:10.2f} KM\".format(distance_coastline),\n",
        "       )\n",
        "   )\n",
        "site_map.add_child(distance_marker)"
      ]
    },
    {
      "cell_type": "markdown",
      "metadata": {
        "id": "ybLNS9NxNVnc"
      },
      "source": [
        "*TODO:* Draw a `PolyLine` between a launch site to the selected coastline point\n"
      ]
    },
    {
      "cell_type": "code",
      "execution_count": 19,
      "metadata": {
        "colab": {
          "base_uri": "https://localhost:8080/",
          "height": 520
        },
        "id": "6OdHfziDNVnc",
        "outputId": "75cde198-8718-4518-c3b2-91caddcec194"
      },
      "outputs": [
        {
          "output_type": "execute_result",
          "data": {
            "text/plain": [
              "<folium.folium.Map at 0x7f584d3b32d0>"
            ],
            "text/html": [
              "<div style=\"width:100%;\"><div style=\"position:relative;width:100%;height:0;padding-bottom:60%;\"><span style=\"color:#565656\">Make this Notebook Trusted to load map: File -> Trust Notebook</span><iframe srcdoc=\"&lt;!DOCTYPE html&gt;\n",
              "&lt;head&gt;    \n",
              "    &lt;meta http-equiv=&quot;content-type&quot; content=&quot;text/html; charset=UTF-8&quot; /&gt;\n",
              "    \n",
              "        &lt;script&gt;\n",
              "            L_NO_TOUCH = false;\n",
              "            L_DISABLE_3D = false;\n",
              "        &lt;/script&gt;\n",
              "    \n",
              "    &lt;style&gt;html, body {width: 100%;height: 100%;margin: 0;padding: 0;}&lt;/style&gt;\n",
              "    &lt;style&gt;#map {position:absolute;top:0;bottom:0;right:0;left:0;}&lt;/style&gt;\n",
              "    &lt;script src=&quot;https://cdn.jsdelivr.net/npm/leaflet@1.6.0/dist/leaflet.js&quot;&gt;&lt;/script&gt;\n",
              "    &lt;script src=&quot;https://code.jquery.com/jquery-1.12.4.min.js&quot;&gt;&lt;/script&gt;\n",
              "    &lt;script src=&quot;https://maxcdn.bootstrapcdn.com/bootstrap/3.2.0/js/bootstrap.min.js&quot;&gt;&lt;/script&gt;\n",
              "    &lt;script src=&quot;https://cdnjs.cloudflare.com/ajax/libs/Leaflet.awesome-markers/2.0.2/leaflet.awesome-markers.js&quot;&gt;&lt;/script&gt;\n",
              "    &lt;link rel=&quot;stylesheet&quot; href=&quot;https://cdn.jsdelivr.net/npm/leaflet@1.6.0/dist/leaflet.css&quot;/&gt;\n",
              "    &lt;link rel=&quot;stylesheet&quot; href=&quot;https://maxcdn.bootstrapcdn.com/bootstrap/3.2.0/css/bootstrap.min.css&quot;/&gt;\n",
              "    &lt;link rel=&quot;stylesheet&quot; href=&quot;https://maxcdn.bootstrapcdn.com/bootstrap/3.2.0/css/bootstrap-theme.min.css&quot;/&gt;\n",
              "    &lt;link rel=&quot;stylesheet&quot; href=&quot;https://maxcdn.bootstrapcdn.com/font-awesome/4.6.3/css/font-awesome.min.css&quot;/&gt;\n",
              "    &lt;link rel=&quot;stylesheet&quot; href=&quot;https://cdnjs.cloudflare.com/ajax/libs/Leaflet.awesome-markers/2.0.2/leaflet.awesome-markers.css&quot;/&gt;\n",
              "    &lt;link rel=&quot;stylesheet&quot; href=&quot;https://cdn.jsdelivr.net/gh/python-visualization/folium/folium/templates/leaflet.awesome.rotate.min.css&quot;/&gt;\n",
              "    \n",
              "            &lt;meta name=&quot;viewport&quot; content=&quot;width=device-width,\n",
              "                initial-scale=1.0, maximum-scale=1.0, user-scalable=no&quot; /&gt;\n",
              "            &lt;style&gt;\n",
              "                #map_ca164b0d8e935a9fc138fdb57e176f32 {\n",
              "                    position: relative;\n",
              "                    width: 100.0%;\n",
              "                    height: 100.0%;\n",
              "                    left: 0.0%;\n",
              "                    top: 0.0%;\n",
              "                }\n",
              "            &lt;/style&gt;\n",
              "        \n",
              "    &lt;script src=&quot;https://cdnjs.cloudflare.com/ajax/libs/leaflet.markercluster/1.1.0/leaflet.markercluster.js&quot;&gt;&lt;/script&gt;\n",
              "    &lt;link rel=&quot;stylesheet&quot; href=&quot;https://cdnjs.cloudflare.com/ajax/libs/leaflet.markercluster/1.1.0/MarkerCluster.css&quot;/&gt;\n",
              "    &lt;link rel=&quot;stylesheet&quot; href=&quot;https://cdnjs.cloudflare.com/ajax/libs/leaflet.markercluster/1.1.0/MarkerCluster.Default.css&quot;/&gt;\n",
              "    &lt;script src=&quot;https://cdn.jsdelivr.net/gh/ardhi/Leaflet.MousePosition/src/L.Control.MousePosition.min.js&quot;&gt;&lt;/script&gt;\n",
              "    &lt;link rel=&quot;stylesheet&quot; href=&quot;https://cdn.jsdelivr.net/gh/ardhi/Leaflet.MousePosition/src/L.Control.MousePosition.min.css&quot;/&gt;\n",
              "&lt;/head&gt;\n",
              "&lt;body&gt;    \n",
              "    \n",
              "            &lt;div class=&quot;folium-map&quot; id=&quot;map_ca164b0d8e935a9fc138fdb57e176f32&quot; &gt;&lt;/div&gt;\n",
              "        \n",
              "&lt;/body&gt;\n",
              "&lt;script&gt;    \n",
              "    \n",
              "            var map_ca164b0d8e935a9fc138fdb57e176f32 = L.map(\n",
              "                &quot;map_ca164b0d8e935a9fc138fdb57e176f32&quot;,\n",
              "                {\n",
              "                    center: [29.559684888503615, -95.0830971930759],\n",
              "                    crs: L.CRS.EPSG3857,\n",
              "                    zoom: 5,\n",
              "                    zoomControl: true,\n",
              "                    preferCanvas: false,\n",
              "                }\n",
              "            );\n",
              "\n",
              "            \n",
              "\n",
              "        \n",
              "    \n",
              "            var tile_layer_2174c296bd9b2500b56fac7f1870dfc0 = L.tileLayer(\n",
              "                &quot;https://{s}.tile.openstreetmap.org/{z}/{x}/{y}.png&quot;,\n",
              "                {&quot;attribution&quot;: &quot;Data by \\u0026copy; \\u003ca href=\\&quot;http://openstreetmap.org\\&quot;\\u003eOpenStreetMap\\u003c/a\\u003e, under \\u003ca href=\\&quot;http://www.openstreetmap.org/copyright\\&quot;\\u003eODbL\\u003c/a\\u003e.&quot;, &quot;detectRetina&quot;: false, &quot;maxNativeZoom&quot;: 18, &quot;maxZoom&quot;: 18, &quot;minZoom&quot;: 0, &quot;noWrap&quot;: false, &quot;opacity&quot;: 1, &quot;subdomains&quot;: &quot;abc&quot;, &quot;tms&quot;: false}\n",
              "            ).addTo(map_ca164b0d8e935a9fc138fdb57e176f32);\n",
              "        \n",
              "    \n",
              "            var circle_56c3da30f8c13824942b38a71aecb9c5 = L.circle(\n",
              "                [28.56230197, -80.57735648],\n",
              "                {&quot;bubblingMouseEvents&quot;: true, &quot;color&quot;: &quot;#000000&quot;, &quot;dashArray&quot;: null, &quot;dashOffset&quot;: null, &quot;fill&quot;: true, &quot;fillColor&quot;: &quot;#000000&quot;, &quot;fillOpacity&quot;: 0.2, &quot;fillRule&quot;: &quot;evenodd&quot;, &quot;lineCap&quot;: &quot;round&quot;, &quot;lineJoin&quot;: &quot;round&quot;, &quot;opacity&quot;: 1.0, &quot;radius&quot;: 1000, &quot;stroke&quot;: true, &quot;weight&quot;: 3}\n",
              "            ).addTo(map_ca164b0d8e935a9fc138fdb57e176f32);\n",
              "        \n",
              "    \n",
              "        var popup_c73ff2337e84423378686d6caaeab8e2 = L.popup({&quot;maxWidth&quot;: &quot;100%&quot;});\n",
              "\n",
              "        \n",
              "            var html_f7f4cfae125de3733c17a1169c2620ed = $(`&lt;div id=&quot;html_f7f4cfae125de3733c17a1169c2620ed&quot; style=&quot;width: 100.0%; height: 100.0%;&quot;&gt;CCAFS LC-40&lt;/div&gt;`)[0];\n",
              "            popup_c73ff2337e84423378686d6caaeab8e2.setContent(html_f7f4cfae125de3733c17a1169c2620ed);\n",
              "        \n",
              "\n",
              "        circle_56c3da30f8c13824942b38a71aecb9c5.bindPopup(popup_c73ff2337e84423378686d6caaeab8e2)\n",
              "        ;\n",
              "\n",
              "        \n",
              "    \n",
              "    \n",
              "            var marker_019a8117644e4277ca5b9a0c44efa468 = L.marker(\n",
              "                [28.56230197, -80.57735648],\n",
              "                {}\n",
              "            ).addTo(map_ca164b0d8e935a9fc138fdb57e176f32);\n",
              "        \n",
              "    \n",
              "            var div_icon_abfca272471e1c8d10cf851d77b36dc8 = L.divIcon({&quot;className&quot;: &quot;empty&quot;, &quot;html&quot;: &quot;\\u003cdiv style=\\&quot;font-size: 12; color:#d35400;\\&quot;\\u003e\\u003cb\\u003eCCAFS LC-40\\u003c/b\\u003e\\u003c/div\\u003e&quot;, &quot;iconAnchor&quot;: [0, 0], &quot;iconSize&quot;: [20, 20]});\n",
              "            marker_019a8117644e4277ca5b9a0c44efa468.setIcon(div_icon_abfca272471e1c8d10cf851d77b36dc8);\n",
              "        \n",
              "    \n",
              "            var circle_8d3745a5b1b432f69722ba94ba9d421a = L.circle(\n",
              "                [28.56319718, -80.57682003],\n",
              "                {&quot;bubblingMouseEvents&quot;: true, &quot;color&quot;: &quot;#000000&quot;, &quot;dashArray&quot;: null, &quot;dashOffset&quot;: null, &quot;fill&quot;: true, &quot;fillColor&quot;: &quot;#000000&quot;, &quot;fillOpacity&quot;: 0.2, &quot;fillRule&quot;: &quot;evenodd&quot;, &quot;lineCap&quot;: &quot;round&quot;, &quot;lineJoin&quot;: &quot;round&quot;, &quot;opacity&quot;: 1.0, &quot;radius&quot;: 1000, &quot;stroke&quot;: true, &quot;weight&quot;: 3}\n",
              "            ).addTo(map_ca164b0d8e935a9fc138fdb57e176f32);\n",
              "        \n",
              "    \n",
              "        var popup_3778b781fbff008cc2f4fd2e5c02a18a = L.popup({&quot;maxWidth&quot;: &quot;100%&quot;});\n",
              "\n",
              "        \n",
              "            var html_a084b7101c8d3834774b01f75aa602eb = $(`&lt;div id=&quot;html_a084b7101c8d3834774b01f75aa602eb&quot; style=&quot;width: 100.0%; height: 100.0%;&quot;&gt;CCAFS SLC-40&lt;/div&gt;`)[0];\n",
              "            popup_3778b781fbff008cc2f4fd2e5c02a18a.setContent(html_a084b7101c8d3834774b01f75aa602eb);\n",
              "        \n",
              "\n",
              "        circle_8d3745a5b1b432f69722ba94ba9d421a.bindPopup(popup_3778b781fbff008cc2f4fd2e5c02a18a)\n",
              "        ;\n",
              "\n",
              "        \n",
              "    \n",
              "    \n",
              "            var marker_c4c56ab35d9f853ca64f443452cb3a9c = L.marker(\n",
              "                [28.56319718, -80.57682003],\n",
              "                {}\n",
              "            ).addTo(map_ca164b0d8e935a9fc138fdb57e176f32);\n",
              "        \n",
              "    \n",
              "            var div_icon_4cbdb842f940ea77356de619f75b96ff = L.divIcon({&quot;className&quot;: &quot;empty&quot;, &quot;html&quot;: &quot;\\u003cdiv style=\\&quot;font-size: 12; color:#d35400;\\&quot;\\u003e\\u003cb\\u003eCCAFS SLC-40\\u003c/b\\u003e\\u003c/div\\u003e&quot;, &quot;iconAnchor&quot;: [0, 0], &quot;iconSize&quot;: [20, 20]});\n",
              "            marker_c4c56ab35d9f853ca64f443452cb3a9c.setIcon(div_icon_4cbdb842f940ea77356de619f75b96ff);\n",
              "        \n",
              "    \n",
              "            var circle_f57cd5addda7be41cd998fb687217092 = L.circle(\n",
              "                [28.57325457, -80.64689529],\n",
              "                {&quot;bubblingMouseEvents&quot;: true, &quot;color&quot;: &quot;#000000&quot;, &quot;dashArray&quot;: null, &quot;dashOffset&quot;: null, &quot;fill&quot;: true, &quot;fillColor&quot;: &quot;#000000&quot;, &quot;fillOpacity&quot;: 0.2, &quot;fillRule&quot;: &quot;evenodd&quot;, &quot;lineCap&quot;: &quot;round&quot;, &quot;lineJoin&quot;: &quot;round&quot;, &quot;opacity&quot;: 1.0, &quot;radius&quot;: 1000, &quot;stroke&quot;: true, &quot;weight&quot;: 3}\n",
              "            ).addTo(map_ca164b0d8e935a9fc138fdb57e176f32);\n",
              "        \n",
              "    \n",
              "        var popup_5d40009b2c6759438e0c0954b5646f20 = L.popup({&quot;maxWidth&quot;: &quot;100%&quot;});\n",
              "\n",
              "        \n",
              "            var html_62703fab3e0621f84be3e948635c7e26 = $(`&lt;div id=&quot;html_62703fab3e0621f84be3e948635c7e26&quot; style=&quot;width: 100.0%; height: 100.0%;&quot;&gt;KSC LC-39A&lt;/div&gt;`)[0];\n",
              "            popup_5d40009b2c6759438e0c0954b5646f20.setContent(html_62703fab3e0621f84be3e948635c7e26);\n",
              "        \n",
              "\n",
              "        circle_f57cd5addda7be41cd998fb687217092.bindPopup(popup_5d40009b2c6759438e0c0954b5646f20)\n",
              "        ;\n",
              "\n",
              "        \n",
              "    \n",
              "    \n",
              "            var marker_c48c617871c549e6fbd0b24c2bced599 = L.marker(\n",
              "                [28.57325457, -80.64689529],\n",
              "                {}\n",
              "            ).addTo(map_ca164b0d8e935a9fc138fdb57e176f32);\n",
              "        \n",
              "    \n",
              "            var div_icon_29632f404d5745238d553490c23e1641 = L.divIcon({&quot;className&quot;: &quot;empty&quot;, &quot;html&quot;: &quot;\\u003cdiv style=\\&quot;font-size: 12; color:#d35400;\\&quot;\\u003e\\u003cb\\u003eKSC LC-39A\\u003c/b\\u003e\\u003c/div\\u003e&quot;, &quot;iconAnchor&quot;: [0, 0], &quot;iconSize&quot;: [20, 20]});\n",
              "            marker_c48c617871c549e6fbd0b24c2bced599.setIcon(div_icon_29632f404d5745238d553490c23e1641);\n",
              "        \n",
              "    \n",
              "            var circle_4ecb6fbe7141366c2192e34081fca8b1 = L.circle(\n",
              "                [34.63283416, -120.6107455],\n",
              "                {&quot;bubblingMouseEvents&quot;: true, &quot;color&quot;: &quot;#000000&quot;, &quot;dashArray&quot;: null, &quot;dashOffset&quot;: null, &quot;fill&quot;: true, &quot;fillColor&quot;: &quot;#000000&quot;, &quot;fillOpacity&quot;: 0.2, &quot;fillRule&quot;: &quot;evenodd&quot;, &quot;lineCap&quot;: &quot;round&quot;, &quot;lineJoin&quot;: &quot;round&quot;, &quot;opacity&quot;: 1.0, &quot;radius&quot;: 1000, &quot;stroke&quot;: true, &quot;weight&quot;: 3}\n",
              "            ).addTo(map_ca164b0d8e935a9fc138fdb57e176f32);\n",
              "        \n",
              "    \n",
              "        var popup_ef2ddd5c2828f006768eec86626de6bd = L.popup({&quot;maxWidth&quot;: &quot;100%&quot;});\n",
              "\n",
              "        \n",
              "            var html_021b3c03524831b2d7e036d3bcfde15d = $(`&lt;div id=&quot;html_021b3c03524831b2d7e036d3bcfde15d&quot; style=&quot;width: 100.0%; height: 100.0%;&quot;&gt;VAFB SLC-4E&lt;/div&gt;`)[0];\n",
              "            popup_ef2ddd5c2828f006768eec86626de6bd.setContent(html_021b3c03524831b2d7e036d3bcfde15d);\n",
              "        \n",
              "\n",
              "        circle_4ecb6fbe7141366c2192e34081fca8b1.bindPopup(popup_ef2ddd5c2828f006768eec86626de6bd)\n",
              "        ;\n",
              "\n",
              "        \n",
              "    \n",
              "    \n",
              "            var marker_ea0cbeada3e88c75cf23a0db26a52478 = L.marker(\n",
              "                [34.63283416, -120.6107455],\n",
              "                {}\n",
              "            ).addTo(map_ca164b0d8e935a9fc138fdb57e176f32);\n",
              "        \n",
              "    \n",
              "            var div_icon_153d6a910cab836076fbe63c47f77584 = L.divIcon({&quot;className&quot;: &quot;empty&quot;, &quot;html&quot;: &quot;\\u003cdiv style=\\&quot;font-size: 12; color:#d35400;\\&quot;\\u003e\\u003cb\\u003eVAFB SLC-4E\\u003c/b\\u003e\\u003c/div\\u003e&quot;, &quot;iconAnchor&quot;: [0, 0], &quot;iconSize&quot;: [20, 20]});\n",
              "            marker_ea0cbeada3e88c75cf23a0db26a52478.setIcon(div_icon_153d6a910cab836076fbe63c47f77584);\n",
              "        \n",
              "    \n",
              "            var marker_cluster_cc99868247f54b806b40fa325871c672 = L.markerClusterGroup(\n",
              "                {}\n",
              "            );\n",
              "            map_ca164b0d8e935a9fc138fdb57e176f32.addLayer(marker_cluster_cc99868247f54b806b40fa325871c672);\n",
              "        \n",
              "    \n",
              "            var marker_6df51aa567acbcd45fa32a09793ccf87 = L.marker(\n",
              "                [29.559684888503615, -95.0830971930759],\n",
              "                {}\n",
              "            ).addTo(marker_cluster_cc99868247f54b806b40fa325871c672);\n",
              "        \n",
              "    \n",
              "            var div_icon_498bdc286d988cf56be7a45c0a161a4b = L.divIcon({&quot;className&quot;: &quot;empty&quot;, &quot;html&quot;: &quot;\\u003cdiv style=\\&quot;font-size: 12; color:#d35400;\\&quot;\\u003e\\u003cb\\u003eNASA JSC\\u003c/b\\u003e\\u003c/div\\u003e&quot;, &quot;iconAnchor&quot;: [0, 0], &quot;iconSize&quot;: [20, 20]});\n",
              "            marker_6df51aa567acbcd45fa32a09793ccf87.setIcon(div_icon_498bdc286d988cf56be7a45c0a161a4b);\n",
              "        \n",
              "    \n",
              "            var mouse_position_2aea5dc19d1696e4a9ea7747c9207dc4 = new L.Control.MousePosition(\n",
              "                {&quot;emptyString&quot;: &quot;NaN&quot;, &quot;lngFirst&quot;: false, &quot;numDigits&quot;: 20, &quot;position&quot;: &quot;topright&quot;, &quot;prefix&quot;: &quot;Lat:&quot;, &quot;separator&quot;: &quot; Long: &quot;}\n",
              "            );\n",
              "            mouse_position_2aea5dc19d1696e4a9ea7747c9207dc4.options[&quot;latFormatter&quot;] =\n",
              "                function(num) {return L.Util.formatNum(num, 5);};;\n",
              "            mouse_position_2aea5dc19d1696e4a9ea7747c9207dc4.options[&quot;lngFormatter&quot;] =\n",
              "                function(num) {return L.Util.formatNum(num, 5);};;\n",
              "            map_ca164b0d8e935a9fc138fdb57e176f32.addControl(mouse_position_2aea5dc19d1696e4a9ea7747c9207dc4);\n",
              "        \n",
              "    \n",
              "            var marker_24088d43c06305aefc622244538a3b1b = L.marker(\n",
              "                [28.56334, -80.56799],\n",
              "                {}\n",
              "            ).addTo(map_ca164b0d8e935a9fc138fdb57e176f32);\n",
              "        \n",
              "    \n",
              "            var div_icon_505f447290b35e12e02e3e62b4696817 = L.divIcon({&quot;className&quot;: &quot;empty&quot;, &quot;html&quot;: &quot;\\u003cdiv style=\\&quot;font-size: 12; color:#d35400;\\&quot;\\u003e\\u003cb\\u003e      0.86 KM\\u003c/b\\u003e\\u003c/div\\u003e&quot;, &quot;iconAnchor&quot;: [0, 0], &quot;iconSize&quot;: [20, 20]});\n",
              "            marker_24088d43c06305aefc622244538a3b1b.setIcon(div_icon_505f447290b35e12e02e3e62b4696817);\n",
              "        \n",
              "    \n",
              "            var poly_line_9723e8a606d771b0ad08ab595900b1e5 = L.polyline(\n",
              "                [[28.563197, -80.57682], [28.56334, -80.56799]],\n",
              "                {&quot;bubblingMouseEvents&quot;: true, &quot;color&quot;: &quot;#3388ff&quot;, &quot;dashArray&quot;: null, &quot;dashOffset&quot;: null, &quot;fill&quot;: false, &quot;fillColor&quot;: &quot;#3388ff&quot;, &quot;fillOpacity&quot;: 0.2, &quot;fillRule&quot;: &quot;evenodd&quot;, &quot;lineCap&quot;: &quot;round&quot;, &quot;lineJoin&quot;: &quot;round&quot;, &quot;noClip&quot;: false, &quot;opacity&quot;: 1.0, &quot;smoothFactor&quot;: 1.0, &quot;stroke&quot;: true, &quot;weight&quot;: 1}\n",
              "            ).addTo(map_ca164b0d8e935a9fc138fdb57e176f32);\n",
              "        \n",
              "&lt;/script&gt;\" style=\"position:absolute;width:100%;height:100%;left:0;top:0;border:none !important;\" allowfullscreen webkitallowfullscreen mozallowfullscreen></iframe></div></div>"
            ]
          },
          "metadata": {},
          "execution_count": 19
        }
      ],
      "source": [
        "# Create a `folium.PolyLine` object using the coastline coordinates and launch site coordinate\n",
        "# lines=folium.PolyLine(locations=coordinates, weight=1)\n",
        "coordinates = [[launch_site_lat,launch_site_lon],[coastline_lat,coastline_lon]]\n",
        "lines=folium.PolyLine(locations=coordinates, weight=1)\n",
        "site_map.add_child(lines)"
      ]
    },
    {
      "cell_type": "markdown",
      "metadata": {
        "id": "Q2gjZD83NVnc"
      },
      "source": [
        "Your updated map with distance line should look like the following screenshot:\n"
      ]
    },
    {
      "cell_type": "markdown",
      "metadata": {
        "id": "1QlzIXCDNVnc"
      },
      "source": [
        "<center>\n",
        "    <img src=\"https://cf-courses-data.s3.us.cloud-object-storage.appdomain.cloud/IBM-DS0321EN-SkillsNetwork/labs/module_3/images/launch_site_marker_distance.png\" />\n",
        "</center>\n"
      ]
    },
    {
      "cell_type": "markdown",
      "metadata": {
        "id": "od0ojy7rNVnd"
      },
      "source": [
        "*TODO:* Similarly, you can draw a line betwee a launch site to its closest city, railway, highway, etc. You need to use `MousePosition` to find the their coordinates on the map first\n"
      ]
    },
    {
      "cell_type": "markdown",
      "metadata": {
        "id": "n-V_O75dNVnd"
      },
      "source": [
        "A railway map symbol may look like this:\n"
      ]
    },
    {
      "cell_type": "markdown",
      "metadata": {
        "id": "jEzp5qkXNVnd"
      },
      "source": [
        "<center>\n",
        "    <img src=\"https://cf-courses-data.s3.us.cloud-object-storage.appdomain.cloud/IBM-DS0321EN-SkillsNetwork/labs/module_3/images/railway.png\" />\n",
        "</center>\n"
      ]
    },
    {
      "cell_type": "markdown",
      "metadata": {
        "id": "uT7EDElvNVnd"
      },
      "source": [
        "A highway map symbol may look like this:\n"
      ]
    },
    {
      "cell_type": "markdown",
      "metadata": {
        "id": "I-ZqJTqqNVnd"
      },
      "source": [
        "<center>\n",
        "    <img src=\"https://cf-courses-data.s3.us.cloud-object-storage.appdomain.cloud/IBM-DS0321EN-SkillsNetwork/labs/module_3/images/highway.png\" />\n",
        "</center>\n"
      ]
    },
    {
      "cell_type": "markdown",
      "metadata": {
        "id": "uirWUhiSNVne"
      },
      "source": [
        "A city map symbol may look like this:\n"
      ]
    },
    {
      "cell_type": "markdown",
      "metadata": {
        "id": "MyoNsON6NVne"
      },
      "source": [
        "<center>\n",
        "    <img src=\"https://cf-courses-data.s3.us.cloud-object-storage.appdomain.cloud/IBM-DS0321EN-SkillsNetwork/labs/module_3/images/city.png\" />\n",
        "</center>\n"
      ]
    },
    {
      "cell_type": "code",
      "execution_count": 20,
      "metadata": {
        "id": "_rgp_wgANVne"
      },
      "outputs": [],
      "source": [
        "# Create a marker with distance to a closest city, railway, highway relative to CCAFS SLC-40\n",
        "# Draw a line between the marker to the launch site\n",
        "closest_highway = 28.56335, -80.57085\n",
        "closest_railroad = 28.57206, -80.58525\n",
        "closest_city = 28.10473, -80.64531"
      ]
    },
    {
      "cell_type": "code",
      "execution_count": 21,
      "metadata": {
        "colab": {
          "base_uri": "https://localhost:8080/"
        },
        "id": "d1ePSuVGNVne",
        "outputId": "8d361e33-4e44-420d-94dc-00775d39f277"
      },
      "outputs": [
        {
          "output_type": "stream",
          "name": "stdout",
          "text": [
            "distance_highway = 0.5834695366934144  km\n",
            "distance_railroad = 1.2845344718142522  km\n",
            "distance_city = 51.43416999517233  km\n"
          ]
        }
      ],
      "source": [
        "distance_highway = calculate_distance(launch_site_lat, launch_site_lon, closest_highway[0], closest_highway[1])\n",
        "print('distance_highway =',distance_highway, ' km')\n",
        "distance_railroad = calculate_distance(launch_site_lat, launch_site_lon, closest_railroad[0], closest_railroad[1])\n",
        "print('distance_railroad =',distance_railroad, ' km')\n",
        "distance_city = calculate_distance(launch_site_lat, launch_site_lon, closest_city[0], closest_city[1])\n",
        "print('distance_city =',distance_city, ' km')"
      ]
    },
    {
      "cell_type": "code",
      "execution_count": 22,
      "metadata": {
        "colab": {
          "base_uri": "https://localhost:8080/",
          "height": 520
        },
        "id": "sf5jsqqGNVne",
        "outputId": "455d54c9-a8d2-40e9-c811-48ec122d55b1"
      },
      "outputs": [
        {
          "output_type": "execute_result",
          "data": {
            "text/plain": [
              "<folium.folium.Map at 0x7f584d3b32d0>"
            ],
            "text/html": [
              "<div style=\"width:100%;\"><div style=\"position:relative;width:100%;height:0;padding-bottom:60%;\"><span style=\"color:#565656\">Make this Notebook Trusted to load map: File -> Trust Notebook</span><iframe srcdoc=\"&lt;!DOCTYPE html&gt;\n",
              "&lt;head&gt;    \n",
              "    &lt;meta http-equiv=&quot;content-type&quot; content=&quot;text/html; charset=UTF-8&quot; /&gt;\n",
              "    \n",
              "        &lt;script&gt;\n",
              "            L_NO_TOUCH = false;\n",
              "            L_DISABLE_3D = false;\n",
              "        &lt;/script&gt;\n",
              "    \n",
              "    &lt;style&gt;html, body {width: 100%;height: 100%;margin: 0;padding: 0;}&lt;/style&gt;\n",
              "    &lt;style&gt;#map {position:absolute;top:0;bottom:0;right:0;left:0;}&lt;/style&gt;\n",
              "    &lt;script src=&quot;https://cdn.jsdelivr.net/npm/leaflet@1.6.0/dist/leaflet.js&quot;&gt;&lt;/script&gt;\n",
              "    &lt;script src=&quot;https://code.jquery.com/jquery-1.12.4.min.js&quot;&gt;&lt;/script&gt;\n",
              "    &lt;script src=&quot;https://maxcdn.bootstrapcdn.com/bootstrap/3.2.0/js/bootstrap.min.js&quot;&gt;&lt;/script&gt;\n",
              "    &lt;script src=&quot;https://cdnjs.cloudflare.com/ajax/libs/Leaflet.awesome-markers/2.0.2/leaflet.awesome-markers.js&quot;&gt;&lt;/script&gt;\n",
              "    &lt;link rel=&quot;stylesheet&quot; href=&quot;https://cdn.jsdelivr.net/npm/leaflet@1.6.0/dist/leaflet.css&quot;/&gt;\n",
              "    &lt;link rel=&quot;stylesheet&quot; href=&quot;https://maxcdn.bootstrapcdn.com/bootstrap/3.2.0/css/bootstrap.min.css&quot;/&gt;\n",
              "    &lt;link rel=&quot;stylesheet&quot; href=&quot;https://maxcdn.bootstrapcdn.com/bootstrap/3.2.0/css/bootstrap-theme.min.css&quot;/&gt;\n",
              "    &lt;link rel=&quot;stylesheet&quot; href=&quot;https://maxcdn.bootstrapcdn.com/font-awesome/4.6.3/css/font-awesome.min.css&quot;/&gt;\n",
              "    &lt;link rel=&quot;stylesheet&quot; href=&quot;https://cdnjs.cloudflare.com/ajax/libs/Leaflet.awesome-markers/2.0.2/leaflet.awesome-markers.css&quot;/&gt;\n",
              "    &lt;link rel=&quot;stylesheet&quot; href=&quot;https://cdn.jsdelivr.net/gh/python-visualization/folium/folium/templates/leaflet.awesome.rotate.min.css&quot;/&gt;\n",
              "    \n",
              "            &lt;meta name=&quot;viewport&quot; content=&quot;width=device-width,\n",
              "                initial-scale=1.0, maximum-scale=1.0, user-scalable=no&quot; /&gt;\n",
              "            &lt;style&gt;\n",
              "                #map_ca164b0d8e935a9fc138fdb57e176f32 {\n",
              "                    position: relative;\n",
              "                    width: 100.0%;\n",
              "                    height: 100.0%;\n",
              "                    left: 0.0%;\n",
              "                    top: 0.0%;\n",
              "                }\n",
              "            &lt;/style&gt;\n",
              "        \n",
              "    &lt;script src=&quot;https://cdnjs.cloudflare.com/ajax/libs/leaflet.markercluster/1.1.0/leaflet.markercluster.js&quot;&gt;&lt;/script&gt;\n",
              "    &lt;link rel=&quot;stylesheet&quot; href=&quot;https://cdnjs.cloudflare.com/ajax/libs/leaflet.markercluster/1.1.0/MarkerCluster.css&quot;/&gt;\n",
              "    &lt;link rel=&quot;stylesheet&quot; href=&quot;https://cdnjs.cloudflare.com/ajax/libs/leaflet.markercluster/1.1.0/MarkerCluster.Default.css&quot;/&gt;\n",
              "    &lt;script src=&quot;https://cdn.jsdelivr.net/gh/ardhi/Leaflet.MousePosition/src/L.Control.MousePosition.min.js&quot;&gt;&lt;/script&gt;\n",
              "    &lt;link rel=&quot;stylesheet&quot; href=&quot;https://cdn.jsdelivr.net/gh/ardhi/Leaflet.MousePosition/src/L.Control.MousePosition.min.css&quot;/&gt;\n",
              "&lt;/head&gt;\n",
              "&lt;body&gt;    \n",
              "    \n",
              "            &lt;div class=&quot;folium-map&quot; id=&quot;map_ca164b0d8e935a9fc138fdb57e176f32&quot; &gt;&lt;/div&gt;\n",
              "        \n",
              "&lt;/body&gt;\n",
              "&lt;script&gt;    \n",
              "    \n",
              "            var map_ca164b0d8e935a9fc138fdb57e176f32 = L.map(\n",
              "                &quot;map_ca164b0d8e935a9fc138fdb57e176f32&quot;,\n",
              "                {\n",
              "                    center: [29.559684888503615, -95.0830971930759],\n",
              "                    crs: L.CRS.EPSG3857,\n",
              "                    zoom: 5,\n",
              "                    zoomControl: true,\n",
              "                    preferCanvas: false,\n",
              "                }\n",
              "            );\n",
              "\n",
              "            \n",
              "\n",
              "        \n",
              "    \n",
              "            var tile_layer_2174c296bd9b2500b56fac7f1870dfc0 = L.tileLayer(\n",
              "                &quot;https://{s}.tile.openstreetmap.org/{z}/{x}/{y}.png&quot;,\n",
              "                {&quot;attribution&quot;: &quot;Data by \\u0026copy; \\u003ca href=\\&quot;http://openstreetmap.org\\&quot;\\u003eOpenStreetMap\\u003c/a\\u003e, under \\u003ca href=\\&quot;http://www.openstreetmap.org/copyright\\&quot;\\u003eODbL\\u003c/a\\u003e.&quot;, &quot;detectRetina&quot;: false, &quot;maxNativeZoom&quot;: 18, &quot;maxZoom&quot;: 18, &quot;minZoom&quot;: 0, &quot;noWrap&quot;: false, &quot;opacity&quot;: 1, &quot;subdomains&quot;: &quot;abc&quot;, &quot;tms&quot;: false}\n",
              "            ).addTo(map_ca164b0d8e935a9fc138fdb57e176f32);\n",
              "        \n",
              "    \n",
              "            var circle_56c3da30f8c13824942b38a71aecb9c5 = L.circle(\n",
              "                [28.56230197, -80.57735648],\n",
              "                {&quot;bubblingMouseEvents&quot;: true, &quot;color&quot;: &quot;#000000&quot;, &quot;dashArray&quot;: null, &quot;dashOffset&quot;: null, &quot;fill&quot;: true, &quot;fillColor&quot;: &quot;#000000&quot;, &quot;fillOpacity&quot;: 0.2, &quot;fillRule&quot;: &quot;evenodd&quot;, &quot;lineCap&quot;: &quot;round&quot;, &quot;lineJoin&quot;: &quot;round&quot;, &quot;opacity&quot;: 1.0, &quot;radius&quot;: 1000, &quot;stroke&quot;: true, &quot;weight&quot;: 3}\n",
              "            ).addTo(map_ca164b0d8e935a9fc138fdb57e176f32);\n",
              "        \n",
              "    \n",
              "        var popup_c73ff2337e84423378686d6caaeab8e2 = L.popup({&quot;maxWidth&quot;: &quot;100%&quot;});\n",
              "\n",
              "        \n",
              "            var html_f7f4cfae125de3733c17a1169c2620ed = $(`&lt;div id=&quot;html_f7f4cfae125de3733c17a1169c2620ed&quot; style=&quot;width: 100.0%; height: 100.0%;&quot;&gt;CCAFS LC-40&lt;/div&gt;`)[0];\n",
              "            popup_c73ff2337e84423378686d6caaeab8e2.setContent(html_f7f4cfae125de3733c17a1169c2620ed);\n",
              "        \n",
              "\n",
              "        circle_56c3da30f8c13824942b38a71aecb9c5.bindPopup(popup_c73ff2337e84423378686d6caaeab8e2)\n",
              "        ;\n",
              "\n",
              "        \n",
              "    \n",
              "    \n",
              "            var marker_019a8117644e4277ca5b9a0c44efa468 = L.marker(\n",
              "                [28.56230197, -80.57735648],\n",
              "                {}\n",
              "            ).addTo(map_ca164b0d8e935a9fc138fdb57e176f32);\n",
              "        \n",
              "    \n",
              "            var div_icon_abfca272471e1c8d10cf851d77b36dc8 = L.divIcon({&quot;className&quot;: &quot;empty&quot;, &quot;html&quot;: &quot;\\u003cdiv style=\\&quot;font-size: 12; color:#d35400;\\&quot;\\u003e\\u003cb\\u003eCCAFS LC-40\\u003c/b\\u003e\\u003c/div\\u003e&quot;, &quot;iconAnchor&quot;: [0, 0], &quot;iconSize&quot;: [20, 20]});\n",
              "            marker_019a8117644e4277ca5b9a0c44efa468.setIcon(div_icon_abfca272471e1c8d10cf851d77b36dc8);\n",
              "        \n",
              "    \n",
              "            var circle_8d3745a5b1b432f69722ba94ba9d421a = L.circle(\n",
              "                [28.56319718, -80.57682003],\n",
              "                {&quot;bubblingMouseEvents&quot;: true, &quot;color&quot;: &quot;#000000&quot;, &quot;dashArray&quot;: null, &quot;dashOffset&quot;: null, &quot;fill&quot;: true, &quot;fillColor&quot;: &quot;#000000&quot;, &quot;fillOpacity&quot;: 0.2, &quot;fillRule&quot;: &quot;evenodd&quot;, &quot;lineCap&quot;: &quot;round&quot;, &quot;lineJoin&quot;: &quot;round&quot;, &quot;opacity&quot;: 1.0, &quot;radius&quot;: 1000, &quot;stroke&quot;: true, &quot;weight&quot;: 3}\n",
              "            ).addTo(map_ca164b0d8e935a9fc138fdb57e176f32);\n",
              "        \n",
              "    \n",
              "        var popup_3778b781fbff008cc2f4fd2e5c02a18a = L.popup({&quot;maxWidth&quot;: &quot;100%&quot;});\n",
              "\n",
              "        \n",
              "            var html_a084b7101c8d3834774b01f75aa602eb = $(`&lt;div id=&quot;html_a084b7101c8d3834774b01f75aa602eb&quot; style=&quot;width: 100.0%; height: 100.0%;&quot;&gt;CCAFS SLC-40&lt;/div&gt;`)[0];\n",
              "            popup_3778b781fbff008cc2f4fd2e5c02a18a.setContent(html_a084b7101c8d3834774b01f75aa602eb);\n",
              "        \n",
              "\n",
              "        circle_8d3745a5b1b432f69722ba94ba9d421a.bindPopup(popup_3778b781fbff008cc2f4fd2e5c02a18a)\n",
              "        ;\n",
              "\n",
              "        \n",
              "    \n",
              "    \n",
              "            var marker_c4c56ab35d9f853ca64f443452cb3a9c = L.marker(\n",
              "                [28.56319718, -80.57682003],\n",
              "                {}\n",
              "            ).addTo(map_ca164b0d8e935a9fc138fdb57e176f32);\n",
              "        \n",
              "    \n",
              "            var div_icon_4cbdb842f940ea77356de619f75b96ff = L.divIcon({&quot;className&quot;: &quot;empty&quot;, &quot;html&quot;: &quot;\\u003cdiv style=\\&quot;font-size: 12; color:#d35400;\\&quot;\\u003e\\u003cb\\u003eCCAFS SLC-40\\u003c/b\\u003e\\u003c/div\\u003e&quot;, &quot;iconAnchor&quot;: [0, 0], &quot;iconSize&quot;: [20, 20]});\n",
              "            marker_c4c56ab35d9f853ca64f443452cb3a9c.setIcon(div_icon_4cbdb842f940ea77356de619f75b96ff);\n",
              "        \n",
              "    \n",
              "            var circle_f57cd5addda7be41cd998fb687217092 = L.circle(\n",
              "                [28.57325457, -80.64689529],\n",
              "                {&quot;bubblingMouseEvents&quot;: true, &quot;color&quot;: &quot;#000000&quot;, &quot;dashArray&quot;: null, &quot;dashOffset&quot;: null, &quot;fill&quot;: true, &quot;fillColor&quot;: &quot;#000000&quot;, &quot;fillOpacity&quot;: 0.2, &quot;fillRule&quot;: &quot;evenodd&quot;, &quot;lineCap&quot;: &quot;round&quot;, &quot;lineJoin&quot;: &quot;round&quot;, &quot;opacity&quot;: 1.0, &quot;radius&quot;: 1000, &quot;stroke&quot;: true, &quot;weight&quot;: 3}\n",
              "            ).addTo(map_ca164b0d8e935a9fc138fdb57e176f32);\n",
              "        \n",
              "    \n",
              "        var popup_5d40009b2c6759438e0c0954b5646f20 = L.popup({&quot;maxWidth&quot;: &quot;100%&quot;});\n",
              "\n",
              "        \n",
              "            var html_62703fab3e0621f84be3e948635c7e26 = $(`&lt;div id=&quot;html_62703fab3e0621f84be3e948635c7e26&quot; style=&quot;width: 100.0%; height: 100.0%;&quot;&gt;KSC LC-39A&lt;/div&gt;`)[0];\n",
              "            popup_5d40009b2c6759438e0c0954b5646f20.setContent(html_62703fab3e0621f84be3e948635c7e26);\n",
              "        \n",
              "\n",
              "        circle_f57cd5addda7be41cd998fb687217092.bindPopup(popup_5d40009b2c6759438e0c0954b5646f20)\n",
              "        ;\n",
              "\n",
              "        \n",
              "    \n",
              "    \n",
              "            var marker_c48c617871c549e6fbd0b24c2bced599 = L.marker(\n",
              "                [28.57325457, -80.64689529],\n",
              "                {}\n",
              "            ).addTo(map_ca164b0d8e935a9fc138fdb57e176f32);\n",
              "        \n",
              "    \n",
              "            var div_icon_29632f404d5745238d553490c23e1641 = L.divIcon({&quot;className&quot;: &quot;empty&quot;, &quot;html&quot;: &quot;\\u003cdiv style=\\&quot;font-size: 12; color:#d35400;\\&quot;\\u003e\\u003cb\\u003eKSC LC-39A\\u003c/b\\u003e\\u003c/div\\u003e&quot;, &quot;iconAnchor&quot;: [0, 0], &quot;iconSize&quot;: [20, 20]});\n",
              "            marker_c48c617871c549e6fbd0b24c2bced599.setIcon(div_icon_29632f404d5745238d553490c23e1641);\n",
              "        \n",
              "    \n",
              "            var circle_4ecb6fbe7141366c2192e34081fca8b1 = L.circle(\n",
              "                [34.63283416, -120.6107455],\n",
              "                {&quot;bubblingMouseEvents&quot;: true, &quot;color&quot;: &quot;#000000&quot;, &quot;dashArray&quot;: null, &quot;dashOffset&quot;: null, &quot;fill&quot;: true, &quot;fillColor&quot;: &quot;#000000&quot;, &quot;fillOpacity&quot;: 0.2, &quot;fillRule&quot;: &quot;evenodd&quot;, &quot;lineCap&quot;: &quot;round&quot;, &quot;lineJoin&quot;: &quot;round&quot;, &quot;opacity&quot;: 1.0, &quot;radius&quot;: 1000, &quot;stroke&quot;: true, &quot;weight&quot;: 3}\n",
              "            ).addTo(map_ca164b0d8e935a9fc138fdb57e176f32);\n",
              "        \n",
              "    \n",
              "        var popup_ef2ddd5c2828f006768eec86626de6bd = L.popup({&quot;maxWidth&quot;: &quot;100%&quot;});\n",
              "\n",
              "        \n",
              "            var html_021b3c03524831b2d7e036d3bcfde15d = $(`&lt;div id=&quot;html_021b3c03524831b2d7e036d3bcfde15d&quot; style=&quot;width: 100.0%; height: 100.0%;&quot;&gt;VAFB SLC-4E&lt;/div&gt;`)[0];\n",
              "            popup_ef2ddd5c2828f006768eec86626de6bd.setContent(html_021b3c03524831b2d7e036d3bcfde15d);\n",
              "        \n",
              "\n",
              "        circle_4ecb6fbe7141366c2192e34081fca8b1.bindPopup(popup_ef2ddd5c2828f006768eec86626de6bd)\n",
              "        ;\n",
              "\n",
              "        \n",
              "    \n",
              "    \n",
              "            var marker_ea0cbeada3e88c75cf23a0db26a52478 = L.marker(\n",
              "                [34.63283416, -120.6107455],\n",
              "                {}\n",
              "            ).addTo(map_ca164b0d8e935a9fc138fdb57e176f32);\n",
              "        \n",
              "    \n",
              "            var div_icon_153d6a910cab836076fbe63c47f77584 = L.divIcon({&quot;className&quot;: &quot;empty&quot;, &quot;html&quot;: &quot;\\u003cdiv style=\\&quot;font-size: 12; color:#d35400;\\&quot;\\u003e\\u003cb\\u003eVAFB SLC-4E\\u003c/b\\u003e\\u003c/div\\u003e&quot;, &quot;iconAnchor&quot;: [0, 0], &quot;iconSize&quot;: [20, 20]});\n",
              "            marker_ea0cbeada3e88c75cf23a0db26a52478.setIcon(div_icon_153d6a910cab836076fbe63c47f77584);\n",
              "        \n",
              "    \n",
              "            var marker_cluster_cc99868247f54b806b40fa325871c672 = L.markerClusterGroup(\n",
              "                {}\n",
              "            );\n",
              "            map_ca164b0d8e935a9fc138fdb57e176f32.addLayer(marker_cluster_cc99868247f54b806b40fa325871c672);\n",
              "        \n",
              "    \n",
              "            var marker_6df51aa567acbcd45fa32a09793ccf87 = L.marker(\n",
              "                [29.559684888503615, -95.0830971930759],\n",
              "                {}\n",
              "            ).addTo(marker_cluster_cc99868247f54b806b40fa325871c672);\n",
              "        \n",
              "    \n",
              "            var div_icon_498bdc286d988cf56be7a45c0a161a4b = L.divIcon({&quot;className&quot;: &quot;empty&quot;, &quot;html&quot;: &quot;\\u003cdiv style=\\&quot;font-size: 12; color:#d35400;\\&quot;\\u003e\\u003cb\\u003eNASA JSC\\u003c/b\\u003e\\u003c/div\\u003e&quot;, &quot;iconAnchor&quot;: [0, 0], &quot;iconSize&quot;: [20, 20]});\n",
              "            marker_6df51aa567acbcd45fa32a09793ccf87.setIcon(div_icon_498bdc286d988cf56be7a45c0a161a4b);\n",
              "        \n",
              "    \n",
              "            var mouse_position_2aea5dc19d1696e4a9ea7747c9207dc4 = new L.Control.MousePosition(\n",
              "                {&quot;emptyString&quot;: &quot;NaN&quot;, &quot;lngFirst&quot;: false, &quot;numDigits&quot;: 20, &quot;position&quot;: &quot;topright&quot;, &quot;prefix&quot;: &quot;Lat:&quot;, &quot;separator&quot;: &quot; Long: &quot;}\n",
              "            );\n",
              "            mouse_position_2aea5dc19d1696e4a9ea7747c9207dc4.options[&quot;latFormatter&quot;] =\n",
              "                function(num) {return L.Util.formatNum(num, 5);};;\n",
              "            mouse_position_2aea5dc19d1696e4a9ea7747c9207dc4.options[&quot;lngFormatter&quot;] =\n",
              "                function(num) {return L.Util.formatNum(num, 5);};;\n",
              "            map_ca164b0d8e935a9fc138fdb57e176f32.addControl(mouse_position_2aea5dc19d1696e4a9ea7747c9207dc4);\n",
              "        \n",
              "    \n",
              "            var marker_24088d43c06305aefc622244538a3b1b = L.marker(\n",
              "                [28.56334, -80.56799],\n",
              "                {}\n",
              "            ).addTo(map_ca164b0d8e935a9fc138fdb57e176f32);\n",
              "        \n",
              "    \n",
              "            var div_icon_505f447290b35e12e02e3e62b4696817 = L.divIcon({&quot;className&quot;: &quot;empty&quot;, &quot;html&quot;: &quot;\\u003cdiv style=\\&quot;font-size: 12; color:#d35400;\\&quot;\\u003e\\u003cb\\u003e      0.86 KM\\u003c/b\\u003e\\u003c/div\\u003e&quot;, &quot;iconAnchor&quot;: [0, 0], &quot;iconSize&quot;: [20, 20]});\n",
              "            marker_24088d43c06305aefc622244538a3b1b.setIcon(div_icon_505f447290b35e12e02e3e62b4696817);\n",
              "        \n",
              "    \n",
              "            var poly_line_9723e8a606d771b0ad08ab595900b1e5 = L.polyline(\n",
              "                [[28.563197, -80.57682], [28.56334, -80.56799]],\n",
              "                {&quot;bubblingMouseEvents&quot;: true, &quot;color&quot;: &quot;#3388ff&quot;, &quot;dashArray&quot;: null, &quot;dashOffset&quot;: null, &quot;fill&quot;: false, &quot;fillColor&quot;: &quot;#3388ff&quot;, &quot;fillOpacity&quot;: 0.2, &quot;fillRule&quot;: &quot;evenodd&quot;, &quot;lineCap&quot;: &quot;round&quot;, &quot;lineJoin&quot;: &quot;round&quot;, &quot;noClip&quot;: false, &quot;opacity&quot;: 1.0, &quot;smoothFactor&quot;: 1.0, &quot;stroke&quot;: true, &quot;weight&quot;: 1}\n",
              "            ).addTo(map_ca164b0d8e935a9fc138fdb57e176f32);\n",
              "        \n",
              "    \n",
              "            var marker_9ed3200169f09b57c8a6224f190b0a82 = L.marker(\n",
              "                [28.56335, -80.57085],\n",
              "                {}\n",
              "            ).addTo(map_ca164b0d8e935a9fc138fdb57e176f32);\n",
              "        \n",
              "    \n",
              "            var div_icon_e34ff1a978d256fdcb82ce57873b3fd1 = L.divIcon({&quot;className&quot;: &quot;empty&quot;, &quot;html&quot;: &quot;\\u003cdiv style=\\&quot;font-size: 12; color:#d35400;\\&quot;\\u003e\\u003cb\\u003e      0.58 KM\\u003c/b\\u003e\\u003c/div\\u003e&quot;, &quot;iconAnchor&quot;: [0, 0], &quot;iconSize&quot;: [20, 20]});\n",
              "            marker_9ed3200169f09b57c8a6224f190b0a82.setIcon(div_icon_e34ff1a978d256fdcb82ce57873b3fd1);\n",
              "        \n",
              "    \n",
              "            var poly_line_59f4661540136b215c44b3f232e615ac = L.polyline(\n",
              "                [[28.563197, -80.57682], [28.56335, -80.57085]],\n",
              "                {&quot;bubblingMouseEvents&quot;: true, &quot;color&quot;: &quot;#3388ff&quot;, &quot;dashArray&quot;: null, &quot;dashOffset&quot;: null, &quot;fill&quot;: false, &quot;fillColor&quot;: &quot;#3388ff&quot;, &quot;fillOpacity&quot;: 0.2, &quot;fillRule&quot;: &quot;evenodd&quot;, &quot;lineCap&quot;: &quot;round&quot;, &quot;lineJoin&quot;: &quot;round&quot;, &quot;noClip&quot;: false, &quot;opacity&quot;: 1.0, &quot;smoothFactor&quot;: 1.0, &quot;stroke&quot;: true, &quot;weight&quot;: 1}\n",
              "            ).addTo(map_ca164b0d8e935a9fc138fdb57e176f32);\n",
              "        \n",
              "    \n",
              "            var marker_8f265d16317896c0bc8bbf4a2eede3fc = L.marker(\n",
              "                [28.57206, -80.58525],\n",
              "                {}\n",
              "            ).addTo(map_ca164b0d8e935a9fc138fdb57e176f32);\n",
              "        \n",
              "    \n",
              "            var div_icon_bdf4e5847ceada6c025581e2cc6a8b0f = L.divIcon({&quot;className&quot;: &quot;empty&quot;, &quot;html&quot;: &quot;\\u003cdiv style=\\&quot;font-size: 12; color:#d35400;\\&quot;\\u003e\\u003cb\\u003e      1.28 KM\\u003c/b\\u003e\\u003c/div\\u003e&quot;, &quot;iconAnchor&quot;: [0, 0], &quot;iconSize&quot;: [20, 20]});\n",
              "            marker_8f265d16317896c0bc8bbf4a2eede3fc.setIcon(div_icon_bdf4e5847ceada6c025581e2cc6a8b0f);\n",
              "        \n",
              "    \n",
              "            var poly_line_0fa3438540cb35915b91589ae8170e04 = L.polyline(\n",
              "                [[28.563197, -80.57682], [28.57206, -80.58525]],\n",
              "                {&quot;bubblingMouseEvents&quot;: true, &quot;color&quot;: &quot;#3388ff&quot;, &quot;dashArray&quot;: null, &quot;dashOffset&quot;: null, &quot;fill&quot;: false, &quot;fillColor&quot;: &quot;#3388ff&quot;, &quot;fillOpacity&quot;: 0.2, &quot;fillRule&quot;: &quot;evenodd&quot;, &quot;lineCap&quot;: &quot;round&quot;, &quot;lineJoin&quot;: &quot;round&quot;, &quot;noClip&quot;: false, &quot;opacity&quot;: 1.0, &quot;smoothFactor&quot;: 1.0, &quot;stroke&quot;: true, &quot;weight&quot;: 1}\n",
              "            ).addTo(map_ca164b0d8e935a9fc138fdb57e176f32);\n",
              "        \n",
              "    \n",
              "            var marker_ab876aa0985d36bc143cca9b9c769135 = L.marker(\n",
              "                [28.10473, -80.64531],\n",
              "                {}\n",
              "            ).addTo(map_ca164b0d8e935a9fc138fdb57e176f32);\n",
              "        \n",
              "    \n",
              "            var div_icon_9fade46377779d00d81108fc84cb4bb5 = L.divIcon({&quot;className&quot;: &quot;empty&quot;, &quot;html&quot;: &quot;\\u003cdiv style=\\&quot;font-size: 12; color:#d35400;\\&quot;\\u003e\\u003cb\\u003e     51.43 KM\\u003c/b\\u003e\\u003c/div\\u003e&quot;, &quot;iconAnchor&quot;: [0, 0], &quot;iconSize&quot;: [20, 20]});\n",
              "            marker_ab876aa0985d36bc143cca9b9c769135.setIcon(div_icon_9fade46377779d00d81108fc84cb4bb5);\n",
              "        \n",
              "    \n",
              "            var poly_line_13658edf0b7d9f3d47b6ae6084ea8909 = L.polyline(\n",
              "                [[28.563197, -80.57682], [28.10473, -80.64531]],\n",
              "                {&quot;bubblingMouseEvents&quot;: true, &quot;color&quot;: &quot;#3388ff&quot;, &quot;dashArray&quot;: null, &quot;dashOffset&quot;: null, &quot;fill&quot;: false, &quot;fillColor&quot;: &quot;#3388ff&quot;, &quot;fillOpacity&quot;: 0.2, &quot;fillRule&quot;: &quot;evenodd&quot;, &quot;lineCap&quot;: &quot;round&quot;, &quot;lineJoin&quot;: &quot;round&quot;, &quot;noClip&quot;: false, &quot;opacity&quot;: 1.0, &quot;smoothFactor&quot;: 1.0, &quot;stroke&quot;: true, &quot;weight&quot;: 1}\n",
              "            ).addTo(map_ca164b0d8e935a9fc138fdb57e176f32);\n",
              "        \n",
              "&lt;/script&gt;\" style=\"position:absolute;width:100%;height:100%;left:0;top:0;border:none !important;\" allowfullscreen webkitallowfullscreen mozallowfullscreen></iframe></div></div>"
            ]
          },
          "metadata": {},
          "execution_count": 22
        }
      ],
      "source": [
        "# closest highway marker\n",
        "distance_marker = folium.Marker(\n",
        "   closest_highway,\n",
        "   icon=DivIcon(\n",
        "       icon_size=(20,20),\n",
        "       icon_anchor=(0,0),\n",
        "       html='<div style=\"font-size: 12; color:#d35400;\"><b>%s</b></div>' % \"{:10.2f} KM\".format(distance_highway),\n",
        "       )\n",
        "   )\n",
        "site_map.add_child(distance_marker)\n",
        "# closest highway line\n",
        "coordinates = [[launch_site_lat,launch_site_lon],closest_highway]\n",
        "lines=folium.PolyLine(locations=coordinates, weight=1)\n",
        "site_map.add_child(lines)\n",
        "\n",
        "# closest railroad marker\n",
        "distance_marker = folium.Marker(\n",
        "   closest_railroad,\n",
        "   icon=DivIcon(\n",
        "       icon_size=(20,20),\n",
        "       icon_anchor=(0,0),\n",
        "       html='<div style=\"font-size: 12; color:#d35400;\"><b>%s</b></div>' % \"{:10.2f} KM\".format(distance_railroad),\n",
        "       )\n",
        "   )\n",
        "site_map.add_child(distance_marker)\n",
        "# closest railroad line\n",
        "coordinates = [[launch_site_lat,launch_site_lon],closest_railroad]\n",
        "lines=folium.PolyLine(locations=coordinates, weight=1)\n",
        "site_map.add_child(lines)\n",
        "\n",
        "# closest city marker\n",
        "distance_marker = folium.Marker(\n",
        "   closest_city,\n",
        "   icon=DivIcon(\n",
        "       icon_size=(20,20),\n",
        "       icon_anchor=(0,0),\n",
        "       html='<div style=\"font-size: 12; color:#d35400;\"><b>%s</b></div>' % \"{:10.2f} KM\".format(distance_city),\n",
        "       )\n",
        "   )\n",
        "site_map.add_child(distance_marker)\n",
        "# closest city line\n",
        "coordinates = [[launch_site_lat,launch_site_lon],closest_city]\n",
        "lines=folium.PolyLine(locations=coordinates, weight=1)\n",
        "site_map.add_child(lines)"
      ]
    },
    {
      "cell_type": "markdown",
      "metadata": {
        "id": "vWg3v3znNVne"
      },
      "source": [
        "After you plot distance lines to the proximities, you can answer the following questions easily:\n",
        "\n",
        "*   Are launch sites in close proximity to railways?\n",
        "*   Are launch sites in close proximity to highways?\n",
        "*   Are launch sites in close proximity to coastline?\n",
        "*   Do launch sites keep certain distance away from cities?\n",
        "\n",
        "Also please try to explain your findings.\n"
      ]
    },
    {
      "cell_type": "markdown",
      "metadata": {
        "id": "V_NuGIYvNVnf"
      },
      "source": [
        "# Next Steps:\n",
        "\n",
        "Now you have discovered many interesting insights related to the launch sites' location using folium, in a very interactive way. Next, you will need to build a dashboard using Ploty Dash on detailed launch records.\n"
      ]
    },
    {
      "cell_type": "markdown",
      "metadata": {
        "id": "Of4CV3NYNVnf"
      },
      "source": [
        "## Authors\n"
      ]
    },
    {
      "cell_type": "markdown",
      "metadata": {
        "id": "ZEHVFmD-NVnf"
      },
      "source": [
        "[Yan Luo](https://www.linkedin.com/in/yan-luo-96288783/?utm_medium=Exinfluencer&utm_source=Exinfluencer&utm_content=000026UJ&utm_term=10006555&utm_id=NA-SkillsNetwork-Channel-SkillsNetworkCoursesIBMDS0321ENSkillsNetwork26802033-2022-01-01)\n"
      ]
    },
    {
      "cell_type": "markdown",
      "metadata": {
        "id": "CRkXyuGBNVnf"
      },
      "source": [
        "### Other Contributors\n"
      ]
    },
    {
      "cell_type": "markdown",
      "metadata": {
        "id": "LJINlBDsNVnf"
      },
      "source": [
        "Joseph Santarcangelo\n"
      ]
    },
    {
      "cell_type": "markdown",
      "metadata": {
        "id": "NQwKKRgdNVng"
      },
      "source": [
        "## Change Log\n"
      ]
    },
    {
      "cell_type": "markdown",
      "metadata": {
        "id": "gc2Bre3LNVng"
      },
      "source": [
        "| Date (YYYY-MM-DD) | Version | Changed By | Change Description          |\n",
        "| ----------------- | ------- | ---------- | --------------------------- |\n",
        "| 2021-05-26        | 1.0     | Yan        | Created the initial version |\n"
      ]
    },
    {
      "cell_type": "markdown",
      "metadata": {
        "id": "6Ek3LrPsNVng"
      },
      "source": [
        "Copyright © 2021 IBM Corporation. All rights reserved.\n"
      ]
    }
  ],
  "metadata": {
    "kernelspec": {
      "display_name": "Python 3",
      "language": "python",
      "name": "python3"
    },
    "language_info": {
      "codemirror_mode": {
        "name": "ipython",
        "version": 3
      },
      "file_extension": ".py",
      "mimetype": "text/x-python",
      "name": "python",
      "nbconvert_exporter": "python",
      "pygments_lexer": "ipython3",
      "version": "3.8.8"
    },
    "papermill": {
      "duration": 142.196942,
      "end_time": "2020-09-19T06:29:13.341578",
      "environment_variables": {},
      "exception": null,
      "input_path": "__notebook__.ipynb",
      "output_path": "__notebook__.ipynb",
      "parameters": {},
      "start_time": "2020-09-19T06:26:51.144636",
      "version": "2.1.0"
    },
    "colab": {
      "provenance": [],
      "collapsed_sections": [
        "Of4CV3NYNVnf",
        "CRkXyuGBNVnf",
        "NQwKKRgdNVng"
      ]
    }
  },
  "nbformat": 4,
  "nbformat_minor": 0
}